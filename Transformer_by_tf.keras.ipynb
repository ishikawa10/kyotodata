{
  "nbformat": 4,
  "nbformat_minor": 0,
  "metadata": {
    "colab": {
      "name": "Colab の新しいコードエディタ",
      "provenance": [],
      "collapsed_sections": [],
      "machine_shape": "hm",
      "include_colab_link": true
    },
    "kernelspec": {
      "name": "python3",
      "display_name": "Python 3"
    },
    "accelerator": "TPU"
  },
  "cells": [
    {
      "cell_type": "markdown",
      "metadata": {
        "id": "view-in-github",
        "colab_type": "text"
      },
      "source": [
        "<a href=\"https://colab.research.google.com/github/ishikawa10/kyotodata/blob/master/Transformer_by_tf.keras.ipynb\" target=\"_parent\"><img src=\"https://colab.research.google.com/assets/colab-badge.svg\" alt=\"Open In Colab\"/></a>"
      ]
    },
    {
      "cell_type": "code",
      "metadata": {
        "id": "7dXU5XoM4vZ_",
        "colab_type": "code",
        "colab": {
          "base_uri": "https://localhost:8080/",
          "height": 34
        },
        "outputId": "f4bf7165-15f4-4468-e370-e7948a0340c3"
      },
      "source": [
        "from google.colab import drive\n",
        "drive.mount('/content/drive')"
      ],
      "execution_count": 4,
      "outputs": [
        {
          "output_type": "stream",
          "text": [
            "Drive already mounted at /content/drive; to attempt to forcibly remount, call drive.mount(\"/content/drive\", force_remount=True).\n"
          ],
          "name": "stdout"
        }
      ]
    },
    {
      "cell_type": "code",
      "metadata": {
        "id": "NykglTX84xVc",
        "colab_type": "code",
        "colab": {
          "base_uri": "https://localhost:8080/",
          "height": 34
        },
        "outputId": "5cc3822d-3d8a-4497-d0a7-665f3588945a"
      },
      "source": [
        "!git clone --recursive https://github.com/iki-taichi/tf-keras-transformer.git"
      ],
      "execution_count": 5,
      "outputs": [
        {
          "output_type": "stream",
          "text": [
            "fatal: destination path 'tf-keras-transformer' already exists and is not an empty directory.\n"
          ],
          "name": "stdout"
        }
      ]
    },
    {
      "cell_type": "code",
      "metadata": {
        "id": "AlIDymie4zKH",
        "colab_type": "code",
        "colab": {
          "base_uri": "https://localhost:8080/",
          "height": 119
        },
        "outputId": "2b316385-099b-41c6-ed07-34f7c8485542"
      },
      "source": [
        "!git clone --recursive https://github.com/ishikawa10/kyotodata.git"
      ],
      "execution_count": 5,
      "outputs": [
        {
          "output_type": "stream",
          "text": [
            "Cloning into 'kyotodata'...\n",
            "remote: Enumerating objects: 6, done.\u001b[K\n",
            "remote: Counting objects: 100% (6/6), done.\u001b[K\n",
            "remote: Compressing objects: 100% (6/6), done.\u001b[K\n",
            "remote: Total 6 (delta 0), reused 0 (delta 0), pack-reused 0\u001b[K\n",
            "Unpacking objects: 100% (6/6), done.\n"
          ],
          "name": "stdout"
        }
      ]
    },
    {
      "cell_type": "code",
      "metadata": {
        "id": "_5Xn3F3242kM",
        "colab_type": "code",
        "colab": {}
      },
      "source": [
        "!mkdir tf-keras-transformer/data/kyoto_corpus\n",
        "!cat kyotodata/* > tf-keras-transformer/data/kyoto_corpus/wiki_corpus_2.01.tar.gz"
      ],
      "execution_count": 0,
      "outputs": []
    },
    {
      "cell_type": "code",
      "metadata": {
        "id": "xN9Al0Hd4507",
        "colab_type": "code",
        "colab": {
          "base_uri": "https://localhost:8080/",
          "height": 51
        },
        "outputId": "19cb467d-3364-4afc-8d04-2d0659dd058a"
      },
      "source": [
        "%%bash \n",
        "sed -i -e \"s/urlretrieve(/#urlretrieve(/\" tf-keras-transformer/src/get_kyoto_corpus.py\n",
        "grep -n urlretrieve tf-keras-transformer/src/get_kyoto_corpus.py"
      ],
      "execution_count": 9,
      "outputs": [
        {
          "output_type": "stream",
          "text": [
            "16:from urllib.request import urlretrieve\n",
            "35:    ##urlretrieve(DOWNLOAD_URL, file_path)\n"
          ],
          "name": "stdout"
        }
      ]
    },
    {
      "cell_type": "code",
      "metadata": {
        "id": "XBKve_M_49G2",
        "colab_type": "code",
        "colab": {
          "base_uri": "https://localhost:8080/",
          "height": 34
        },
        "outputId": "09da0872-c0db-4e3d-bbe1-d614d4b60fb6"
      },
      "source": [
        "!pip install sentencepiece"
      ],
      "execution_count": 10,
      "outputs": [
        {
          "output_type": "stream",
          "text": [
            "Requirement already satisfied: sentencepiece in /usr/local/lib/python3.6/dist-packages (0.1.85)\n"
          ],
          "name": "stdout"
        }
      ]
    },
    {
      "cell_type": "code",
      "metadata": {
        "id": "AAloDy8m4-a4",
        "colab_type": "code",
        "colab": {}
      },
      "source": [
        "import os\n",
        "os.chdir('tf-keras-transformer')"
      ],
      "execution_count": 0,
      "outputs": []
    },
    {
      "cell_type": "code",
      "metadata": {
        "id": "jDFN9ICu5Ubw",
        "colab_type": "code",
        "colab": {
          "base_uri": "https://localhost:8080/",
          "height": 207
        },
        "outputId": "dbe6140a-ee0b-469b-a787-5631653eda22"
      },
      "source": [
        "!python src/get_kyoto_corpus.py"
      ],
      "execution_count": 12,
      "outputs": [
        {
          "output_type": "stream",
          "text": [
            "start downloading...\n",
            "downloaded\n",
            "start editing files...\n",
            "to convert 14111 xml files...\n",
            "data sample:(data/kyoto_corpus/GNM/GNM00340.xml)['Yoshino-onsen Hot Spring is located in Yoshino-cho, Yoshino County, Nara Prefecture.', '吉野温泉（よしのおんせん）は、奈良県吉野郡吉野町にある温泉。']\n",
            "data sample:(data/kyoto_corpus/GNM/GNM00340.xml)['Train: Get off at Kintetsu Yoshino Line Yoshino Station (Nara Prefecture).', '鉄道 近鉄吉野線吉野駅 (奈良県)下車。']\n",
            "data sample:(data/kyoto_corpus/GNM/GNM00340.xml)['Iron carbonate and hydrogen carbonate spring', '炭酸鉄泉、炭酸水素塩泉']\n",
            "data sample:(data/kyoto_corpus/GNM/GNM00340.xml)['The source of the hot spring is located near the Kissuiin in Mt. Yoshino.', '源泉は吉野山中の吉水院の近くに湧出している。']\n",
            "data/kyoto_corpus/GNM/GNM00155.xml skipped because of not well-formed (invalid token): line 2811, column 2425\n",
            "data/kyoto_en_ja_valid.csv,data/kyoto_en_ja.csv were created\n"
          ],
          "name": "stdout"
        }
      ]
    },
    {
      "cell_type": "code",
      "metadata": {
        "id": "nQ_OdJA75BKO",
        "colab_type": "code",
        "colab": {}
      },
      "source": [
        "from src.fitting import FitEnvironment"
      ],
      "execution_count": 0,
      "outputs": []
    },
    {
      "cell_type": "code",
      "metadata": {
        "id": "Lo_MVdCf5B2A",
        "colab_type": "code",
        "colab": {}
      },
      "source": [
        "env = FitEnvironment(\n",
        "        use_tpu=True,\n",
        "        batch_size=8,\n",
        "        input_len=(1024, 1024),\n",
        "        num_epoch=5,\n",
        "        output_dir='/content/drive/My Drive/transformer_model',\n",
        "        data_path=['data/kyoto_en_ja.csv'],\n",
        "        valid_path=['data/kyoto_en_ja_valid.csv'],\n",
        "        resume_model_path=None,\n",
        "        resume_initial_epoch=None,\n",
        "    )"
      ],
      "execution_count": 0,
      "outputs": []
    },
    {
      "cell_type": "code",
      "metadata": {
        "id": "8DJrojad5F6U",
        "colab_type": "code",
        "colab": {
          "base_uri": "https://localhost:8080/",
          "height": 1000
        },
        "outputId": "cf3e1563-b09c-47f5-bbfd-ea374d886cd2"
      },
      "source": [
        "wrapper = env.run()"
      ],
      "execution_count": 15,
      "outputs": [
        {
          "output_type": "stream",
          "text": [
            "INFO:tensorflow:training starting with env={\n",
            "  \"model_config\": \"{\\n  \\\"use_tpu\\\": true,\\n  \\\"tpu_grpc_url\\\": \\\"grpc://10.65.70.50:8470\\\",\\n  \\\"src_tokenizer\\\": \\\"sp_uncase_en_ja_40000\\\",\\n  \\\"tar_tokenizer\\\": \\\"sp_uncase_en_ja_40000\\\",\\n  \\\"use_same_embed\\\": true,\\n  \\\"block_num\\\": [\\n    6,\\n    6\\n  ],\\n  \\\"embed_dim\\\": 768,\\n  \\\"hidden_dim\\\": 3072,\\n  \\\"head_num\\\": 12,\\n  \\\"attention_activation\\\": \\\"relu\\\",\\n  \\\"feed_forward_activation\\\": \\\"gelu\\\",\\n  \\\"dropout_rate\\\": 0.1,\\n  \\\"input_len\\\": [\\n    1024,\\n    1024\\n  ],\\n  \\\"token_num\\\": [\\n    null,\\n    null\\n  ]\\n}\",\n",
            "  \"use_tpu\": true,\n",
            "  \"input_len\": [\n",
            "    1024,\n",
            "    1024\n",
            "  ],\n",
            "  \"work_dir\": \"model/transformer\",\n",
            "  \"output_dir\": \"/content/drive/My Drive/transformer_model\",\n",
            "  \"data_path\": [\n",
            "    \"data/kyoto_en_ja.csv\"\n",
            "  ],\n",
            "  \"valid_path\": [\n",
            "    \"data/kyoto_en_ja_valid.csv\"\n",
            "  ],\n",
            "  \"show_model_summary\": true,\n",
            "  \"batch_size\": 8,\n",
            "  \"num_epoch\": 5,\n",
            "  \"warm_step\": 4000,\n",
            "  \"train_callbacks\": [\n",
            "    \"<src.custom_callbacks.BatchLearningRateScheduler object at 0x7f5cbb09f6d8>\",\n",
            "    \"<tensorflow.python.keras.callbacks.ModelCheckpoint object at 0x7f5cbb09f748>\",\n",
            "    \"<tensorflow.python.keras.callbacks.TensorBoard object at 0x7f5cbb09f710>\",\n",
            "    \"<src.custom_callbacks.NBatchLogger object at 0x7f5cbb09f780>\"\n",
            "  ],\n",
            "  \"model_compiler\": \"<function FitEnvironment.get_default_model_compiler.<locals>._fun at 0x7f5d29fc98c8>\",\n",
            "  \"resume_model_path\": null,\n",
            "  \"resume_initial_epoch\": null,\n",
            "  \"_train_examples_truncate_num\": null\n",
            "}\n",
            "WARNING:tensorflow:From /usr/local/lib/python3.6/dist-packages/tensorflow/python/ops/resource_variable_ops.py:435: colocate_with (from tensorflow.python.framework.ops) is deprecated and will be removed in a future version.\n",
            "Instructions for updating:\n",
            "Colocations handled automatically by placer.\n",
            "WARNING:tensorflow:From /usr/local/lib/python3.6/dist-packages/tensorflow/python/keras/layers/core.py:143: calling dropout (from tensorflow.python.ops.nn_ops) with keep_prob is deprecated and will be removed in a future version.\n",
            "Instructions for updating:\n",
            "Please use `rate` instead of `keep_prob`. Rate should be set to `rate = 1 - keep_prob`.\n",
            "INFO:tensorflow:Querying Tensorflow master (grpc://10.65.70.50:8470) for TPU system metadata.\n",
            "INFO:tensorflow:Found TPU system:\n",
            "INFO:tensorflow:*** Num TPU Cores: 8\n",
            "INFO:tensorflow:*** Num TPU Workers: 1\n",
            "INFO:tensorflow:*** Num TPU Cores Per Worker: 8\n",
            "INFO:tensorflow:*** Available Device: _DeviceAttributes(/job:worker/replica:0/task:0/device:CPU:0, CPU, -1, 6131228656926033396)\n",
            "INFO:tensorflow:*** Available Device: _DeviceAttributes(/job:worker/replica:0/task:0/device:XLA_CPU:0, XLA_CPU, 17179869184, 17445789242933203528)\n",
            "INFO:tensorflow:*** Available Device: _DeviceAttributes(/job:worker/replica:0/task:0/device:TPU:0, TPU, 17179869184, 11587502471458118308)\n",
            "INFO:tensorflow:*** Available Device: _DeviceAttributes(/job:worker/replica:0/task:0/device:TPU:1, TPU, 17179869184, 13849680922663579354)\n",
            "INFO:tensorflow:*** Available Device: _DeviceAttributes(/job:worker/replica:0/task:0/device:TPU:2, TPU, 17179869184, 3223711651597600528)\n",
            "INFO:tensorflow:*** Available Device: _DeviceAttributes(/job:worker/replica:0/task:0/device:TPU:3, TPU, 17179869184, 2635418824952431588)\n",
            "INFO:tensorflow:*** Available Device: _DeviceAttributes(/job:worker/replica:0/task:0/device:TPU:4, TPU, 17179869184, 7794139554108381653)\n",
            "INFO:tensorflow:*** Available Device: _DeviceAttributes(/job:worker/replica:0/task:0/device:TPU:5, TPU, 17179869184, 2313236390983524059)\n",
            "INFO:tensorflow:*** Available Device: _DeviceAttributes(/job:worker/replica:0/task:0/device:TPU:6, TPU, 17179869184, 2049989430207389644)\n",
            "INFO:tensorflow:*** Available Device: _DeviceAttributes(/job:worker/replica:0/task:0/device:TPU:7, TPU, 17179869184, 4879759746005326059)\n",
            "INFO:tensorflow:*** Available Device: _DeviceAttributes(/job:worker/replica:0/task:0/device:TPU_SYSTEM:0, TPU_SYSTEM, 8589934592, 6854634095991305056)\n",
            "WARNING:tensorflow:tpu_model (from tensorflow.contrib.tpu.python.tpu.keras_support) is experimental and may change or be removed at any time, and without warning.\n",
            "INFO:tensorflow:Cloning Adam {'lr': 0.0, 'beta_1': 0.8999999761581421, 'beta_2': 0.9800000190734863, 'decay': 0.0, 'epsilon': 1e-08, 'amsgrad': False}\n",
            "______________________________________________________________________________________________________________________________________________________\n",
            "Layer (type)                                     Output Shape                     Param #           Connected to                                      \n",
            "======================================================================================================================================================\n",
            "Decoder-Token-Ids (InputLayer)                   (None, 1024)                     0                                                                   \n",
            "______________________________________________________________________________________________________________________________________________________\n",
            "Encoder-Token-Ids (InputLayer)                   (None, 1024)                     0                                                                   \n",
            "______________________________________________________________________________________________________________________________________________________\n",
            "Token-Embedding (EmbeddingWithWeights)           [(None, 1024, 768), (40000, 768) 30720000          Decoder-Token-Ids[0][0]                           \n",
            "                                                                                                    Encoder-Token-Ids[0][0]                           \n",
            "______________________________________________________________________________________________________________________________________________________\n",
            "Encoder-Pos-Ids (InputLayer)                     (None, 1024)                     0                                                                   \n",
            "______________________________________________________________________________________________________________________________________________________\n",
            "Encoder-Embedding (TrigPosEmbedding)             (None, 1024, 768)                0                 Token-Embedding[1][0]                             \n",
            "                                                                                                    Encoder-Pos-Ids[0][0]                             \n",
            "______________________________________________________________________________________________________________________________________________________\n",
            "Encoder-Group-Ids (InputLayer)                   (None, 1024)                     0                                                                   \n",
            "______________________________________________________________________________________________________________________________________________________\n",
            "Encoder-1-MultiHeadSelfAttention (MultiHeadAtten (None, 1024, 768)                2362368           Encoder-Embedding[0][0]                           \n",
            "                                                                                                    Encoder-Group-Ids[0][0]                           \n",
            "______________________________________________________________________________________________________________________________________________________\n",
            "Encoder-1-MultiHeadSelfAttention-Dropout (Dropou (None, 1024, 768)                0                 Encoder-1-MultiHeadSelfAttention[0][0]            \n",
            "______________________________________________________________________________________________________________________________________________________\n",
            "Encoder-1-MultiHeadSelfAttention-Add (Add)       (None, 1024, 768)                0                 Encoder-Embedding[0][0]                           \n",
            "                                                                                                    Encoder-1-MultiHeadSelfAttention-Dropout[0][0]    \n",
            "______________________________________________________________________________________________________________________________________________________\n",
            "Encoder-1-MultiHeadSelfAttention-Norm (LayerNorm (None, 1024, 768)                1536              Encoder-1-MultiHeadSelfAttention-Add[0][0]        \n",
            "______________________________________________________________________________________________________________________________________________________\n",
            "Encoder-1-FeedForward (FeedForward)              (None, 1024, 768)                4722432           Encoder-1-MultiHeadSelfAttention-Norm[0][0]       \n",
            "______________________________________________________________________________________________________________________________________________________\n",
            "Encoder-1-FeedForward-Dropout (Dropout)          (None, 1024, 768)                0                 Encoder-1-FeedForward[0][0]                       \n",
            "______________________________________________________________________________________________________________________________________________________\n",
            "Encoder-1-FeedForward-Add (Add)                  (None, 1024, 768)                0                 Encoder-1-MultiHeadSelfAttention-Norm[0][0]       \n",
            "                                                                                                    Encoder-1-FeedForward-Dropout[0][0]               \n",
            "______________________________________________________________________________________________________________________________________________________\n",
            "Encoder-1-FeedForward-Norm (LayerNormalization)  (None, 1024, 768)                1536              Encoder-1-FeedForward-Add[0][0]                   \n",
            "______________________________________________________________________________________________________________________________________________________\n",
            "Encoder-2-MultiHeadSelfAttention (MultiHeadAtten (None, 1024, 768)                2362368           Encoder-1-FeedForward-Norm[0][0]                  \n",
            "                                                                                                    Encoder-Group-Ids[0][0]                           \n",
            "______________________________________________________________________________________________________________________________________________________\n",
            "Encoder-2-MultiHeadSelfAttention-Dropout (Dropou (None, 1024, 768)                0                 Encoder-2-MultiHeadSelfAttention[0][0]            \n",
            "______________________________________________________________________________________________________________________________________________________\n",
            "Encoder-2-MultiHeadSelfAttention-Add (Add)       (None, 1024, 768)                0                 Encoder-1-FeedForward-Norm[0][0]                  \n",
            "                                                                                                    Encoder-2-MultiHeadSelfAttention-Dropout[0][0]    \n",
            "______________________________________________________________________________________________________________________________________________________\n",
            "Encoder-2-MultiHeadSelfAttention-Norm (LayerNorm (None, 1024, 768)                1536              Encoder-2-MultiHeadSelfAttention-Add[0][0]        \n",
            "______________________________________________________________________________________________________________________________________________________\n",
            "Encoder-2-FeedForward (FeedForward)              (None, 1024, 768)                4722432           Encoder-2-MultiHeadSelfAttention-Norm[0][0]       \n",
            "______________________________________________________________________________________________________________________________________________________\n",
            "Encoder-2-FeedForward-Dropout (Dropout)          (None, 1024, 768)                0                 Encoder-2-FeedForward[0][0]                       \n",
            "______________________________________________________________________________________________________________________________________________________\n",
            "Encoder-2-FeedForward-Add (Add)                  (None, 1024, 768)                0                 Encoder-2-MultiHeadSelfAttention-Norm[0][0]       \n",
            "                                                                                                    Encoder-2-FeedForward-Dropout[0][0]               \n",
            "______________________________________________________________________________________________________________________________________________________\n",
            "Encoder-2-FeedForward-Norm (LayerNormalization)  (None, 1024, 768)                1536              Encoder-2-FeedForward-Add[0][0]                   \n",
            "______________________________________________________________________________________________________________________________________________________\n",
            "Encoder-3-MultiHeadSelfAttention (MultiHeadAtten (None, 1024, 768)                2362368           Encoder-2-FeedForward-Norm[0][0]                  \n",
            "                                                                                                    Encoder-Group-Ids[0][0]                           \n",
            "______________________________________________________________________________________________________________________________________________________\n",
            "Encoder-3-MultiHeadSelfAttention-Dropout (Dropou (None, 1024, 768)                0                 Encoder-3-MultiHeadSelfAttention[0][0]            \n",
            "______________________________________________________________________________________________________________________________________________________\n",
            "Encoder-3-MultiHeadSelfAttention-Add (Add)       (None, 1024, 768)                0                 Encoder-2-FeedForward-Norm[0][0]                  \n",
            "                                                                                                    Encoder-3-MultiHeadSelfAttention-Dropout[0][0]    \n",
            "______________________________________________________________________________________________________________________________________________________\n",
            "Encoder-3-MultiHeadSelfAttention-Norm (LayerNorm (None, 1024, 768)                1536              Encoder-3-MultiHeadSelfAttention-Add[0][0]        \n",
            "______________________________________________________________________________________________________________________________________________________\n",
            "Encoder-3-FeedForward (FeedForward)              (None, 1024, 768)                4722432           Encoder-3-MultiHeadSelfAttention-Norm[0][0]       \n",
            "______________________________________________________________________________________________________________________________________________________\n",
            "Encoder-3-FeedForward-Dropout (Dropout)          (None, 1024, 768)                0                 Encoder-3-FeedForward[0][0]                       \n",
            "______________________________________________________________________________________________________________________________________________________\n",
            "Encoder-3-FeedForward-Add (Add)                  (None, 1024, 768)                0                 Encoder-3-MultiHeadSelfAttention-Norm[0][0]       \n",
            "                                                                                                    Encoder-3-FeedForward-Dropout[0][0]               \n",
            "______________________________________________________________________________________________________________________________________________________\n",
            "Encoder-3-FeedForward-Norm (LayerNormalization)  (None, 1024, 768)                1536              Encoder-3-FeedForward-Add[0][0]                   \n",
            "______________________________________________________________________________________________________________________________________________________\n",
            "Encoder-4-MultiHeadSelfAttention (MultiHeadAtten (None, 1024, 768)                2362368           Encoder-3-FeedForward-Norm[0][0]                  \n",
            "                                                                                                    Encoder-Group-Ids[0][0]                           \n",
            "______________________________________________________________________________________________________________________________________________________\n",
            "Encoder-4-MultiHeadSelfAttention-Dropout (Dropou (None, 1024, 768)                0                 Encoder-4-MultiHeadSelfAttention[0][0]            \n",
            "______________________________________________________________________________________________________________________________________________________\n",
            "Encoder-4-MultiHeadSelfAttention-Add (Add)       (None, 1024, 768)                0                 Encoder-3-FeedForward-Norm[0][0]                  \n",
            "                                                                                                    Encoder-4-MultiHeadSelfAttention-Dropout[0][0]    \n",
            "______________________________________________________________________________________________________________________________________________________\n",
            "Encoder-4-MultiHeadSelfAttention-Norm (LayerNorm (None, 1024, 768)                1536              Encoder-4-MultiHeadSelfAttention-Add[0][0]        \n",
            "______________________________________________________________________________________________________________________________________________________\n",
            "Encoder-4-FeedForward (FeedForward)              (None, 1024, 768)                4722432           Encoder-4-MultiHeadSelfAttention-Norm[0][0]       \n",
            "______________________________________________________________________________________________________________________________________________________\n",
            "Encoder-4-FeedForward-Dropout (Dropout)          (None, 1024, 768)                0                 Encoder-4-FeedForward[0][0]                       \n",
            "______________________________________________________________________________________________________________________________________________________\n",
            "Encoder-4-FeedForward-Add (Add)                  (None, 1024, 768)                0                 Encoder-4-MultiHeadSelfAttention-Norm[0][0]       \n",
            "                                                                                                    Encoder-4-FeedForward-Dropout[0][0]               \n",
            "______________________________________________________________________________________________________________________________________________________\n",
            "Encoder-4-FeedForward-Norm (LayerNormalization)  (None, 1024, 768)                1536              Encoder-4-FeedForward-Add[0][0]                   \n",
            "______________________________________________________________________________________________________________________________________________________\n",
            "Encoder-5-MultiHeadSelfAttention (MultiHeadAtten (None, 1024, 768)                2362368           Encoder-4-FeedForward-Norm[0][0]                  \n",
            "                                                                                                    Encoder-Group-Ids[0][0]                           \n",
            "______________________________________________________________________________________________________________________________________________________\n",
            "Encoder-5-MultiHeadSelfAttention-Dropout (Dropou (None, 1024, 768)                0                 Encoder-5-MultiHeadSelfAttention[0][0]            \n",
            "______________________________________________________________________________________________________________________________________________________\n",
            "Encoder-5-MultiHeadSelfAttention-Add (Add)       (None, 1024, 768)                0                 Encoder-4-FeedForward-Norm[0][0]                  \n",
            "                                                                                                    Encoder-5-MultiHeadSelfAttention-Dropout[0][0]    \n",
            "______________________________________________________________________________________________________________________________________________________\n",
            "Encoder-5-MultiHeadSelfAttention-Norm (LayerNorm (None, 1024, 768)                1536              Encoder-5-MultiHeadSelfAttention-Add[0][0]        \n",
            "______________________________________________________________________________________________________________________________________________________\n",
            "Encoder-5-FeedForward (FeedForward)              (None, 1024, 768)                4722432           Encoder-5-MultiHeadSelfAttention-Norm[0][0]       \n",
            "______________________________________________________________________________________________________________________________________________________\n",
            "Encoder-5-FeedForward-Dropout (Dropout)          (None, 1024, 768)                0                 Encoder-5-FeedForward[0][0]                       \n",
            "______________________________________________________________________________________________________________________________________________________\n",
            "Encoder-5-FeedForward-Add (Add)                  (None, 1024, 768)                0                 Encoder-5-MultiHeadSelfAttention-Norm[0][0]       \n",
            "                                                                                                    Encoder-5-FeedForward-Dropout[0][0]               \n",
            "______________________________________________________________________________________________________________________________________________________\n",
            "Encoder-5-FeedForward-Norm (LayerNormalization)  (None, 1024, 768)                1536              Encoder-5-FeedForward-Add[0][0]                   \n",
            "______________________________________________________________________________________________________________________________________________________\n",
            "Encoder-6-MultiHeadSelfAttention (MultiHeadAtten (None, 1024, 768)                2362368           Encoder-5-FeedForward-Norm[0][0]                  \n",
            "                                                                                                    Encoder-Group-Ids[0][0]                           \n",
            "______________________________________________________________________________________________________________________________________________________\n",
            "Encoder-6-MultiHeadSelfAttention-Dropout (Dropou (None, 1024, 768)                0                 Encoder-6-MultiHeadSelfAttention[0][0]            \n",
            "______________________________________________________________________________________________________________________________________________________\n",
            "Decoder-Pos-Ids (InputLayer)                     (None, 1024)                     0                                                                   \n",
            "______________________________________________________________________________________________________________________________________________________\n",
            "Encoder-6-MultiHeadSelfAttention-Add (Add)       (None, 1024, 768)                0                 Encoder-5-FeedForward-Norm[0][0]                  \n",
            "                                                                                                    Encoder-6-MultiHeadSelfAttention-Dropout[0][0]    \n",
            "______________________________________________________________________________________________________________________________________________________\n",
            "Decoder-Embedding (TrigPosEmbedding)             (None, 1024, 768)                0                 Token-Embedding[0][0]                             \n",
            "                                                                                                    Decoder-Pos-Ids[0][0]                             \n",
            "______________________________________________________________________________________________________________________________________________________\n",
            "Decoder-Group-Ids (InputLayer)                   (None, 1024)                     0                                                                   \n",
            "______________________________________________________________________________________________________________________________________________________\n",
            "Encoder-6-MultiHeadSelfAttention-Norm (LayerNorm (None, 1024, 768)                1536              Encoder-6-MultiHeadSelfAttention-Add[0][0]        \n",
            "______________________________________________________________________________________________________________________________________________________\n",
            "Decoder-1-MultiHeadSelfAttention (MultiHeadAtten (None, 1024, 768)                2362368           Decoder-Embedding[0][0]                           \n",
            "                                                                                                    Decoder-Group-Ids[0][0]                           \n",
            "______________________________________________________________________________________________________________________________________________________\n",
            "Encoder-6-FeedForward (FeedForward)              (None, 1024, 768)                4722432           Encoder-6-MultiHeadSelfAttention-Norm[0][0]       \n",
            "______________________________________________________________________________________________________________________________________________________\n",
            "Decoder-1-MultiHeadSelfAttention-Dropout (Dropou (None, 1024, 768)                0                 Decoder-1-MultiHeadSelfAttention[0][0]            \n",
            "______________________________________________________________________________________________________________________________________________________\n",
            "Encoder-6-FeedForward-Dropout (Dropout)          (None, 1024, 768)                0                 Encoder-6-FeedForward[0][0]                       \n",
            "______________________________________________________________________________________________________________________________________________________\n",
            "Decoder-1-MultiHeadSelfAttention-Add (Add)       (None, 1024, 768)                0                 Decoder-Embedding[0][0]                           \n",
            "                                                                                                    Decoder-1-MultiHeadSelfAttention-Dropout[0][0]    \n",
            "______________________________________________________________________________________________________________________________________________________\n",
            "Encoder-6-FeedForward-Add (Add)                  (None, 1024, 768)                0                 Encoder-6-MultiHeadSelfAttention-Norm[0][0]       \n",
            "                                                                                                    Encoder-6-FeedForward-Dropout[0][0]               \n",
            "______________________________________________________________________________________________________________________________________________________\n",
            "Decoder-1-MultiHeadSelfAttention-Norm (LayerNorm (None, 1024, 768)                1536              Decoder-1-MultiHeadSelfAttention-Add[0][0]        \n",
            "______________________________________________________________________________________________________________________________________________________\n",
            "Encoder-6-FeedForward-Norm (LayerNormalization)  (None, 1024, 768)                1536              Encoder-6-FeedForward-Add[0][0]                   \n",
            "______________________________________________________________________________________________________________________________________________________\n",
            "Decoder-1-MultiHeadQueryAttention (MultiHeadAtte (None, 1024, 768)                2362368           Decoder-1-MultiHeadSelfAttention-Norm[0][0]       \n",
            "                                                                                                    Decoder-Group-Ids[0][0]                           \n",
            "                                                                                                    Encoder-6-FeedForward-Norm[0][0]                  \n",
            "                                                                                                    Encoder-6-FeedForward-Norm[0][0]                  \n",
            "                                                                                                    Encoder-Group-Ids[0][0]                           \n",
            "______________________________________________________________________________________________________________________________________________________\n",
            "Decoder-1-MultiHeadQueryAttention-Dropout (Dropo (None, 1024, 768)                0                 Decoder-1-MultiHeadQueryAttention[0][0]           \n",
            "______________________________________________________________________________________________________________________________________________________\n",
            "Decoder-1-MultiHeadQueryAttention-Add (Add)      (None, 1024, 768)                0                 Decoder-1-MultiHeadSelfAttention-Norm[0][0]       \n",
            "                                                                                                    Decoder-1-MultiHeadQueryAttention-Dropout[0][0]   \n",
            "______________________________________________________________________________________________________________________________________________________\n",
            "Decoder-1-MultiHeadQueryAttention-Norm (LayerNor (None, 1024, 768)                1536              Decoder-1-MultiHeadQueryAttention-Add[0][0]       \n",
            "______________________________________________________________________________________________________________________________________________________\n",
            "Decoder-1-FeedForward (FeedForward)              (None, 1024, 768)                4722432           Decoder-1-MultiHeadQueryAttention-Norm[0][0]      \n",
            "______________________________________________________________________________________________________________________________________________________\n",
            "Decoder-1-FeedForward-Dropout (Dropout)          (None, 1024, 768)                0                 Decoder-1-FeedForward[0][0]                       \n",
            "______________________________________________________________________________________________________________________________________________________\n",
            "Decoder-1-FeedForward-Add (Add)                  (None, 1024, 768)                0                 Decoder-1-MultiHeadQueryAttention-Norm[0][0]      \n",
            "                                                                                                    Decoder-1-FeedForward-Dropout[0][0]               \n",
            "______________________________________________________________________________________________________________________________________________________\n",
            "Decoder-1-FeedForward-Norm (LayerNormalization)  (None, 1024, 768)                1536              Decoder-1-FeedForward-Add[0][0]                   \n",
            "______________________________________________________________________________________________________________________________________________________\n",
            "Decoder-2-MultiHeadSelfAttention (MultiHeadAtten (None, 1024, 768)                2362368           Decoder-1-FeedForward-Norm[0][0]                  \n",
            "                                                                                                    Decoder-Group-Ids[0][0]                           \n",
            "______________________________________________________________________________________________________________________________________________________\n",
            "Decoder-2-MultiHeadSelfAttention-Dropout (Dropou (None, 1024, 768)                0                 Decoder-2-MultiHeadSelfAttention[0][0]            \n",
            "______________________________________________________________________________________________________________________________________________________\n",
            "Decoder-2-MultiHeadSelfAttention-Add (Add)       (None, 1024, 768)                0                 Decoder-1-FeedForward-Norm[0][0]                  \n",
            "                                                                                                    Decoder-2-MultiHeadSelfAttention-Dropout[0][0]    \n",
            "______________________________________________________________________________________________________________________________________________________\n",
            "Decoder-2-MultiHeadSelfAttention-Norm (LayerNorm (None, 1024, 768)                1536              Decoder-2-MultiHeadSelfAttention-Add[0][0]        \n",
            "______________________________________________________________________________________________________________________________________________________\n",
            "Decoder-2-MultiHeadQueryAttention (MultiHeadAtte (None, 1024, 768)                2362368           Decoder-2-MultiHeadSelfAttention-Norm[0][0]       \n",
            "                                                                                                    Decoder-Group-Ids[0][0]                           \n",
            "                                                                                                    Encoder-6-FeedForward-Norm[0][0]                  \n",
            "                                                                                                    Encoder-6-FeedForward-Norm[0][0]                  \n",
            "                                                                                                    Encoder-Group-Ids[0][0]                           \n",
            "______________________________________________________________________________________________________________________________________________________\n",
            "Decoder-2-MultiHeadQueryAttention-Dropout (Dropo (None, 1024, 768)                0                 Decoder-2-MultiHeadQueryAttention[0][0]           \n",
            "______________________________________________________________________________________________________________________________________________________\n",
            "Decoder-2-MultiHeadQueryAttention-Add (Add)      (None, 1024, 768)                0                 Decoder-2-MultiHeadSelfAttention-Norm[0][0]       \n",
            "                                                                                                    Decoder-2-MultiHeadQueryAttention-Dropout[0][0]   \n",
            "______________________________________________________________________________________________________________________________________________________\n",
            "Decoder-2-MultiHeadQueryAttention-Norm (LayerNor (None, 1024, 768)                1536              Decoder-2-MultiHeadQueryAttention-Add[0][0]       \n",
            "______________________________________________________________________________________________________________________________________________________\n",
            "Decoder-2-FeedForward (FeedForward)              (None, 1024, 768)                4722432           Decoder-2-MultiHeadQueryAttention-Norm[0][0]      \n",
            "______________________________________________________________________________________________________________________________________________________\n",
            "Decoder-2-FeedForward-Dropout (Dropout)          (None, 1024, 768)                0                 Decoder-2-FeedForward[0][0]                       \n",
            "______________________________________________________________________________________________________________________________________________________\n",
            "Decoder-2-FeedForward-Add (Add)                  (None, 1024, 768)                0                 Decoder-2-MultiHeadQueryAttention-Norm[0][0]      \n",
            "                                                                                                    Decoder-2-FeedForward-Dropout[0][0]               \n",
            "______________________________________________________________________________________________________________________________________________________\n",
            "Decoder-2-FeedForward-Norm (LayerNormalization)  (None, 1024, 768)                1536              Decoder-2-FeedForward-Add[0][0]                   \n",
            "______________________________________________________________________________________________________________________________________________________\n",
            "Decoder-3-MultiHeadSelfAttention (MultiHeadAtten (None, 1024, 768)                2362368           Decoder-2-FeedForward-Norm[0][0]                  \n",
            "                                                                                                    Decoder-Group-Ids[0][0]                           \n",
            "______________________________________________________________________________________________________________________________________________________\n",
            "Decoder-3-MultiHeadSelfAttention-Dropout (Dropou (None, 1024, 768)                0                 Decoder-3-MultiHeadSelfAttention[0][0]            \n",
            "______________________________________________________________________________________________________________________________________________________\n",
            "Decoder-3-MultiHeadSelfAttention-Add (Add)       (None, 1024, 768)                0                 Decoder-2-FeedForward-Norm[0][0]                  \n",
            "                                                                                                    Decoder-3-MultiHeadSelfAttention-Dropout[0][0]    \n",
            "______________________________________________________________________________________________________________________________________________________\n",
            "Decoder-3-MultiHeadSelfAttention-Norm (LayerNorm (None, 1024, 768)                1536              Decoder-3-MultiHeadSelfAttention-Add[0][0]        \n",
            "______________________________________________________________________________________________________________________________________________________\n",
            "Decoder-3-MultiHeadQueryAttention (MultiHeadAtte (None, 1024, 768)                2362368           Decoder-3-MultiHeadSelfAttention-Norm[0][0]       \n",
            "                                                                                                    Decoder-Group-Ids[0][0]                           \n",
            "                                                                                                    Encoder-6-FeedForward-Norm[0][0]                  \n",
            "                                                                                                    Encoder-6-FeedForward-Norm[0][0]                  \n",
            "                                                                                                    Encoder-Group-Ids[0][0]                           \n",
            "______________________________________________________________________________________________________________________________________________________\n",
            "Decoder-3-MultiHeadQueryAttention-Dropout (Dropo (None, 1024, 768)                0                 Decoder-3-MultiHeadQueryAttention[0][0]           \n",
            "______________________________________________________________________________________________________________________________________________________\n",
            "Decoder-3-MultiHeadQueryAttention-Add (Add)      (None, 1024, 768)                0                 Decoder-3-MultiHeadSelfAttention-Norm[0][0]       \n",
            "                                                                                                    Decoder-3-MultiHeadQueryAttention-Dropout[0][0]   \n",
            "______________________________________________________________________________________________________________________________________________________\n",
            "Decoder-3-MultiHeadQueryAttention-Norm (LayerNor (None, 1024, 768)                1536              Decoder-3-MultiHeadQueryAttention-Add[0][0]       \n",
            "______________________________________________________________________________________________________________________________________________________\n",
            "Decoder-3-FeedForward (FeedForward)              (None, 1024, 768)                4722432           Decoder-3-MultiHeadQueryAttention-Norm[0][0]      \n",
            "______________________________________________________________________________________________________________________________________________________\n",
            "Decoder-3-FeedForward-Dropout (Dropout)          (None, 1024, 768)                0                 Decoder-3-FeedForward[0][0]                       \n",
            "______________________________________________________________________________________________________________________________________________________\n",
            "Decoder-3-FeedForward-Add (Add)                  (None, 1024, 768)                0                 Decoder-3-MultiHeadQueryAttention-Norm[0][0]      \n",
            "                                                                                                    Decoder-3-FeedForward-Dropout[0][0]               \n",
            "______________________________________________________________________________________________________________________________________________________\n",
            "Decoder-3-FeedForward-Norm (LayerNormalization)  (None, 1024, 768)                1536              Decoder-3-FeedForward-Add[0][0]                   \n",
            "______________________________________________________________________________________________________________________________________________________\n",
            "Decoder-4-MultiHeadSelfAttention (MultiHeadAtten (None, 1024, 768)                2362368           Decoder-3-FeedForward-Norm[0][0]                  \n",
            "                                                                                                    Decoder-Group-Ids[0][0]                           \n",
            "______________________________________________________________________________________________________________________________________________________\n",
            "Decoder-4-MultiHeadSelfAttention-Dropout (Dropou (None, 1024, 768)                0                 Decoder-4-MultiHeadSelfAttention[0][0]            \n",
            "______________________________________________________________________________________________________________________________________________________\n",
            "Decoder-4-MultiHeadSelfAttention-Add (Add)       (None, 1024, 768)                0                 Decoder-3-FeedForward-Norm[0][0]                  \n",
            "                                                                                                    Decoder-4-MultiHeadSelfAttention-Dropout[0][0]    \n",
            "______________________________________________________________________________________________________________________________________________________\n",
            "Decoder-4-MultiHeadSelfAttention-Norm (LayerNorm (None, 1024, 768)                1536              Decoder-4-MultiHeadSelfAttention-Add[0][0]        \n",
            "______________________________________________________________________________________________________________________________________________________\n",
            "Decoder-4-MultiHeadQueryAttention (MultiHeadAtte (None, 1024, 768)                2362368           Decoder-4-MultiHeadSelfAttention-Norm[0][0]       \n",
            "                                                                                                    Decoder-Group-Ids[0][0]                           \n",
            "                                                                                                    Encoder-6-FeedForward-Norm[0][0]                  \n",
            "                                                                                                    Encoder-6-FeedForward-Norm[0][0]                  \n",
            "                                                                                                    Encoder-Group-Ids[0][0]                           \n",
            "______________________________________________________________________________________________________________________________________________________\n",
            "Decoder-4-MultiHeadQueryAttention-Dropout (Dropo (None, 1024, 768)                0                 Decoder-4-MultiHeadQueryAttention[0][0]           \n",
            "______________________________________________________________________________________________________________________________________________________\n",
            "Decoder-4-MultiHeadQueryAttention-Add (Add)      (None, 1024, 768)                0                 Decoder-4-MultiHeadSelfAttention-Norm[0][0]       \n",
            "                                                                                                    Decoder-4-MultiHeadQueryAttention-Dropout[0][0]   \n",
            "______________________________________________________________________________________________________________________________________________________\n",
            "Decoder-4-MultiHeadQueryAttention-Norm (LayerNor (None, 1024, 768)                1536              Decoder-4-MultiHeadQueryAttention-Add[0][0]       \n",
            "______________________________________________________________________________________________________________________________________________________\n",
            "Decoder-4-FeedForward (FeedForward)              (None, 1024, 768)                4722432           Decoder-4-MultiHeadQueryAttention-Norm[0][0]      \n",
            "______________________________________________________________________________________________________________________________________________________\n",
            "Decoder-4-FeedForward-Dropout (Dropout)          (None, 1024, 768)                0                 Decoder-4-FeedForward[0][0]                       \n",
            "______________________________________________________________________________________________________________________________________________________\n",
            "Decoder-4-FeedForward-Add (Add)                  (None, 1024, 768)                0                 Decoder-4-MultiHeadQueryAttention-Norm[0][0]      \n",
            "                                                                                                    Decoder-4-FeedForward-Dropout[0][0]               \n",
            "______________________________________________________________________________________________________________________________________________________\n",
            "Decoder-4-FeedForward-Norm (LayerNormalization)  (None, 1024, 768)                1536              Decoder-4-FeedForward-Add[0][0]                   \n",
            "______________________________________________________________________________________________________________________________________________________\n",
            "Decoder-5-MultiHeadSelfAttention (MultiHeadAtten (None, 1024, 768)                2362368           Decoder-4-FeedForward-Norm[0][0]                  \n",
            "                                                                                                    Decoder-Group-Ids[0][0]                           \n",
            "______________________________________________________________________________________________________________________________________________________\n",
            "Decoder-5-MultiHeadSelfAttention-Dropout (Dropou (None, 1024, 768)                0                 Decoder-5-MultiHeadSelfAttention[0][0]            \n",
            "______________________________________________________________________________________________________________________________________________________\n",
            "Decoder-5-MultiHeadSelfAttention-Add (Add)       (None, 1024, 768)                0                 Decoder-4-FeedForward-Norm[0][0]                  \n",
            "                                                                                                    Decoder-5-MultiHeadSelfAttention-Dropout[0][0]    \n",
            "______________________________________________________________________________________________________________________________________________________\n",
            "Decoder-5-MultiHeadSelfAttention-Norm (LayerNorm (None, 1024, 768)                1536              Decoder-5-MultiHeadSelfAttention-Add[0][0]        \n",
            "______________________________________________________________________________________________________________________________________________________\n",
            "Decoder-5-MultiHeadQueryAttention (MultiHeadAtte (None, 1024, 768)                2362368           Decoder-5-MultiHeadSelfAttention-Norm[0][0]       \n",
            "                                                                                                    Decoder-Group-Ids[0][0]                           \n",
            "                                                                                                    Encoder-6-FeedForward-Norm[0][0]                  \n",
            "                                                                                                    Encoder-6-FeedForward-Norm[0][0]                  \n",
            "                                                                                                    Encoder-Group-Ids[0][0]                           \n",
            "______________________________________________________________________________________________________________________________________________________\n",
            "Decoder-5-MultiHeadQueryAttention-Dropout (Dropo (None, 1024, 768)                0                 Decoder-5-MultiHeadQueryAttention[0][0]           \n",
            "______________________________________________________________________________________________________________________________________________________\n",
            "Decoder-5-MultiHeadQueryAttention-Add (Add)      (None, 1024, 768)                0                 Decoder-5-MultiHeadSelfAttention-Norm[0][0]       \n",
            "                                                                                                    Decoder-5-MultiHeadQueryAttention-Dropout[0][0]   \n",
            "______________________________________________________________________________________________________________________________________________________\n",
            "Decoder-5-MultiHeadQueryAttention-Norm (LayerNor (None, 1024, 768)                1536              Decoder-5-MultiHeadQueryAttention-Add[0][0]       \n",
            "______________________________________________________________________________________________________________________________________________________\n",
            "Decoder-5-FeedForward (FeedForward)              (None, 1024, 768)                4722432           Decoder-5-MultiHeadQueryAttention-Norm[0][0]      \n",
            "______________________________________________________________________________________________________________________________________________________\n",
            "Decoder-5-FeedForward-Dropout (Dropout)          (None, 1024, 768)                0                 Decoder-5-FeedForward[0][0]                       \n",
            "______________________________________________________________________________________________________________________________________________________\n",
            "Decoder-5-FeedForward-Add (Add)                  (None, 1024, 768)                0                 Decoder-5-MultiHeadQueryAttention-Norm[0][0]      \n",
            "                                                                                                    Decoder-5-FeedForward-Dropout[0][0]               \n",
            "______________________________________________________________________________________________________________________________________________________\n",
            "Decoder-5-FeedForward-Norm (LayerNormalization)  (None, 1024, 768)                1536              Decoder-5-FeedForward-Add[0][0]                   \n",
            "______________________________________________________________________________________________________________________________________________________\n",
            "Decoder-6-MultiHeadSelfAttention (MultiHeadAtten (None, 1024, 768)                2362368           Decoder-5-FeedForward-Norm[0][0]                  \n",
            "                                                                                                    Decoder-Group-Ids[0][0]                           \n",
            "______________________________________________________________________________________________________________________________________________________\n",
            "Decoder-6-MultiHeadSelfAttention-Dropout (Dropou (None, 1024, 768)                0                 Decoder-6-MultiHeadSelfAttention[0][0]            \n",
            "______________________________________________________________________________________________________________________________________________________\n",
            "Decoder-6-MultiHeadSelfAttention-Add (Add)       (None, 1024, 768)                0                 Decoder-5-FeedForward-Norm[0][0]                  \n",
            "                                                                                                    Decoder-6-MultiHeadSelfAttention-Dropout[0][0]    \n",
            "______________________________________________________________________________________________________________________________________________________\n",
            "Decoder-6-MultiHeadSelfAttention-Norm (LayerNorm (None, 1024, 768)                1536              Decoder-6-MultiHeadSelfAttention-Add[0][0]        \n",
            "______________________________________________________________________________________________________________________________________________________\n",
            "Decoder-6-MultiHeadQueryAttention (MultiHeadAtte (None, 1024, 768)                2362368           Decoder-6-MultiHeadSelfAttention-Norm[0][0]       \n",
            "                                                                                                    Decoder-Group-Ids[0][0]                           \n",
            "                                                                                                    Encoder-6-FeedForward-Norm[0][0]                  \n",
            "                                                                                                    Encoder-6-FeedForward-Norm[0][0]                  \n",
            "                                                                                                    Encoder-Group-Ids[0][0]                           \n",
            "______________________________________________________________________________________________________________________________________________________\n",
            "Decoder-6-MultiHeadQueryAttention-Dropout (Dropo (None, 1024, 768)                0                 Decoder-6-MultiHeadQueryAttention[0][0]           \n",
            "______________________________________________________________________________________________________________________________________________________\n",
            "Decoder-6-MultiHeadQueryAttention-Add (Add)      (None, 1024, 768)                0                 Decoder-6-MultiHeadSelfAttention-Norm[0][0]       \n",
            "                                                                                                    Decoder-6-MultiHeadQueryAttention-Dropout[0][0]   \n",
            "______________________________________________________________________________________________________________________________________________________\n",
            "Decoder-6-MultiHeadQueryAttention-Norm (LayerNor (None, 1024, 768)                1536              Decoder-6-MultiHeadQueryAttention-Add[0][0]       \n",
            "______________________________________________________________________________________________________________________________________________________\n",
            "Decoder-6-FeedForward (FeedForward)              (None, 1024, 768)                4722432           Decoder-6-MultiHeadQueryAttention-Norm[0][0]      \n",
            "______________________________________________________________________________________________________________________________________________________\n",
            "Decoder-6-FeedForward-Dropout (Dropout)          (None, 1024, 768)                0                 Decoder-6-FeedForward[0][0]                       \n",
            "______________________________________________________________________________________________________________________________________________________\n",
            "Decoder-6-FeedForward-Add (Add)                  (None, 1024, 768)                0                 Decoder-6-MultiHeadQueryAttention-Norm[0][0]      \n",
            "                                                                                                    Decoder-6-FeedForward-Dropout[0][0]               \n",
            "______________________________________________________________________________________________________________________________________________________\n",
            "Decoder-6-FeedForward-Norm (LayerNormalization)  (None, 1024, 768)                1536              Decoder-6-FeedForward-Add[0][0]                   \n",
            "______________________________________________________________________________________________________________________________________________________\n",
            "Output (EmbeddingSim)                            (None, 1024, 40000)              40000             Decoder-6-FeedForward-Norm[0][0]                  \n",
            "                                                                                                    Token-Embedding[1][1]                             \n",
            "======================================================================================================================================================\n",
            "Total params: 129,997,888\n",
            "Trainable params: 129,997,888\n",
            "Non-trainable params: 0\n",
            "______________________________________________________________________________________________________________________________________________________\n",
            "INFO:tensorflow:Making validation data...\n",
            "INFO:tensorflow:Loading examples\n",
            "INFO:tensorflow:Preparing new records\n",
            "INFO:tensorflow:New file created model/transformer/valid.tfrecord.0\n",
            "INFO:tensorflow:*** Example ***\n",
            "INFO:tensorflow:guids:['train-0-2355', 'train-0-28802', 'train-0-15480', 'train-0-23957', 'train-0-5083', 'train-0-5163', 'train-0-43396', 'train-0-7558', 'train-0-34376', 'train-0-15441', 'train-0-32307', 'train-0-11361', 'train-0-36004', 'train-0-38387', 'train-0-20519']\n",
            "INFO:tensorflow:src_texts:['They were forced to climb a cliff again, causing more dropouts who fell.', 'Kurama-dera Temple, a religious corporation', 'However, as the the Ritsuryo system lost touch with reality, the government changed its policy from an individual-based ruling system, which was the base of the the Ritsuryo system to a land-based ruling system in order to secure tax revenue from the end of the 9th century to the beginning of the 10th century.', 'In hot house farm raising, a boiler is used to maintain a water temperature of 30℃ in order to speed up their growth.', 'Though the attendance was small at first, it gained a good reputation.', \"September 9, 1988: The 'Keihan Tanbabashi West Building' opened.\", 'He served as karinomatsume (feudal lord that Karino-ma room in Edo-jo castle was set as his station).', \"After 6 months, in August, Noriyori's troops were progressing along the Sanyo-do Road to attack the Taira clan from the back, but the line was stretched thin and was cut off by TAIRA no Yukimori.\", 'Saiho-ji Temple is a Buddhist temple belonging to Jodo (Pure Land) Sect located in Tokiwadeguchi-cho, Ukyo-ku Ward, Kyoto City, Kyoto Prefecture.', 'Temple legend states that Gantoku-ji Temple was founded in modern day Terato-cho, Muko City in the year 679 before Chukai (son of late Heian period samurai TAIRA no Norimori) who had served at Hobodai-in Temple in Sanjo-dori Street, Higashioji-dori Street became head priest and restored the temple.', 'In 2007, the control of about a half of the site of the Nasu Goyotei, which was the 570-hectare site, was transferred from Imperial Household Agency to Ministry of the Environment.', 'Terayama-kofun Tumulus', 'It is said that this was one of the best selling books at that time.', 'In contract to Kanezane, who was Udaijin but did no attend the imperial court so often, Tsunemune supported the Cloistered Emperor Goshirakawa as an experienced vassal of the Imperial Court and key vassal for the state (Article for August 18, 1184 in \"Gyokuyo\").', 'There were three kinds of chigo: the upper chigo was a son of the Imperial family or high nobles left at the temple to learn good manners; the middle chigo was discovered for his cleverness and taken to a temple in order to look after priests; the lower chigo was sold by a corrupt monk, or his talent in performing art was recognized and was employed at the temple.']\n",
            "INFO:tensorflow:tar_texts:['再び断崖を登ることになり、ここでも転落落伍者をだした。', '宗教法人鞍馬寺', 'しかし、律令制と現実の乖離が大きくなっていき、9世紀末～10世紀初頭ごろ、政府は税収を確保するため、律令制の基本だった人別支配体制を改め、土地を対象に課税する支配体制へと大きく方針転換した。', 'ハウス養殖は、ボイラーをたいて水温を約30℃に保っており、成長を早めることができる。', '当初は観客動員も地味であったが高い評判を呼んだ。', '1988年（昭和63年）9月9日 「京阪丹波橋西ビル」オープン。', '雁之間詰。', '半年が経過した8月、範頼軍は平氏軍を背後からつくため山陽道を進軍したが、長く延びた戦線を平行盛によって分断された。', '西方寺（さいほうじ）は、京都府京都市右京区常盤出口町にある浄土宗の寺院。', 'この寺は、寺伝によれば679年に現在の向日市寺戸に創建されたとされ、その後東大路通三条通の宝菩提院に住した忠快（平安時代後期の武士平教盛の子）がこの寺に入って中興したと伝えられる。', '那須御用邸は、2007年に御用邸敷地の約半分の570ヘクタールが宮内庁から環境省に移管された。', '寺山古墳', '当時のベストセラーの一つであったといわれる。', '右大臣でありながら朝廷にほとんど出仕しなくなった兼実に対して、経宗は「朝の宿老」「国の重臣」（『玉葉』元暦元年（1184年）8月18日条）として後白河法皇を補佐した。', '皇族や上位貴族の子弟が行儀見習いなどで寺に預けられる上稚児、頭の良さを見込まれて世話係として僧侶に従う中稚児、芸道などの才能が見込まれて雇われたり腐敗僧侶に売られてきた下稚児がいた。']\n",
            "INFO:tensorflow:Target:3731 38048 46 3744 194 24278 20 11053 129 34937 4003 32676 14630 944 99 21 4 0 5183 3999 13983 873 475 4 0 929 20 7088 3474 1475 65 15642 31 1 4564 18249 27404 9639 20 87 22405 397 82 24994 8911 20 23721 4826 6131 22690 5824 20 7088 3474 1475 21699 887 172 871 6230 6981 46 11512 20 5201 30253 37497 117 6230 6981 3495 7341 13248 12933 99 21 4 0 3891 37733 36 20 14057 1014 46 171 3044 407 4691 46 809 29605 10002 45 1401 6764 20 6577 46 3594 1049 14922 21 4 0 3815 17683 26081 129 546 3289 482 13146 24961 46 7078 2270 21 4 0 1173 29 22 167 1750 29 4352 37 87 51 2 58 16568 14030 577 276 1829 64 3233 21 4 0 24214 1016 859 10814 21 4 0 1778 29 42 21602 99 86 37 20 9027 3040 13254 434 838 17917 35087 102 6372 797 12812 20130 1737 876 2229 20 9519 23592 171 12472 46 23585 3809 495 212 5112 236 21 4 0 18112 475 22 6318 4596 1165 23 36 20 30641 32569 552 24614 10916 7148 32240 15401 21 4 0 258 475 36 20 475 1522 5319 28702 150 862 2758 51 115 475 1373 45 34907 8853 20 649 249 28000 836 13920 836 31 2298 36711 947 45 3897 99 1468 7109 22 9374 5717 31 11573 434 1712 3809 3687 23 15102 475 16216 206 2110 99 26678 21 4 0 12240 26051 9242 36 3207 150 26051 9242 14629 31 809 14513 31 22627 35365 42 37341 102 25244 13375 236 21 4 0 475 28335 4 0 2473 27110 2537 482 12656 21 4 0 2393 4535 28982 21523 45 11884 29958 97 11928 2155 1389 2512 20 1857 1220 36 58 8753 3070 4509 1386 4048 26918 10335 1863 1627 74 328 5215 2108 3704 2249 29 4464 37 158 15770 23 119 465 17177 400 6128 46 13156 99 21 4 0 31233 109 7789 9349 3687 4458 42 569 7496 663 7092 315 3447 475 45 13672 1861 2545 262 25485 4601 20 1042 31 1271 881 7282 15561 323 26441 7424 119 23789 35418 206 25485 4601 20 5502 355 707 18443 42 663 15561 323 25254 12022 369 19268 2950 23789 45 5588 2846 7219 377 25485 4601 14767 21 4 0 -1 -1 -1 -1 -1 -1 -1 -1 -1 -1 -1 -1 -1 -1 -1 -1 -1 -1 -1 -1 -1 -1 -1 -1 -1 -1 -1 -1 -1 -1 -1 -1 -1 -1 -1 -1 -1 -1 -1 -1 -1 -1 -1 -1 -1 -1 -1 -1 -1 -1 -1 -1 -1 -1 -1 -1 -1 -1 -1 -1 -1 -1 -1 -1 -1 -1 -1 -1 -1 -1 -1 -1 -1 -1 -1 -1 -1 -1 -1 -1 -1 -1 -1 -1 -1 -1 -1 -1 -1 -1 -1 -1 -1 -1 -1 -1 -1 -1 -1 -1 -1 -1 -1 -1 -1 -1 -1 -1 -1 -1 -1 -1 -1 -1 -1 -1 -1 -1 -1 -1 -1 -1 -1 -1 -1 -1 -1 -1 -1 -1 -1 -1 -1 -1 -1 -1 -1 -1 -1 -1 -1 -1 -1 -1 -1 -1 -1 -1 -1 -1 -1 -1 -1 -1 -1 -1 -1 -1 -1 -1 -1 -1 -1 -1 -1 -1 -1 -1 -1 -1 -1 -1 -1 -1 -1 -1 -1 -1 -1 -1 -1 -1 -1 -1 -1 -1 -1 -1 -1 -1 -1 -1 -1 -1 -1 -1 -1 -1 -1 -1 -1 -1 -1 -1 -1 -1 -1 -1 -1 -1 -1 -1 -1 -1 -1 -1 -1 -1 -1 -1 -1 -1 -1 -1 -1 -1 -1 -1 -1 -1 -1 -1 -1 -1 -1 -1 -1 -1 -1 -1 -1 -1 -1 -1 -1 -1 -1 -1 -1 -1 -1 -1 -1 -1 -1 -1 -1 -1 -1 -1 -1 -1 -1 -1 -1 -1 -1 -1 -1 -1 -1 -1 -1 -1 -1 -1 -1 -1 -1 -1 -1 -1 -1 -1 -1 -1 -1 -1 -1 -1 -1 -1 -1 -1 -1 -1 -1 -1 -1 -1 -1 -1 -1 -1 -1 -1 -1 -1 -1 -1 -1 -1 -1 -1 -1 -1 -1 -1 -1 -1 -1 -1 -1 -1 -1 -1 -1 -1 -1 -1 -1 -1 -1 -1 -1 -1 -1 -1 -1 -1 -1 -1 -1 -1 -1 -1 -1 -1 -1 -1 -1 -1 -1 -1 -1 -1 -1 -1 -1 -1 -1 -1 -1 -1 -1 -1 -1 -1 -1 -1 -1 -1 -1 -1 -1 -1 -1 -1 -1 -1 -1 -1 -1 -1 -1 -1 -1 -1 -1 -1 -1 -1 -1 -1 -1 -1 -1 -1 -1 -1 -1 -1 -1 -1 -1 -1 -1 -1 -1 -1 -1 -1 -1 -1 -1 -1 -1 -1 -1 -1 -1 -1 -1 -1 -1 -1 -1 -1 -1 -1 -1 -1 -1 -1 -1 -1 -1 -1 -1 -1 -1 -1 -1 -1 -1 -1 -1 -1 -1 -1 -1 -1 -1 -1 -1 -1 -1 -1 -1 -1 -1 -1 -1 -1 -1 -1 -1 -1 -1 -1 -1 -1 -1 -1 -1 -1 -1 -1 -1 -1 -1 -1 -1 -1 -1 -1 -1 -1 -1 -1 -1 -1 -1 -1 -1 -1 -1 -1 -1 -1 -1 -1 -1 -1 -1 -1 -1 -1 -1 -1 -1 -1 -1 -1 -1 -1 -1 -1 -1 -1 -1 -1 -1 -1 -1 -1 -1 -1 -1 -1 -1 -1 -1 -1 -1 -1 -1 -1 -1 -1 -1 -1 -1 -1 -1 -1 -1 -1 -1 -1 -1 -1 -1 -1 -1 -1 -1 -1 -1 -1 -1 -1 -1 -1 -1 -1 -1 -1 -1 -1 -1 -1 -1 -1 -1 -1 -1 -1 -1 -1 -1 -1 -1 -1 -1 -1 -1 -1 -1 -1 -1 -1 -1 -1 -1 -1 -1 -1 -1 -1 -1 -1 -1 -1 -1 -1 -1 -1 -1 -1 -1 -1 -1 -1 -1\n",
            "INFO:tensorflow:Encoder-Token-Ids:3 270 2 139 2 7035 2 35 2 12234 2 28 2 7993 2 1471 18 2 19267 2 368 2 6856 296 25 2 151 2 6952 17 4 3 19093 267 24 472 28 2 2559 18 2 28 2 5332 2 2431 4 3 1039 18 2 48 2 19 2 19 2 630 4683 17553 2 480 2 1533 2 6391 2 70 2 9252 18 2 19 2 636 2 3527 2 154 2 4474 2 66 2 72 2 3748 24 638 2 20489 2 480 18 2 124 2 41 2 19 2 2299 2 26 2 19 2 19 2 630 4683 17553 2 480 2 35 2 28 2 363 24 638 2 20489 2 480 2 27 2 1112 2 35 2 15004 2 3640 2 12844 2 66 2 19 2 914 2 26 2 19 2 87 91 2 796 2 35 2 19 2 3189 2 26 2 19 2 82 91 2 796 17 4 3 27 2 1696 2 311 2 3361 2 17651 18 2 28 2 30845 2 39 2 469 2 35 2 19925 2 28 2 773 2 9743 2 26 2 29605 10002 2 27 2 1112 2 35 2 3001 2 196 2 223 2 6626 17 4 3 3113 2 19 2 7318 2 41 2 868 2 49 2 121 18 2 69 2 6555 2 28 2 1420 2 18458 17 4 3 222 2 2146 2 1173 34 2 19 2 44 9605 1572 2 2477 14792 1695 2 306 2 736 44 2 1791 17 4 3 67 2 599 2 48 2 12822 131 8283 73 16 2 22 110 16 113 1312 2 2348 2 103 2 12822 131 24 267 2 2290 2 27 2 16 318 24 635 2 2197 2 41 2 878 2 48 2 84 2 336 81 4 3 166 2 83 2 3788 18 2 27 2 202 18 2 21767 101 4771 44 25 2 9447 2 139 2 7234 112 2 1119 2 19 2 510 1578 24 318 2 633 2 35 2 4391 2 19 2 329 3124 2 7684 2 66 2 19 2 560 18 2 216 2 19 2 513 2 41 2 12356 16 40 2 91 27 2 30 2 41 2 2408 2 731 2 56 2 329 3124 2 131 2 9297 6718 17 4 3 4827 840 24 1106 2 2559 2 39 2 28 2 16637 2 2559 2 12924 2 35 2 635 318 2 22 1309 16 2 363 23 2 24893 2 420 2 27 2 35 540 6936 16 24565 24 2139 18 2 387 1578 24 1079 2 2125 18 2 18810 2 235 18 2 18810 2 7178 17 4 3 2559 2 6970 2 264 2 103 2 2133 35 1079 24 1106 2 2559 2 41 2 1186 2 27 2 1534 2 504 2 941 28 35 24 2139 18 2 1232 391 2 235 2 27 2 19 2 277 2 28702 2 544 2 3487 4197 2 22 351 2 26 2 1185 2 67 937 2 1644 2 27027 2 329 3124 2 131 2 21767 6718 23 2 151 2 176 2 599 2 49 2 840 770 5336 24 27 2 2559 2 27 2 510 635 24 22154 2 910 18 2 35686 98 1106 24 22154 2 910 2 443 2 597 2 5067 2 30 2 12253 2 19 2 2559 17 4 3 27 2 3454 2 19 2 2148 2 26 2 338 2 28 2 1879 2 26 2 19 2 625 2 26 2 19 2 287 690 2 300 1578 80 16 79 18 2 124 2 41 2 19 2 22627 24 37689 2 625 18 2 41 2 5726 2 66 2 5975 2 6912 2 3252 2 35 2 2613 2 26 2 19 2 4306 17 4 3 941 28 3346 24 391 5138 2 6950 17911 4 3 69 2 39 2 2369 2 103 2 135 2 41 2 38 16 2 26 2 19 2 426 2 8914 2 802 2 49 2 103 2 246 17 4 3 27 2 2479 2 35 2 1670 16 5545 16 18 2 151 2 41 2 9548 9325 27 2 216 2 1250 2 131 2 11000 2 19 2 5975 2 1101 2 320 2 2129 18 2 80 1287 16 3908 16 2 6213 2 19 2 11649 15994 16 40 2 5704 2 300 28720 6547 2 48 2 72 2 20081 2 4803 1815 2 26 2 19 2 5975 2 1101 2 30 2 1941 2 4803 1815 2 52 2 19 2 205 2 22 1135 2 52 2 202 2 2185 2 94 2249 2 27 2 33 3270 11422 1578 33 81 4 3 319 2 139 2 349 2 4929 25 2 26 2 921 300 34 2 19 2 3046 2 921 300 2 41 2 28 2 351 2 26 2 19 2 5975 2 312 2 100 2 375 2 7952 25 2 1035 2 49 2 19 2 2559 2 35 2 10182 2 1420 2 14246 25 93 2 19 2 1974 2 921 300 2 41 2 5320 2 52 2 84 2 78 18055 2261 2 30 2 2901 2 35 2 28 2 2559 2 27 2 1112 2 35 2 4297 2 166 2 5067 25 93 2 19 2 2523 2 921 300 2 41 2 2291 2 56 2 28 2 38513 2 10675 18 2 100 2 84 2 8152 2 27 2 6850 2 432 2 41 2 7299 2 30 2 41 2 10178 2 49 2 19 2 2559 17 4 -1 -1 -1 -1 -1 -1 -1 -1 -1 -1 -1 -1 -1 -1 -1 -1 -1 -1 -1 -1 -1 -1 -1 -1 -1 -1 -1 -1 -1 -1 -1 -1 -1 -1 -1 -1 -1 -1 -1 -1 -1 -1\n",
            "INFO:tensorflow:Encoder-Pos-Ids:0 1 2 3 4 5 6 7 8 9 10 11 12 13 14 15 16 17 18 19 20 21 22 23 24 25 26 27 28 29 30 0 1 2 3 4 5 6 7 8 9 10 11 12 13 14 15 0 1 2 3 4 5 6 7 8 9 10 11 12 13 14 15 16 17 18 19 20 21 22 23 24 25 26 27 28 29 30 31 32 33 34 35 36 37 38 39 40 41 42 43 44 45 46 47 48 49 50 51 52 53 54 55 56 57 58 59 60 61 62 63 64 65 66 67 68 69 70 71 72 73 74 75 76 77 78 79 80 81 82 83 84 85 86 87 88 89 90 91 92 93 94 95 96 97 98 99 100 101 102 103 104 105 106 107 108 109 110 111 112 113 114 115 116 117 118 119 120 121 122 0 1 2 3 4 5 6 7 8 9 10 11 12 13 14 15 16 17 18 19 20 21 22 23 24 25 26 27 28 29 30 31 32 33 34 35 36 37 38 39 40 41 42 43 44 45 46 47 48 49 0 1 2 3 4 5 6 7 8 9 10 11 12 13 14 15 16 17 18 19 20 21 22 23 24 25 26 0 1 2 3 4 5 6 7 8 9 10 11 12 13 14 15 16 17 18 19 20 21 22 23 24 25 0 1 2 3 4 5 6 7 8 9 10 11 12 13 14 15 16 17 18 19 20 21 22 23 24 25 26 27 28 29 30 31 32 33 34 35 36 37 38 39 40 41 42 43 44 45 46 47 48 49 0 1 2 3 4 5 6 7 8 9 10 11 12 13 14 15 16 17 18 19 20 21 22 23 24 25 26 27 28 29 30 31 32 33 34 35 36 37 38 39 40 41 42 43 44 45 46 47 48 49 50 51 52 53 54 55 56 57 58 59 60 61 62 63 64 65 66 67 68 69 70 71 72 73 74 75 76 77 78 79 80 81 82 83 84 85 86 87 88 0 1 2 3 4 5 6 7 8 9 10 11 12 13 14 15 16 17 18 19 20 21 22 23 24 25 26 27 28 29 30 31 32 33 34 35 36 37 38 39 40 41 42 43 44 45 46 47 48 49 50 51 52 53 54 55 56 57 58 59 60 61 62 0 1 2 3 4 5 6 7 8 9 10 11 12 13 14 15 16 17 18 19 20 21 22 23 24 25 26 27 28 29 30 31 32 33 34 35 36 37 38 39 40 41 42 43 44 45 46 47 48 49 50 51 52 53 54 55 56 57 58 59 60 61 62 63 64 65 66 67 68 69 70 71 72 73 74 75 76 77 78 79 80 81 82 83 84 85 86 87 88 89 90 91 92 93 94 95 96 97 98 99 100 101 102 103 104 105 106 107 108 109 110 111 112 113 114 115 116 117 118 119 120 121 122 123 0 1 2 3 4 5 6 7 8 9 10 11 12 13 14 15 16 17 18 19 20 21 22 23 24 25 26 27 28 29 30 31 32 33 34 35 36 37 38 39 40 41 42 43 44 45 46 47 48 49 50 51 52 53 54 55 56 57 58 59 60 61 62 63 64 65 66 67 68 69 70 71 72 0 1 2 3 4 5 6 7 8 9 10 0 1 2 3 4 5 6 7 8 9 10 11 12 13 14 15 16 17 18 19 20 21 22 23 24 25 26 27 28 29 30 31 32 0 1 2 3 4 5 6 7 8 9 10 11 12 13 14 15 16 17 18 19 20 21 22 23 24 25 26 27 28 29 30 31 32 33 34 35 36 37 38 39 40 41 42 43 44 45 46 47 48 49 50 51 52 53 54 55 56 57 58 59 60 61 62 63 64 65 66 67 68 69 70 71 72 73 74 75 76 77 78 79 80 81 82 83 84 85 86 87 88 89 90 91 92 93 94 95 96 97 98 99 100 101 102 103 104 105 106 107 108 109 110 111 0 1 2 3 4 5 6 7 8 9 10 11 12 13 14 15 16 17 18 19 20 21 22 23 24 25 26 27 28 29 30 31 32 33 34 35 36 37 38 39 40 41 42 43 44 45 46 47 48 49 50 51 52 53 54 55 56 57 58 59 60 61 62 63 64 65 66 67 68 69 70 71 72 73 74 75 76 77 78 79 80 81 82 83 84 85 86 87 88 89 90 91 92 93 94 95 96 97 98 99 100 101 102 103 104 105 106 107 108 109 110 111 112 113 114 115 116 117 118 119 120 121 122 123 124 125 126 127 128 129 130 131 132 133 134 135 136 137 138 139 140 141 142 143 144 145 146 147 148 149 150 151 152 153 -1 -1 -1 -1 -1 -1 -1 -1 -1 -1 -1 -1 -1 -1 -1 -1 -1 -1 -1 -1 -1 -1 -1 -1 -1 -1 -1 -1 -1 -1 -1 -1 -1 -1 -1 -1 -1 -1 -1 -1 -1 -1\n",
            "INFO:tensorflow:Encoder-Group-Ids:0 0 0 0 0 0 0 0 0 0 0 0 0 0 0 0 0 0 0 0 0 0 0 0 0 0 0 0 0 0 0 1 1 1 1 1 1 1 1 1 1 1 1 1 1 1 1 2 2 2 2 2 2 2 2 2 2 2 2 2 2 2 2 2 2 2 2 2 2 2 2 2 2 2 2 2 2 2 2 2 2 2 2 2 2 2 2 2 2 2 2 2 2 2 2 2 2 2 2 2 2 2 2 2 2 2 2 2 2 2 2 2 2 2 2 2 2 2 2 2 2 2 2 2 2 2 2 2 2 2 2 2 2 2 2 2 2 2 2 2 2 2 2 2 2 2 2 2 2 2 2 2 2 2 2 2 2 2 2 2 2 2 2 2 2 2 2 2 2 2 3 3 3 3 3 3 3 3 3 3 3 3 3 3 3 3 3 3 3 3 3 3 3 3 3 3 3 3 3 3 3 3 3 3 3 3 3 3 3 3 3 3 3 3 3 3 3 3 3 3 4 4 4 4 4 4 4 4 4 4 4 4 4 4 4 4 4 4 4 4 4 4 4 4 4 4 4 5 5 5 5 5 5 5 5 5 5 5 5 5 5 5 5 5 5 5 5 5 5 5 5 5 5 6 6 6 6 6 6 6 6 6 6 6 6 6 6 6 6 6 6 6 6 6 6 6 6 6 6 6 6 6 6 6 6 6 6 6 6 6 6 6 6 6 6 6 6 6 6 6 6 6 6 7 7 7 7 7 7 7 7 7 7 7 7 7 7 7 7 7 7 7 7 7 7 7 7 7 7 7 7 7 7 7 7 7 7 7 7 7 7 7 7 7 7 7 7 7 7 7 7 7 7 7 7 7 7 7 7 7 7 7 7 7 7 7 7 7 7 7 7 7 7 7 7 7 7 7 7 7 7 7 7 7 7 7 7 7 7 7 7 7 8 8 8 8 8 8 8 8 8 8 8 8 8 8 8 8 8 8 8 8 8 8 8 8 8 8 8 8 8 8 8 8 8 8 8 8 8 8 8 8 8 8 8 8 8 8 8 8 8 8 8 8 8 8 8 8 8 8 8 8 8 8 8 9 9 9 9 9 9 9 9 9 9 9 9 9 9 9 9 9 9 9 9 9 9 9 9 9 9 9 9 9 9 9 9 9 9 9 9 9 9 9 9 9 9 9 9 9 9 9 9 9 9 9 9 9 9 9 9 9 9 9 9 9 9 9 9 9 9 9 9 9 9 9 9 9 9 9 9 9 9 9 9 9 9 9 9 9 9 9 9 9 9 9 9 9 9 9 9 9 9 9 9 9 9 9 9 9 9 9 9 9 9 9 9 9 9 9 9 9 9 9 9 9 9 9 9 10 10 10 10 10 10 10 10 10 10 10 10 10 10 10 10 10 10 10 10 10 10 10 10 10 10 10 10 10 10 10 10 10 10 10 10 10 10 10 10 10 10 10 10 10 10 10 10 10 10 10 10 10 10 10 10 10 10 10 10 10 10 10 10 10 10 10 10 10 10 10 10 10 11 11 11 11 11 11 11 11 11 11 11 12 12 12 12 12 12 12 12 12 12 12 12 12 12 12 12 12 12 12 12 12 12 12 12 12 12 12 12 12 12 12 12 12 13 13 13 13 13 13 13 13 13 13 13 13 13 13 13 13 13 13 13 13 13 13 13 13 13 13 13 13 13 13 13 13 13 13 13 13 13 13 13 13 13 13 13 13 13 13 13 13 13 13 13 13 13 13 13 13 13 13 13 13 13 13 13 13 13 13 13 13 13 13 13 13 13 13 13 13 13 13 13 13 13 13 13 13 13 13 13 13 13 13 13 13 13 13 13 13 13 13 13 13 13 13 13 13 13 13 13 13 13 13 13 13 14 14 14 14 14 14 14 14 14 14 14 14 14 14 14 14 14 14 14 14 14 14 14 14 14 14 14 14 14 14 14 14 14 14 14 14 14 14 14 14 14 14 14 14 14 14 14 14 14 14 14 14 14 14 14 14 14 14 14 14 14 14 14 14 14 14 14 14 14 14 14 14 14 14 14 14 14 14 14 14 14 14 14 14 14 14 14 14 14 14 14 14 14 14 14 14 14 14 14 14 14 14 14 14 14 14 14 14 14 14 14 14 14 14 14 14 14 14 14 14 14 14 14 14 14 14 14 14 14 14 14 14 14 14 14 14 14 14 14 14 14 14 14 14 14 14 14 14 14 14 14 14 14 14 -1 -1 -1 -1 -1 -1 -1 -1 -1 -1 -1 -1 -1 -1 -1 -1 -1 -1 -1 -1 -1 -1 -1 -1 -1 -1 -1 -1 -1 -1 -1 -1 -1 -1 -1 -1 -1 -1 -1 -1 -1 -1\n",
            "INFO:tensorflow:Decoder-Token-Ids:3 3731 38048 46 3744 194 24278 20 11053 129 34937 4003 32676 14630 944 99 21 4 3 5183 3999 13983 873 475 4 3 929 20 7088 3474 1475 65 15642 31 1 4564 18249 27404 9639 20 87 22405 397 82 24994 8911 20 23721 4826 6131 22690 5824 20 7088 3474 1475 21699 887 172 871 6230 6981 46 11512 20 5201 30253 37497 117 6230 6981 3495 7341 13248 12933 99 21 4 3 3891 37733 36 20 14057 1014 46 171 3044 407 4691 46 809 29605 10002 45 1401 6764 20 6577 46 3594 1049 14922 21 4 3 3815 17683 26081 129 546 3289 482 13146 24961 46 7078 2270 21 4 3 1173 29 22 167 1750 29 4352 37 87 51 2 58 16568 14030 577 276 1829 64 3233 21 4 3 24214 1016 859 10814 21 4 3 1778 29 42 21602 99 86 37 20 9027 3040 13254 434 838 17917 35087 102 6372 797 12812 20130 1737 876 2229 20 9519 23592 171 12472 46 23585 3809 495 212 5112 236 21 4 3 18112 475 22 6318 4596 1165 23 36 20 30641 32569 552 24614 10916 7148 32240 15401 21 4 3 258 475 36 20 475 1522 5319 28702 150 862 2758 51 115 475 1373 45 34907 8853 20 649 249 28000 836 13920 836 31 2298 36711 947 45 3897 99 1468 7109 22 9374 5717 31 11573 434 1712 3809 3687 23 15102 475 16216 206 2110 99 26678 21 4 3 12240 26051 9242 36 3207 150 26051 9242 14629 31 809 14513 31 22627 35365 42 37341 102 25244 13375 236 21 4 3 475 28335 4 3 2473 27110 2537 482 12656 21 4 3 2393 4535 28982 21523 45 11884 29958 97 11928 2155 1389 2512 20 1857 1220 36 58 8753 3070 4509 1386 4048 26918 10335 1863 1627 74 328 5215 2108 3704 2249 29 4464 37 158 15770 23 119 465 17177 400 6128 46 13156 99 21 4 3 31233 109 7789 9349 3687 4458 42 569 7496 663 7092 315 3447 475 45 13672 1861 2545 262 25485 4601 20 1042 31 1271 881 7282 15561 323 26441 7424 119 23789 35418 206 25485 4601 20 5502 355 707 18443 42 663 15561 323 25254 12022 369 19268 2950 23789 45 5588 2846 7219 377 25485 4601 14767 21 4 -1 -1 -1 -1 -1 -1 -1 -1 -1 -1 -1 -1 -1 -1 -1 -1 -1 -1 -1 -1 -1 -1 -1 -1 -1 -1 -1 -1 -1 -1 -1 -1 -1 -1 -1 -1 -1 -1 -1 -1 -1 -1 -1 -1 -1 -1 -1 -1 -1 -1 -1 -1 -1 -1 -1 -1 -1 -1 -1 -1 -1 -1 -1 -1 -1 -1 -1 -1 -1 -1 -1 -1 -1 -1 -1 -1 -1 -1 -1 -1 -1 -1 -1 -1 -1 -1 -1 -1 -1 -1 -1 -1 -1 -1 -1 -1 -1 -1 -1 -1 -1 -1 -1 -1 -1 -1 -1 -1 -1 -1 -1 -1 -1 -1 -1 -1 -1 -1 -1 -1 -1 -1 -1 -1 -1 -1 -1 -1 -1 -1 -1 -1 -1 -1 -1 -1 -1 -1 -1 -1 -1 -1 -1 -1 -1 -1 -1 -1 -1 -1 -1 -1 -1 -1 -1 -1 -1 -1 -1 -1 -1 -1 -1 -1 -1 -1 -1 -1 -1 -1 -1 -1 -1 -1 -1 -1 -1 -1 -1 -1 -1 -1 -1 -1 -1 -1 -1 -1 -1 -1 -1 -1 -1 -1 -1 -1 -1 -1 -1 -1 -1 -1 -1 -1 -1 -1 -1 -1 -1 -1 -1 -1 -1 -1 -1 -1 -1 -1 -1 -1 -1 -1 -1 -1 -1 -1 -1 -1 -1 -1 -1 -1 -1 -1 -1 -1 -1 -1 -1 -1 -1 -1 -1 -1 -1 -1 -1 -1 -1 -1 -1 -1 -1 -1 -1 -1 -1 -1 -1 -1 -1 -1 -1 -1 -1 -1 -1 -1 -1 -1 -1 -1 -1 -1 -1 -1 -1 -1 -1 -1 -1 -1 -1 -1 -1 -1 -1 -1 -1 -1 -1 -1 -1 -1 -1 -1 -1 -1 -1 -1 -1 -1 -1 -1 -1 -1 -1 -1 -1 -1 -1 -1 -1 -1 -1 -1 -1 -1 -1 -1 -1 -1 -1 -1 -1 -1 -1 -1 -1 -1 -1 -1 -1 -1 -1 -1 -1 -1 -1 -1 -1 -1 -1 -1 -1 -1 -1 -1 -1 -1 -1 -1 -1 -1 -1 -1 -1 -1 -1 -1 -1 -1 -1 -1 -1 -1 -1 -1 -1 -1 -1 -1 -1 -1 -1 -1 -1 -1 -1 -1 -1 -1 -1 -1 -1 -1 -1 -1 -1 -1 -1 -1 -1 -1 -1 -1 -1 -1 -1 -1 -1 -1 -1 -1 -1 -1 -1 -1 -1 -1 -1 -1 -1 -1 -1 -1 -1 -1 -1 -1 -1 -1 -1 -1 -1 -1 -1 -1 -1 -1 -1 -1 -1 -1 -1 -1 -1 -1 -1 -1 -1 -1 -1 -1 -1 -1 -1 -1 -1 -1 -1 -1 -1 -1 -1 -1 -1 -1 -1 -1 -1 -1 -1 -1 -1 -1 -1 -1 -1 -1 -1 -1 -1 -1 -1 -1 -1 -1 -1 -1 -1 -1 -1 -1 -1 -1 -1 -1 -1 -1 -1 -1 -1 -1 -1 -1 -1 -1 -1 -1 -1 -1 -1 -1 -1 -1 -1 -1 -1 -1 -1 -1 -1 -1 -1 -1 -1 -1 -1 -1 -1 -1 -1 -1 -1 -1 -1 -1 -1 -1 -1 -1 -1 -1 -1 -1 -1 -1 -1 -1 -1 -1 -1 -1 -1 -1 -1 -1 -1 -1 -1 -1 -1 -1 -1 -1 -1 -1 -1 -1 -1 -1 -1 -1 -1 -1 -1 -1 -1 -1 -1 -1 -1 -1 -1 -1 -1 -1 -1 -1 -1 -1 -1 -1 -1 -1 -1 -1 -1 -1 -1 -1 -1 -1 -1 -1 -1 -1 -1 -1 -1 -1 -1 -1 -1 -1 -1 -1 -1 -1 -1 -1 -1 -1 -1\n",
            "INFO:tensorflow:Decoder-Pos-Ids:0 1 2 3 4 5 6 7 8 9 10 11 12 13 14 15 16 17 0 1 2 3 4 5 6 0 1 2 3 4 5 6 7 8 9 10 11 12 13 14 15 16 17 18 19 20 21 22 23 24 25 26 27 28 29 30 31 32 33 34 35 36 37 38 39 40 41 42 43 44 45 46 47 48 49 50 51 52 0 1 2 3 4 5 6 7 8 9 10 11 12 13 14 15 16 17 18 19 20 21 22 23 24 25 26 0 1 2 3 4 5 6 7 8 9 10 11 12 13 14 0 1 2 3 4 5 6 7 8 9 10 11 12 13 14 15 16 17 18 19 20 21 0 1 2 3 4 5 6 0 1 2 3 4 5 6 7 8 9 10 11 12 13 14 15 16 17 18 19 20 21 22 23 24 25 26 27 28 29 30 31 32 33 34 35 36 37 0 1 2 3 4 5 6 7 8 9 10 11 12 13 14 15 16 17 18 19 0 1 2 3 4 5 6 7 8 9 10 11 12 13 14 15 16 17 18 19 20 21 22 23 24 25 26 27 28 29 30 31 32 33 34 35 36 37 38 39 40 41 42 43 44 45 46 47 48 49 50 51 52 53 0 1 2 3 4 5 6 7 8 9 10 11 12 13 14 15 16 17 18 19 20 21 22 23 0 1 2 3 0 1 2 3 4 5 6 7 0 1 2 3 4 5 6 7 8 9 10 11 12 13 14 15 16 17 18 19 20 21 22 23 24 25 26 27 28 29 30 31 32 33 34 35 36 37 38 39 40 41 42 43 44 45 46 47 48 0 1 2 3 4 5 6 7 8 9 10 11 12 13 14 15 16 17 18 19 20 21 22 23 24 25 26 27 28 29 30 31 32 33 34 35 36 37 38 39 40 41 42 43 44 45 46 47 48 49 50 51 52 53 54 55 56 57 58 59 60 61 62 -1 -1 -1 -1 -1 -1 -1 -1 -1 -1 -1 -1 -1 -1 -1 -1 -1 -1 -1 -1 -1 -1 -1 -1 -1 -1 -1 -1 -1 -1 -1 -1 -1 -1 -1 -1 -1 -1 -1 -1 -1 -1 -1 -1 -1 -1 -1 -1 -1 -1 -1 -1 -1 -1 -1 -1 -1 -1 -1 -1 -1 -1 -1 -1 -1 -1 -1 -1 -1 -1 -1 -1 -1 -1 -1 -1 -1 -1 -1 -1 -1 -1 -1 -1 -1 -1 -1 -1 -1 -1 -1 -1 -1 -1 -1 -1 -1 -1 -1 -1 -1 -1 -1 -1 -1 -1 -1 -1 -1 -1 -1 -1 -1 -1 -1 -1 -1 -1 -1 -1 -1 -1 -1 -1 -1 -1 -1 -1 -1 -1 -1 -1 -1 -1 -1 -1 -1 -1 -1 -1 -1 -1 -1 -1 -1 -1 -1 -1 -1 -1 -1 -1 -1 -1 -1 -1 -1 -1 -1 -1 -1 -1 -1 -1 -1 -1 -1 -1 -1 -1 -1 -1 -1 -1 -1 -1 -1 -1 -1 -1 -1 -1 -1 -1 -1 -1 -1 -1 -1 -1 -1 -1 -1 -1 -1 -1 -1 -1 -1 -1 -1 -1 -1 -1 -1 -1 -1 -1 -1 -1 -1 -1 -1 -1 -1 -1 -1 -1 -1 -1 -1 -1 -1 -1 -1 -1 -1 -1 -1 -1 -1 -1 -1 -1 -1 -1 -1 -1 -1 -1 -1 -1 -1 -1 -1 -1 -1 -1 -1 -1 -1 -1 -1 -1 -1 -1 -1 -1 -1 -1 -1 -1 -1 -1 -1 -1 -1 -1 -1 -1 -1 -1 -1 -1 -1 -1 -1 -1 -1 -1 -1 -1 -1 -1 -1 -1 -1 -1 -1 -1 -1 -1 -1 -1 -1 -1 -1 -1 -1 -1 -1 -1 -1 -1 -1 -1 -1 -1 -1 -1 -1 -1 -1 -1 -1 -1 -1 -1 -1 -1 -1 -1 -1 -1 -1 -1 -1 -1 -1 -1 -1 -1 -1 -1 -1 -1 -1 -1 -1 -1 -1 -1 -1 -1 -1 -1 -1 -1 -1 -1 -1 -1 -1 -1 -1 -1 -1 -1 -1 -1 -1 -1 -1 -1 -1 -1 -1 -1 -1 -1 -1 -1 -1 -1 -1 -1 -1 -1 -1 -1 -1 -1 -1 -1 -1 -1 -1 -1 -1 -1 -1 -1 -1 -1 -1 -1 -1 -1 -1 -1 -1 -1 -1 -1 -1 -1 -1 -1 -1 -1 -1 -1 -1 -1 -1 -1 -1 -1 -1 -1 -1 -1 -1 -1 -1 -1 -1 -1 -1 -1 -1 -1 -1 -1 -1 -1 -1 -1 -1 -1 -1 -1 -1 -1 -1 -1 -1 -1 -1 -1 -1 -1 -1 -1 -1 -1 -1 -1 -1 -1 -1 -1 -1 -1 -1 -1 -1 -1 -1 -1 -1 -1 -1 -1 -1 -1 -1 -1 -1 -1 -1 -1 -1 -1 -1 -1 -1 -1 -1 -1 -1 -1 -1 -1 -1 -1 -1 -1 -1 -1 -1 -1 -1 -1 -1 -1 -1 -1 -1 -1 -1 -1 -1 -1 -1 -1 -1 -1 -1 -1 -1 -1 -1 -1 -1 -1 -1 -1 -1 -1 -1 -1 -1 -1 -1 -1 -1 -1 -1 -1 -1 -1 -1 -1 -1 -1 -1 -1 -1 -1 -1 -1 -1 -1 -1 -1 -1 -1 -1 -1 -1 -1 -1 -1 -1 -1 -1 -1 -1 -1 -1 -1 -1 -1 -1 -1 -1 -1 -1 -1 -1 -1 -1 -1 -1 -1 -1 -1 -1 -1 -1 -1 -1 -1 -1 -1 -1 -1 -1 -1 -1 -1 -1 -1 -1 -1 -1 -1 -1 -1 -1 -1 -1 -1 -1\n",
            "INFO:tensorflow:Decoder-Group-Ids:0 0 0 0 0 0 0 0 0 0 0 0 0 0 0 0 0 0 1 1 1 1 1 1 1 2 2 2 2 2 2 2 2 2 2 2 2 2 2 2 2 2 2 2 2 2 2 2 2 2 2 2 2 2 2 2 2 2 2 2 2 2 2 2 2 2 2 2 2 2 2 2 2 2 2 2 2 2 3 3 3 3 3 3 3 3 3 3 3 3 3 3 3 3 3 3 3 3 3 3 3 3 3 3 3 4 4 4 4 4 4 4 4 4 4 4 4 4 4 4 5 5 5 5 5 5 5 5 5 5 5 5 5 5 5 5 5 5 5 5 5 5 6 6 6 6 6 6 6 7 7 7 7 7 7 7 7 7 7 7 7 7 7 7 7 7 7 7 7 7 7 7 7 7 7 7 7 7 7 7 7 7 7 7 7 7 7 8 8 8 8 8 8 8 8 8 8 8 8 8 8 8 8 8 8 8 8 9 9 9 9 9 9 9 9 9 9 9 9 9 9 9 9 9 9 9 9 9 9 9 9 9 9 9 9 9 9 9 9 9 9 9 9 9 9 9 9 9 9 9 9 9 9 9 9 9 9 9 9 9 9 10 10 10 10 10 10 10 10 10 10 10 10 10 10 10 10 10 10 10 10 10 10 10 10 11 11 11 11 12 12 12 12 12 12 12 12 13 13 13 13 13 13 13 13 13 13 13 13 13 13 13 13 13 13 13 13 13 13 13 13 13 13 13 13 13 13 13 13 13 13 13 13 13 13 13 13 13 13 13 13 13 13 13 13 13 14 14 14 14 14 14 14 14 14 14 14 14 14 14 14 14 14 14 14 14 14 14 14 14 14 14 14 14 14 14 14 14 14 14 14 14 14 14 14 14 14 14 14 14 14 14 14 14 14 14 14 14 14 14 14 14 14 14 14 14 14 14 14 -1 -1 -1 -1 -1 -1 -1 -1 -1 -1 -1 -1 -1 -1 -1 -1 -1 -1 -1 -1 -1 -1 -1 -1 -1 -1 -1 -1 -1 -1 -1 -1 -1 -1 -1 -1 -1 -1 -1 -1 -1 -1 -1 -1 -1 -1 -1 -1 -1 -1 -1 -1 -1 -1 -1 -1 -1 -1 -1 -1 -1 -1 -1 -1 -1 -1 -1 -1 -1 -1 -1 -1 -1 -1 -1 -1 -1 -1 -1 -1 -1 -1 -1 -1 -1 -1 -1 -1 -1 -1 -1 -1 -1 -1 -1 -1 -1 -1 -1 -1 -1 -1 -1 -1 -1 -1 -1 -1 -1 -1 -1 -1 -1 -1 -1 -1 -1 -1 -1 -1 -1 -1 -1 -1 -1 -1 -1 -1 -1 -1 -1 -1 -1 -1 -1 -1 -1 -1 -1 -1 -1 -1 -1 -1 -1 -1 -1 -1 -1 -1 -1 -1 -1 -1 -1 -1 -1 -1 -1 -1 -1 -1 -1 -1 -1 -1 -1 -1 -1 -1 -1 -1 -1 -1 -1 -1 -1 -1 -1 -1 -1 -1 -1 -1 -1 -1 -1 -1 -1 -1 -1 -1 -1 -1 -1 -1 -1 -1 -1 -1 -1 -1 -1 -1 -1 -1 -1 -1 -1 -1 -1 -1 -1 -1 -1 -1 -1 -1 -1 -1 -1 -1 -1 -1 -1 -1 -1 -1 -1 -1 -1 -1 -1 -1 -1 -1 -1 -1 -1 -1 -1 -1 -1 -1 -1 -1 -1 -1 -1 -1 -1 -1 -1 -1 -1 -1 -1 -1 -1 -1 -1 -1 -1 -1 -1 -1 -1 -1 -1 -1 -1 -1 -1 -1 -1 -1 -1 -1 -1 -1 -1 -1 -1 -1 -1 -1 -1 -1 -1 -1 -1 -1 -1 -1 -1 -1 -1 -1 -1 -1 -1 -1 -1 -1 -1 -1 -1 -1 -1 -1 -1 -1 -1 -1 -1 -1 -1 -1 -1 -1 -1 -1 -1 -1 -1 -1 -1 -1 -1 -1 -1 -1 -1 -1 -1 -1 -1 -1 -1 -1 -1 -1 -1 -1 -1 -1 -1 -1 -1 -1 -1 -1 -1 -1 -1 -1 -1 -1 -1 -1 -1 -1 -1 -1 -1 -1 -1 -1 -1 -1 -1 -1 -1 -1 -1 -1 -1 -1 -1 -1 -1 -1 -1 -1 -1 -1 -1 -1 -1 -1 -1 -1 -1 -1 -1 -1 -1 -1 -1 -1 -1 -1 -1 -1 -1 -1 -1 -1 -1 -1 -1 -1 -1 -1 -1 -1 -1 -1 -1 -1 -1 -1 -1 -1 -1 -1 -1 -1 -1 -1 -1 -1 -1 -1 -1 -1 -1 -1 -1 -1 -1 -1 -1 -1 -1 -1 -1 -1 -1 -1 -1 -1 -1 -1 -1 -1 -1 -1 -1 -1 -1 -1 -1 -1 -1 -1 -1 -1 -1 -1 -1 -1 -1 -1 -1 -1 -1 -1 -1 -1 -1 -1 -1 -1 -1 -1 -1 -1 -1 -1 -1 -1 -1 -1 -1 -1 -1 -1 -1 -1 -1 -1 -1 -1 -1 -1 -1 -1 -1 -1 -1 -1 -1 -1 -1 -1 -1 -1 -1 -1 -1 -1 -1 -1 -1 -1 -1 -1 -1 -1 -1 -1 -1 -1 -1 -1 -1 -1 -1 -1 -1 -1 -1 -1 -1 -1 -1 -1 -1 -1 -1 -1 -1 -1 -1 -1 -1 -1 -1 -1 -1 -1 -1 -1 -1 -1 -1 -1 -1 -1 -1 -1 -1 -1 -1 -1 -1 -1 -1 -1 -1 -1 -1 -1 -1 -1 -1 -1 -1 -1 -1 -1 -1 -1 -1 -1 -1 -1 -1 -1 -1 -1 -1 -1 -1 -1 -1 -1 -1 -1 -1 -1 -1 -1 -1\n",
            "INFO:tensorflow:*** Example ***\n",
            "INFO:tensorflow:guids:['train-0-30016', 'train-0-5606', 'train-0-13178', 'train-0-37317', 'train-0-6690', 'train-0-25233', 'train-0-22249', 'train-0-32498', 'train-0-9614', 'train-0-20250', 'train-0-20525', 'train-0-17415', 'train-0-22734', 'train-0-40614', 'train-0-30156']\n",
            "INFO:tensorflow:src_texts:['On May 7, 766 or March 20 on the old calendar, he was appointed to Shimotsuke no kami (the governor of Shimotsuke Province) and left the capital for Shimotsuke Province.', 'He died age 83 on Nobember 3, 1661.', \"It is not extraneous that Saigo's ideology incorporated a pillar of Confucianism.\", 'Nanao warosoku (Japanese candle made in Nanao)', 'Following the demise of the Emperor Showa on January 7, 1989, he ascended the throne.', 'His literary names were Jinensai and Shugyokuan.', 'It is said the reasons why Hisamasa insisted that they should side with the Asakura clan were as follows: \"the alliance had been maintained since Sukemasa was in power;\" \"they were deeply indebted to the Asakura clan for joint fights against repeated attacks from the Saito, the Kyogoku, and the Rokkaku clans;\" and \"Hisamasa himself was skeptical about the character and policy of Nobunaga.\"', 'Chapter 7: Penalty (Article 29 to 34)', \"However, further verification is required as there are a theory of his having committed suicide with a gun (Koshu OGASAWARA and Jiro NITTA, who interviewed him, put forward this theory) and another theory, by Akitomo MATSUKI, that needs more background says, 'It was impossible for his frozen fingers to manipulate a gun.'\", 'Dewa Yonezawa Gin: cupelled silver coins hallmarked with Chinese characters placed in Kikko-waku (hexagonally-shaped frame), but the characters are unknown.', \"Establishment of kaisho, in particular, as a dealing place of rice was spread out throughout the country; and among them Kome-kaisho (rice kaisho) in Dojima area of Osaka, where Kurayashiki (feudal lords' residence with adjoining warehouse) were especially concentrated, and Nagasaki-kaisho in Nagasaki City, where imported goods were treated, were well known.\", 'Goat', 'After the war, the reputation turned back to the prewar state, and the site of his birthplace has become just a small park.', 'He was also famous as a master of tea ceremony and a man of refined taste, and was also known as Shunsui.', \"In some mountainous areas in Chugoku region, Otaue refers to having rice planted by female rice planters singing in accompaniment to hayashi (a musical accompaniment in Japanese classical or folk music) played on traditional Japanese instruments such as the sasara (a traditional Japanese percussion instrument), fue (Japanese flute), drums, and bells in an old family's rice fields have been cultivated with the use of beautifully dressed cows.\"]\n",
            "INFO:tensorflow:tar_texts:['さらに天平神護2年（767年）3月20日 (旧暦)には下野守に任ぜられ下野国に下向する。', '寛文元年（1661年）9月12日、83歳で没した。', 'これは西郷の思想が儒学を一方の柱にしていたことと無縁ではないだろう。', '七尾和蝋燭', '昭和64年（1989年）1月7日昭和天皇の崩御を受け即位。', '号は自然斎、種玉庵。', '久政が朝倉方につくべきだと主張した理由として、「亮政の代からの同盟関係であること」、「度重なる斎藤氏氏、京極氏、六角氏の攻勢に共闘した大恩」、「久政自身が信長の性格や方針に懐疑的であったこと」などが挙げられている。', '第7章 罰則（29 - 34条）', 'しかしピストル自殺説（小笠原孤酒及び彼に取材した新田次郎が採っている）もあることや「凍傷の指で銃の操作は不可能」として新たな背景を探る松木明知の研究もあり、更なる検証・進展が望まれる。', '出羽米澤銀（でわよねざわぎん）：灰吹銀に亀甲枠極印が打たれたものであるが文字は不明である。', '特に米の取引所としての会所の設置は全国各地で行われ、特に蔵屋敷が集中していた大坂堂島の米会所や長崎貿易による輸入品を扱った長崎市の長崎会所などは良く知られている。', 'ヤギ', '戦後、評価は元に戻り、現在、増田の生家跡地は小さな公園になっている。', '茶人、風流人としても有名で号を春翠と称す。', '中国地方の山間I部では、旧家の由緒ある田に美しく着飾ったウシを入れて代かきをし、ささら・笛・太鼓・鉦などの囃に合わせて田植歌をうたいながら早乙女たちが田植をすることを大田植と呼んでいる。']\n",
            "INFO:tensorflow:Target:1767 25866 596 5317 50 29 22 21185 29 2078 37 130 51 2 22 20108 23 186 14944 1666 28594 14944 301 45 377 2758 117 21 4 0 16213 2108 22 30431 29 4352 37 89 51 20 2665 4365 17337 21 4 0 2276 21900 31 5593 42 20132 572 46 5349 31 6082 45 32061 65 1175 3886 6231 17992 21 4 0 21115 528 39624 1 4 0 167 1746 29 10469 29 23 43 37 85 51 167 11562 33340 2853 12051 21 4 0 9656 3232 5895 20 1167 1863 9200 21 4 0 810 1176 42 14800 19005 6372 14653 944 27245 171 6634 119 508 5117 1176 31 516 1524 6253 2060 12422 3793 367 33992 9388 838 838 20 27202 838 20 30223 4223 12681 3926 45 4512 6532 99 140 6481 3793 810 1176 13066 22036 31 11283 109 13248 45 13280 13245 702 29791 64 3695 24596 417 21 4 0 107 85 1458 2 14495 4180 13701 2 24 2 908 1482 23 4 0 929 37517 13790 2791 22 13759 29524 2958 886 5189 45 11416 99 4431 3600 42 9359 1773 23 2765 1086 109 58 36424 6984 31 4676 55 5873 31 10826 36 21982 64 119 8137 13013 38983 1045 485 564 1070 3371 6604 20 12099 3416 18807 32 1737 3398 42 4185 25942 21 4 0 19166 1606 2573 3202 22 55 1639 35942 14583 27418 23 34 11130 7121 3202 45 6538 3194 3306 3333 3798 42 37535 10864 3394 3450 19619 21 4 0 2043 1606 31 36645 119 10828 714 17418 36 32523 55 10263 20 2043 2000 8778 42 13418 772 11555 1193 6638 1606 445 714 109 4434 9350 350 10870 1972 38563 23741 31 4434 445 714 15912 14847 9941 21 4 0 1000 1266 4 0 5567 20 3948 36 328 15471 20 2027 20 20025 31 412 339 14221 36 6250 1274 3255 21 4 0 3986 172 20 955 957 172 6066 6895 55 146 46 1187 25165 65 5060 614 21 4 0 727 10661 184 859 79 257 149 20 664 2929 37952 1552 330 45 34450 1204 13071 711 27172 35240 516 26368 17085 20 21147 642 32 19169 32 16944 32 1 707 39928 18754 330 7634 1065 46 857 2313 3018 3594 14787 13607 330 7634 46 11102 15640 7634 37276 21 4 0 -1 -1 -1 -1 -1 -1 -1 -1 -1 -1 -1 -1 -1 -1 -1 -1 -1 -1 -1 -1 -1 -1 -1 -1 -1 -1 -1 -1 -1 -1 -1 -1 -1 -1 -1 -1 -1 -1 -1 -1 -1 -1 -1 -1 -1 -1 -1 -1 -1 -1 -1 -1 -1 -1 -1 -1 -1 -1 -1 -1 -1 -1 -1 -1 -1 -1 -1 -1 -1 -1 -1 -1 -1 -1 -1 -1 -1 -1 -1 -1 -1 -1 -1 -1 -1 -1 -1 -1 -1 -1 -1 -1 -1 -1 -1 -1 -1 -1 -1 -1 -1 -1 -1 -1 -1 -1 -1 -1 -1 -1 -1 -1 -1 -1 -1 -1 -1 -1 -1 -1 -1 -1 -1 -1 -1 -1 -1 -1 -1 -1 -1 -1 -1 -1 -1 -1 -1 -1 -1 -1 -1 -1 -1 -1 -1 -1 -1 -1 -1 -1 -1 -1 -1 -1 -1 -1 -1 -1 -1 -1 -1 -1 -1 -1 -1 -1 -1 -1 -1 -1 -1 -1 -1 -1 -1 -1 -1 -1 -1 -1 -1 -1 -1 -1 -1 -1 -1 -1 -1 -1 -1 -1 -1 -1 -1 -1 -1 -1 -1 -1 -1 -1 -1 -1 -1 -1 -1 -1 -1 -1 -1 -1 -1 -1 -1 -1 -1 -1 -1 -1 -1 -1 -1 -1 -1 -1 -1 -1 -1 -1 -1 -1 -1 -1 -1 -1 -1 -1 -1 -1 -1 -1 -1 -1 -1 -1 -1 -1 -1 -1 -1 -1 -1 -1 -1 -1 -1 -1 -1 -1 -1 -1 -1 -1 -1 -1 -1 -1 -1 -1 -1 -1 -1 -1 -1 -1 -1 -1 -1 -1 -1 -1 -1 -1 -1 -1 -1 -1 -1 -1 -1 -1 -1 -1 -1 -1 -1 -1 -1 -1 -1 -1 -1 -1 -1 -1 -1 -1 -1 -1 -1 -1 -1 -1 -1 -1 -1 -1 -1 -1 -1 -1 -1 -1 -1 -1 -1 -1 -1 -1 -1 -1 -1 -1 -1 -1 -1 -1 -1 -1 -1 -1 -1 -1 -1 -1 -1 -1 -1 -1 -1 -1 -1 -1 -1 -1 -1 -1 -1 -1 -1 -1 -1 -1 -1 -1 -1 -1 -1 -1 -1 -1 -1 -1 -1 -1 -1 -1 -1 -1 -1 -1 -1 -1 -1 -1 -1 -1 -1 -1 -1 -1 -1 -1 -1 -1 -1 -1 -1 -1 -1 -1 -1 -1 -1 -1 -1 -1 -1 -1 -1 -1 -1 -1 -1 -1 -1 -1 -1 -1 -1 -1 -1 -1 -1 -1 -1 -1 -1 -1 -1 -1 -1 -1 -1 -1 -1 -1 -1 -1 -1 -1 -1 -1 -1 -1 -1 -1 -1 -1 -1 -1 -1 -1 -1 -1 -1 -1 -1 -1 -1 -1 -1 -1 -1 -1 -1 -1 -1 -1 -1 -1 -1 -1 -1 -1 -1 -1 -1 -1 -1 -1 -1 -1 -1 -1 -1 -1 -1 -1 -1 -1 -1 -1 -1 -1 -1 -1 -1 -1 -1 -1 -1 -1 -1 -1 -1 -1 -1 -1 -1 -1 -1 -1 -1 -1 -1 -1 -1 -1 -1 -1 -1 -1 -1 -1 -1 -1 -1 -1 -1 -1 -1 -1 -1 -1 -1 -1 -1 -1 -1 -1 -1 -1 -1 -1 -1 -1 -1 -1 -1 -1 -1 -1 -1 -1 -1 -1 -1 -1 -1 -1 -1 -1 -1 -1 -1 -1 -1 -1 -1 -1 -1 -1 -1 -1 -1 -1 -1 -1 -1 -1 -1 -1 -1 -1 -1 -1 -1 -1 -1 -1 -1 -1 -1 -1 -1 -1 -1 -1 -1 -1 -1 -1 -1 -1 -1 -1 -1 -1 -1 -1 -1 -1 -1 -1 -1\n",
            "INFO:tensorflow:Encoder-Token-Ids:3 38 2 125 2 1951 2 22150 2 100 2 180 2 130 2 38 2 19 2 705 2 9857 18 2 67 2 41 2 1539 2 35 2 1695 7029 9369 16 2 131 2 11926 2 22 19 2 2175 2 26 2 1695 7029 9369 16 2 865 23 2 30 2 1035 2 19 2 1799 2 52 2 1695 7029 9369 16 2 865 17 4 3 67 2 593 2 474 2 2665 2 38 2 131 53 16 73 1211 2 1302 2 30431 17 4 3 69 2 39 2 199 2 4280 59 16 2009 2 103 2 4827 300 44 25 2 450 16 3144 2 8164 2 28 2 25134 2 26 2 11099 7070 72 1631 17 4 3 17819 98 2 269 675 11422 2 22 972 2 31068 2 427 2 27 2 17819 98 23 4 3 598 2 19 2 7393 39 16 2 26 2 19 2 5704 2 696 28 2 38 2 191 2 1951 2 8991 2 67 2 28213 16 40 2 19 2 13990 17 4 3 84 2 5389 2 737 2 139 2 6368 16 59 4827 2 30 2 5224 3270 11422 72 17 4 3 69 2 39 2 2369 2 19 2 12152 2 6029 2 84 28 8821 2 27 25 39 1410 2 103 2 270 2 4304 2 592 2 70 2 19 2 28 24179 2 7684 2 139 2 48 2 6012 34 2 33 19 2 5924 2 176 2 272 2 12192 2 550 2 9369 16 8821 2 41 2 27 2 1159 93 33 2 33 270 2 139 2 31310 2 27 19890 16 40 2 35 2 19 2 28 24179 2 7684 2 52 2 5376 2 3816 25 2 639 2 18430 2 14657 2 66 2 19 2 4827 35 18 2 19 2 19722 300 1079 18 2 30 2 19 2 24916 24662 2 7684 25 93 33 2 30 2 33 84 28 8821 2 3138 2 41 2 25 9197 6242 2 338 2 19 2 2354 2 30 2 4474 2 26 2 24731 8898 17 33 4 3 5781 2 85 34 2 16867 2 22 1135 2 193 2 35 2 908 23 4 3 1039 18 2 2844 2 503 7448 2 39 2 4020 2 48 2 319 2 126 2 28 2 3981 2 26 2 84 2 1977 2 16465 2 12957 2 70 2 28 2 2107 2 22 391 5224 2 18165 3093 3006 2 30 2 104 5118 2 371 7155 18 2 151 2 2572 16 40 2 565 18 2 2140 2 4450 2 135 2 3981 23 2 30 2 1378 2 3981 18 2 56 2 4749 14806 2 8283 540 18 2 103 2 10974 2 368 2 5797 2 7152 18 2 44 69 2 41 2 24556 2 52 2 84 2 30107 2 11755 25 2 35 2 7305 7905 49 16 2 28 2 2107 17 44 4 3 40 16 1081 2 11378 16 17236 2 92 27 34 2 496 16 76 1019 2 2223 2 19859 2 764 8065 2 70 2 1234 2 6185 2 3184 2 27 2 540 95 391 24 1081 1079 2 22 21619 2841 3602 24 8056 2 6105 118 2 216 2 19 2 6185 2 126 2 4737 17 4 3 8515 2 26 2 4197 3682 18 2 27 2 6544 18 2 48 2 28 2 26812 2 536 2 26 2 1999 16 2 41 2 6637 2 296 2 3341 2 19 2 883 93 2 30 2 1625 2 1075 2 5371 16 24 4197 3682 2 22 1999 16 2 4197 3682 23 2 27 2 318 19379 2 440 2 26 2 11348 18 2 317 2 19093 913 1695 540 2 22 110 16 113 1312 2 17168 44 2 7193 2 70 2 34538 2 19628 23 2 139 2 5306 2 30971 18 2 30 2 37132 24 4197 3682 2 27 2 37132 2 235 18 2 317 2 14935 16 40 2 12952 2 139 2 20171 18 2 139 2 418 2 305 17 4 3 300 49 4 3 166 2 19 2 269 18 2 19 2 18458 2 6403 2 560 2 35 2 19 2 1322 269 2 205 18 2 30 2 19 2 625 2 26 2 84 2 29860 2 120 2 2194 2 1210 2 28 2 868 2 379 17 4 3 67 2 41 2 123 2 2910 2 48 2 28 2 1636 2 26 2 10030 2 9733 2 30 2 28 2 157 2 26 2 4918 27 16 40 2 14313 18 2 30 2 41 2 123 2 305 2 48 2 24031 18659 17 4 3 27 2 481 2 1692 2009 2 2598 2 27 2 78 14540 1079 2 917 18 2 98 9186 16 2 8678 2 35 2 1977 2 1999 16 2 27593 2 56 2 2494 2 1999 16 2 1489 757 2 8436 2 27 2 899 96 15953 1408 2 35 2 37487 2 22 28 2 2728 2 899 96 15953 1408 2 27 2 972 2 4997 2 100 2 4578 2 266 23 2 324 2 38 2 3211 2 972 2 10716 2 644 2 48 2 19 2 754 5768 2 22 28 2 3211 2 972 2 6551 2 11652 118 2 2309 16 2 22 972 2 13952 118 2 2692 18 2 30 2 1598 25 2 27 2 72 2 705 2 312 44 25 2 1999 16 2 5662 2 289 2 272 2 30397 2 70 2 19 2 133 16 2 26 2 6477 170 2 31953 2 8055 25 17 4 -1 -1 -1 -1 -1 -1 -1 -1 -1 -1 -1 -1 -1 -1 -1 -1 -1 -1 -1 -1 -1 -1 -1 -1 -1\n",
            "INFO:tensorflow:Encoder-Pos-Ids:0 1 2 3 4 5 6 7 8 9 10 11 12 13 14 15 16 17 18 19 20 21 22 23 24 25 26 27 28 29 30 31 32 33 34 35 36 37 38 39 40 41 42 43 44 45 46 47 48 49 50 51 52 53 54 55 56 57 58 59 60 61 62 63 64 65 66 67 68 69 70 71 72 73 0 1 2 3 4 5 6 7 8 9 10 11 12 13 14 15 16 17 18 19 20 21 0 1 2 3 4 5 6 7 8 9 10 11 12 13 14 15 16 17 18 19 20 21 22 23 24 25 26 27 28 29 30 31 32 33 34 35 36 0 1 2 3 4 5 6 7 8 9 10 11 12 13 14 15 16 17 18 19 20 0 1 2 3 4 5 6 7 8 9 10 11 12 13 14 15 16 17 18 19 20 21 22 23 24 25 26 27 28 29 30 31 32 33 34 35 36 0 1 2 3 4 5 6 7 8 9 10 11 12 13 14 15 16 17 18 19 20 21 0 1 2 3 4 5 6 7 8 9 10 11 12 13 14 15 16 17 18 19 20 21 22 23 24 25 26 27 28 29 30 31 32 33 34 35 36 37 38 39 40 41 42 43 44 45 46 47 48 49 50 51 52 53 54 55 56 57 58 59 60 61 62 63 64 65 66 67 68 69 70 71 72 73 74 75 76 77 78 79 80 81 82 83 84 85 86 87 88 89 90 91 92 93 94 95 96 97 98 99 100 101 102 103 104 105 106 107 108 109 110 111 112 113 114 115 116 117 118 119 120 121 122 123 124 125 126 127 128 129 130 131 132 133 134 135 136 137 138 139 140 141 142 143 144 145 146 147 148 149 150 151 152 153 154 155 156 157 158 159 160 161 162 163 0 1 2 3 4 5 6 7 8 9 10 11 12 13 14 15 16 17 0 1 2 3 4 5 6 7 8 9 10 11 12 13 14 15 16 17 18 19 20 21 22 23 24 25 26 27 28 29 30 31 32 33 34 35 36 37 38 39 40 41 42 43 44 45 46 47 48 49 50 51 52 53 54 55 56 57 58 59 60 61 62 63 64 65 66 67 68 69 70 71 72 73 74 75 76 77 78 79 80 81 82 83 84 85 86 87 88 89 90 91 92 93 94 95 96 97 98 99 100 101 102 103 104 105 106 107 108 109 110 111 112 113 114 115 116 117 118 119 120 121 122 123 124 125 126 127 128 129 0 1 2 3 4 5 6 7 8 9 10 11 12 13 14 15 16 17 18 19 20 21 22 23 24 25 26 27 28 29 30 31 32 33 34 35 36 37 38 39 40 41 42 43 44 45 46 47 48 49 50 51 52 53 54 55 56 57 58 59 60 61 62 0 1 2 3 4 5 6 7 8 9 10 11 12 13 14 15 16 17 18 19 20 21 22 23 24 25 26 27 28 29 30 31 32 33 34 35 36 37 38 39 40 41 42 43 44 45 46 47 48 49 50 51 52 53 54 55 56 57 58 59 60 61 62 63 64 65 66 67 68 69 70 71 72 73 74 75 76 77 78 79 80 81 82 83 84 85 86 87 88 89 90 91 92 93 94 95 96 97 98 99 100 101 102 103 104 105 106 107 108 109 110 111 112 113 114 115 116 117 118 119 120 121 122 123 124 125 126 127 128 129 130 131 132 133 134 135 136 137 0 1 2 3 0 1 2 3 4 5 6 7 8 9 10 11 12 13 14 15 16 17 18 19 20 21 22 23 24 25 26 27 28 29 30 31 32 33 34 35 36 37 38 39 40 41 42 43 44 45 46 47 48 49 50 0 1 2 3 4 5 6 7 8 9 10 11 12 13 14 15 16 17 18 19 20 21 22 23 24 25 26 27 28 29 30 31 32 33 34 35 36 37 38 39 40 41 42 43 44 45 46 47 48 49 50 0 1 2 3 4 5 6 7 8 9 10 11 12 13 14 15 16 17 18 19 20 21 22 23 24 25 26 27 28 29 30 31 32 33 34 35 36 37 38 39 40 41 42 43 44 45 46 47 48 49 50 51 52 53 54 55 56 57 58 59 60 61 62 63 64 65 66 67 68 69 70 71 72 73 74 75 76 77 78 79 80 81 82 83 84 85 86 87 88 89 90 91 92 93 94 95 96 97 98 99 100 101 102 103 104 105 106 107 108 109 110 111 112 113 114 115 116 117 118 119 120 121 122 123 124 125 126 127 128 129 130 131 132 133 134 135 136 137 138 139 140 141 142 143 144 145 146 147 148 149 150 151 152 153 154 155 156 157 158 159 160 161 162 163 164 165 166 -1 -1 -1 -1 -1 -1 -1 -1 -1 -1 -1 -1 -1 -1 -1 -1 -1 -1 -1 -1 -1 -1 -1 -1 -1\n",
            "INFO:tensorflow:Encoder-Group-Ids:0 0 0 0 0 0 0 0 0 0 0 0 0 0 0 0 0 0 0 0 0 0 0 0 0 0 0 0 0 0 0 0 0 0 0 0 0 0 0 0 0 0 0 0 0 0 0 0 0 0 0 0 0 0 0 0 0 0 0 0 0 0 0 0 0 0 0 0 0 0 0 0 0 0 1 1 1 1 1 1 1 1 1 1 1 1 1 1 1 1 1 1 1 1 1 1 2 2 2 2 2 2 2 2 2 2 2 2 2 2 2 2 2 2 2 2 2 2 2 2 2 2 2 2 2 2 2 2 2 2 2 2 2 3 3 3 3 3 3 3 3 3 3 3 3 3 3 3 3 3 3 3 3 3 4 4 4 4 4 4 4 4 4 4 4 4 4 4 4 4 4 4 4 4 4 4 4 4 4 4 4 4 4 4 4 4 4 4 4 4 4 5 5 5 5 5 5 5 5 5 5 5 5 5 5 5 5 5 5 5 5 5 5 6 6 6 6 6 6 6 6 6 6 6 6 6 6 6 6 6 6 6 6 6 6 6 6 6 6 6 6 6 6 6 6 6 6 6 6 6 6 6 6 6 6 6 6 6 6 6 6 6 6 6 6 6 6 6 6 6 6 6 6 6 6 6 6 6 6 6 6 6 6 6 6 6 6 6 6 6 6 6 6 6 6 6 6 6 6 6 6 6 6 6 6 6 6 6 6 6 6 6 6 6 6 6 6 6 6 6 6 6 6 6 6 6 6 6 6 6 6 6 6 6 6 6 6 6 6 6 6 6 6 6 6 6 6 6 6 6 6 6 6 6 6 6 6 6 6 6 6 6 6 6 6 6 6 6 6 6 6 6 6 6 6 6 6 7 7 7 7 7 7 7 7 7 7 7 7 7 7 7 7 7 7 8 8 8 8 8 8 8 8 8 8 8 8 8 8 8 8 8 8 8 8 8 8 8 8 8 8 8 8 8 8 8 8 8 8 8 8 8 8 8 8 8 8 8 8 8 8 8 8 8 8 8 8 8 8 8 8 8 8 8 8 8 8 8 8 8 8 8 8 8 8 8 8 8 8 8 8 8 8 8 8 8 8 8 8 8 8 8 8 8 8 8 8 8 8 8 8 8 8 8 8 8 8 8 8 8 8 8 8 8 8 8 8 8 8 8 8 8 8 8 8 8 8 8 8 8 8 8 8 8 8 9 9 9 9 9 9 9 9 9 9 9 9 9 9 9 9 9 9 9 9 9 9 9 9 9 9 9 9 9 9 9 9 9 9 9 9 9 9 9 9 9 9 9 9 9 9 9 9 9 9 9 9 9 9 9 9 9 9 9 9 9 9 9 10 10 10 10 10 10 10 10 10 10 10 10 10 10 10 10 10 10 10 10 10 10 10 10 10 10 10 10 10 10 10 10 10 10 10 10 10 10 10 10 10 10 10 10 10 10 10 10 10 10 10 10 10 10 10 10 10 10 10 10 10 10 10 10 10 10 10 10 10 10 10 10 10 10 10 10 10 10 10 10 10 10 10 10 10 10 10 10 10 10 10 10 10 10 10 10 10 10 10 10 10 10 10 10 10 10 10 10 10 10 10 10 10 10 10 10 10 10 10 10 10 10 10 10 10 10 10 10 10 10 10 10 10 10 10 10 10 10 11 11 11 11 12 12 12 12 12 12 12 12 12 12 12 12 12 12 12 12 12 12 12 12 12 12 12 12 12 12 12 12 12 12 12 12 12 12 12 12 12 12 12 12 12 12 12 12 12 12 12 12 12 12 12 13 13 13 13 13 13 13 13 13 13 13 13 13 13 13 13 13 13 13 13 13 13 13 13 13 13 13 13 13 13 13 13 13 13 13 13 13 13 13 13 13 13 13 13 13 13 13 13 13 13 13 14 14 14 14 14 14 14 14 14 14 14 14 14 14 14 14 14 14 14 14 14 14 14 14 14 14 14 14 14 14 14 14 14 14 14 14 14 14 14 14 14 14 14 14 14 14 14 14 14 14 14 14 14 14 14 14 14 14 14 14 14 14 14 14 14 14 14 14 14 14 14 14 14 14 14 14 14 14 14 14 14 14 14 14 14 14 14 14 14 14 14 14 14 14 14 14 14 14 14 14 14 14 14 14 14 14 14 14 14 14 14 14 14 14 14 14 14 14 14 14 14 14 14 14 14 14 14 14 14 14 14 14 14 14 14 14 14 14 14 14 14 14 14 14 14 14 14 14 14 14 14 14 14 14 14 14 14 14 14 14 14 14 14 14 14 14 14 -1 -1 -1 -1 -1 -1 -1 -1 -1 -1 -1 -1 -1 -1 -1 -1 -1 -1 -1 -1 -1 -1 -1 -1 -1\n",
            "INFO:tensorflow:Decoder-Token-Ids:3 1767 25866 596 5317 50 29 22 21185 29 2078 37 130 51 2 22 20108 23 186 14944 1666 28594 14944 301 45 377 2758 117 21 4 3 16213 2108 22 30431 29 4352 37 89 51 20 2665 4365 17337 21 4 3 2276 21900 31 5593 42 20132 572 46 5349 31 6082 45 32061 65 1175 3886 6231 17992 21 4 3 21115 528 39624 1 4 3 167 1746 29 10469 29 23 43 37 85 51 167 11562 33340 2853 12051 21 4 3 9656 3232 5895 20 1167 1863 9200 21 4 3 810 1176 42 14800 19005 6372 14653 944 27245 171 6634 119 508 5117 1176 31 516 1524 6253 2060 12422 3793 367 33992 9388 838 838 20 27202 838 20 30223 4223 12681 3926 45 4512 6532 99 140 6481 3793 810 1176 13066 22036 31 11283 109 13248 45 13280 13245 702 29791 64 3695 24596 417 21 4 3 107 85 1458 2 14495 4180 13701 2 24 2 908 1482 23 4 3 929 37517 13790 2791 22 13759 29524 2958 886 5189 45 11416 99 4431 3600 42 9359 1773 23 2765 1086 109 58 36424 6984 31 4676 55 5873 31 10826 36 21982 64 119 8137 13013 38983 1045 485 564 1070 3371 6604 20 12099 3416 18807 32 1737 3398 42 4185 25942 21 4 3 19166 1606 2573 3202 22 55 1639 35942 14583 27418 23 34 11130 7121 3202 45 6538 3194 3306 3333 3798 42 37535 10864 3394 3450 19619 21 4 3 2043 1606 31 36645 119 10828 714 17418 36 32523 55 10263 20 2043 2000 8778 42 13418 772 11555 1193 6638 1606 445 714 109 4434 9350 350 10870 1972 38563 23741 31 4434 445 714 15912 14847 9941 21 4 3 1000 1266 4 3 5567 20 3948 36 328 15471 20 2027 20 20025 31 412 339 14221 36 6250 1274 3255 21 4 3 3986 172 20 955 957 172 6066 6895 55 146 46 1187 25165 65 5060 614 21 4 3 727 10661 184 859 79 257 149 20 664 2929 37952 1552 330 45 34450 1204 13071 711 27172 35240 516 26368 17085 20 21147 642 32 19169 32 16944 32 1 707 39928 18754 330 7634 1065 46 857 2313 3018 3594 14787 13607 330 7634 46 11102 15640 7634 37276 21 4 -1 -1 -1 -1 -1 -1 -1 -1 -1 -1 -1 -1 -1 -1 -1 -1 -1 -1 -1 -1 -1 -1 -1 -1 -1 -1 -1 -1 -1 -1 -1 -1 -1 -1 -1 -1 -1 -1 -1 -1 -1 -1 -1 -1 -1 -1 -1 -1 -1 -1 -1 -1 -1 -1 -1 -1 -1 -1 -1 -1 -1 -1 -1 -1 -1 -1 -1 -1 -1 -1 -1 -1 -1 -1 -1 -1 -1 -1 -1 -1 -1 -1 -1 -1 -1 -1 -1 -1 -1 -1 -1 -1 -1 -1 -1 -1 -1 -1 -1 -1 -1 -1 -1 -1 -1 -1 -1 -1 -1 -1 -1 -1 -1 -1 -1 -1 -1 -1 -1 -1 -1 -1 -1 -1 -1 -1 -1 -1 -1 -1 -1 -1 -1 -1 -1 -1 -1 -1 -1 -1 -1 -1 -1 -1 -1 -1 -1 -1 -1 -1 -1 -1 -1 -1 -1 -1 -1 -1 -1 -1 -1 -1 -1 -1 -1 -1 -1 -1 -1 -1 -1 -1 -1 -1 -1 -1 -1 -1 -1 -1 -1 -1 -1 -1 -1 -1 -1 -1 -1 -1 -1 -1 -1 -1 -1 -1 -1 -1 -1 -1 -1 -1 -1 -1 -1 -1 -1 -1 -1 -1 -1 -1 -1 -1 -1 -1 -1 -1 -1 -1 -1 -1 -1 -1 -1 -1 -1 -1 -1 -1 -1 -1 -1 -1 -1 -1 -1 -1 -1 -1 -1 -1 -1 -1 -1 -1 -1 -1 -1 -1 -1 -1 -1 -1 -1 -1 -1 -1 -1 -1 -1 -1 -1 -1 -1 -1 -1 -1 -1 -1 -1 -1 -1 -1 -1 -1 -1 -1 -1 -1 -1 -1 -1 -1 -1 -1 -1 -1 -1 -1 -1 -1 -1 -1 -1 -1 -1 -1 -1 -1 -1 -1 -1 -1 -1 -1 -1 -1 -1 -1 -1 -1 -1 -1 -1 -1 -1 -1 -1 -1 -1 -1 -1 -1 -1 -1 -1 -1 -1 -1 -1 -1 -1 -1 -1 -1 -1 -1 -1 -1 -1 -1 -1 -1 -1 -1 -1 -1 -1 -1 -1 -1 -1 -1 -1 -1 -1 -1 -1 -1 -1 -1 -1 -1 -1 -1 -1 -1 -1 -1 -1 -1 -1 -1 -1 -1 -1 -1 -1 -1 -1 -1 -1 -1 -1 -1 -1 -1 -1 -1 -1 -1 -1 -1 -1 -1 -1 -1 -1 -1 -1 -1 -1 -1 -1 -1 -1 -1 -1 -1 -1 -1 -1 -1 -1 -1 -1 -1 -1 -1 -1 -1 -1 -1 -1 -1 -1 -1 -1 -1 -1 -1 -1 -1 -1 -1 -1 -1 -1 -1 -1 -1 -1 -1 -1 -1 -1 -1 -1 -1 -1 -1 -1 -1 -1 -1 -1 -1 -1 -1 -1 -1 -1 -1 -1 -1 -1 -1 -1 -1 -1 -1 -1 -1 -1 -1 -1 -1 -1 -1 -1 -1 -1 -1 -1 -1 -1 -1 -1 -1 -1 -1 -1 -1 -1 -1 -1 -1 -1 -1 -1 -1 -1 -1 -1 -1 -1 -1 -1 -1 -1 -1 -1 -1 -1 -1 -1 -1 -1 -1 -1 -1 -1 -1 -1 -1 -1 -1 -1 -1 -1 -1 -1 -1 -1 -1 -1 -1 -1 -1 -1 -1 -1 -1 -1 -1 -1 -1 -1 -1 -1 -1 -1 -1 -1 -1 -1 -1 -1 -1 -1 -1 -1 -1 -1 -1 -1 -1 -1 -1 -1 -1 -1 -1 -1 -1 -1 -1 -1 -1 -1 -1 -1 -1 -1 -1 -1 -1 -1 -1 -1 -1 -1 -1 -1 -1 -1 -1 -1 -1 -1 -1 -1 -1 -1 -1 -1 -1 -1 -1 -1 -1 -1 -1 -1 -1 -1\n",
            "INFO:tensorflow:Decoder-Pos-Ids:0 1 2 3 4 5 6 7 8 9 10 11 12 13 14 15 16 17 18 19 20 21 22 23 24 25 26 27 28 29 0 1 2 3 4 5 6 7 8 9 10 11 12 13 14 15 0 1 2 3 4 5 6 7 8 9 10 11 12 13 14 15 16 17 18 19 20 0 1 2 3 4 5 0 1 2 3 4 5 6 7 8 9 10 11 12 13 14 15 16 17 0 1 2 3 4 5 6 7 8 9 0 1 2 3 4 5 6 7 8 9 10 11 12 13 14 15 16 17 18 19 20 21 22 23 24 25 26 27 28 29 30 31 32 33 34 35 36 37 38 39 40 41 42 43 44 45 46 47 48 49 50 51 52 53 54 55 56 57 58 59 60 61 0 1 2 3 4 5 6 7 8 9 10 11 12 13 14 0 1 2 3 4 5 6 7 8 9 10 11 12 13 14 15 16 17 18 19 20 21 22 23 24 25 26 27 28 29 30 31 32 33 34 35 36 37 38 39 40 41 42 43 44 45 46 47 48 49 50 51 52 53 54 55 56 0 1 2 3 4 5 6 7 8 9 10 11 12 13 14 15 16 17 18 19 20 21 22 23 24 25 26 27 28 29 0 1 2 3 4 5 6 7 8 9 10 11 12 13 14 15 16 17 18 19 20 21 22 23 24 25 26 27 28 29 30 31 32 33 34 35 36 37 38 39 40 41 42 0 1 2 3 0 1 2 3 4 5 6 7 8 9 10 11 12 13 14 15 16 17 18 19 20 0 1 2 3 4 5 6 7 8 9 10 11 12 13 14 15 16 17 18 0 1 2 3 4 5 6 7 8 9 10 11 12 13 14 15 16 17 18 19 20 21 22 23 24 25 26 27 28 29 30 31 32 33 34 35 36 37 38 39 40 41 42 43 44 45 46 47 48 49 50 51 52 53 54 -1 -1 -1 -1 -1 -1 -1 -1 -1 -1 -1 -1 -1 -1 -1 -1 -1 -1 -1 -1 -1 -1 -1 -1 -1 -1 -1 -1 -1 -1 -1 -1 -1 -1 -1 -1 -1 -1 -1 -1 -1 -1 -1 -1 -1 -1 -1 -1 -1 -1 -1 -1 -1 -1 -1 -1 -1 -1 -1 -1 -1 -1 -1 -1 -1 -1 -1 -1 -1 -1 -1 -1 -1 -1 -1 -1 -1 -1 -1 -1 -1 -1 -1 -1 -1 -1 -1 -1 -1 -1 -1 -1 -1 -1 -1 -1 -1 -1 -1 -1 -1 -1 -1 -1 -1 -1 -1 -1 -1 -1 -1 -1 -1 -1 -1 -1 -1 -1 -1 -1 -1 -1 -1 -1 -1 -1 -1 -1 -1 -1 -1 -1 -1 -1 -1 -1 -1 -1 -1 -1 -1 -1 -1 -1 -1 -1 -1 -1 -1 -1 -1 -1 -1 -1 -1 -1 -1 -1 -1 -1 -1 -1 -1 -1 -1 -1 -1 -1 -1 -1 -1 -1 -1 -1 -1 -1 -1 -1 -1 -1 -1 -1 -1 -1 -1 -1 -1 -1 -1 -1 -1 -1 -1 -1 -1 -1 -1 -1 -1 -1 -1 -1 -1 -1 -1 -1 -1 -1 -1 -1 -1 -1 -1 -1 -1 -1 -1 -1 -1 -1 -1 -1 -1 -1 -1 -1 -1 -1 -1 -1 -1 -1 -1 -1 -1 -1 -1 -1 -1 -1 -1 -1 -1 -1 -1 -1 -1 -1 -1 -1 -1 -1 -1 -1 -1 -1 -1 -1 -1 -1 -1 -1 -1 -1 -1 -1 -1 -1 -1 -1 -1 -1 -1 -1 -1 -1 -1 -1 -1 -1 -1 -1 -1 -1 -1 -1 -1 -1 -1 -1 -1 -1 -1 -1 -1 -1 -1 -1 -1 -1 -1 -1 -1 -1 -1 -1 -1 -1 -1 -1 -1 -1 -1 -1 -1 -1 -1 -1 -1 -1 -1 -1 -1 -1 -1 -1 -1 -1 -1 -1 -1 -1 -1 -1 -1 -1 -1 -1 -1 -1 -1 -1 -1 -1 -1 -1 -1 -1 -1 -1 -1 -1 -1 -1 -1 -1 -1 -1 -1 -1 -1 -1 -1 -1 -1 -1 -1 -1 -1 -1 -1 -1 -1 -1 -1 -1 -1 -1 -1 -1 -1 -1 -1 -1 -1 -1 -1 -1 -1 -1 -1 -1 -1 -1 -1 -1 -1 -1 -1 -1 -1 -1 -1 -1 -1 -1 -1 -1 -1 -1 -1 -1 -1 -1 -1 -1 -1 -1 -1 -1 -1 -1 -1 -1 -1 -1 -1 -1 -1 -1 -1 -1 -1 -1 -1 -1 -1 -1 -1 -1 -1 -1 -1 -1 -1 -1 -1 -1 -1 -1 -1 -1 -1 -1 -1 -1 -1 -1 -1 -1 -1 -1 -1 -1 -1 -1 -1 -1 -1 -1 -1 -1 -1 -1 -1 -1 -1 -1 -1 -1 -1 -1 -1 -1 -1 -1 -1 -1 -1 -1 -1 -1 -1 -1 -1 -1 -1 -1 -1 -1 -1 -1 -1 -1 -1 -1 -1 -1 -1 -1 -1 -1 -1 -1 -1 -1 -1 -1 -1 -1 -1 -1 -1 -1 -1 -1 -1 -1 -1 -1 -1 -1 -1 -1 -1 -1 -1 -1 -1 -1 -1 -1 -1 -1 -1 -1 -1 -1 -1 -1 -1 -1 -1 -1 -1 -1 -1 -1 -1 -1 -1 -1 -1 -1 -1 -1 -1 -1 -1 -1 -1 -1 -1 -1 -1 -1 -1 -1 -1 -1 -1 -1 -1 -1 -1 -1 -1 -1 -1 -1 -1 -1 -1 -1 -1 -1 -1 -1 -1 -1 -1 -1 -1 -1 -1 -1 -1 -1 -1 -1 -1 -1 -1 -1 -1 -1 -1\n",
            "INFO:tensorflow:Decoder-Group-Ids:0 0 0 0 0 0 0 0 0 0 0 0 0 0 0 0 0 0 0 0 0 0 0 0 0 0 0 0 0 0 1 1 1 1 1 1 1 1 1 1 1 1 1 1 1 1 2 2 2 2 2 2 2 2 2 2 2 2 2 2 2 2 2 2 2 2 2 3 3 3 3 3 3 4 4 4 4 4 4 4 4 4 4 4 4 4 4 4 4 4 4 5 5 5 5 5 5 5 5 5 5 6 6 6 6 6 6 6 6 6 6 6 6 6 6 6 6 6 6 6 6 6 6 6 6 6 6 6 6 6 6 6 6 6 6 6 6 6 6 6 6 6 6 6 6 6 6 6 6 6 6 6 6 6 6 6 6 6 6 6 6 6 6 7 7 7 7 7 7 7 7 7 7 7 7 7 7 7 8 8 8 8 8 8 8 8 8 8 8 8 8 8 8 8 8 8 8 8 8 8 8 8 8 8 8 8 8 8 8 8 8 8 8 8 8 8 8 8 8 8 8 8 8 8 8 8 8 8 8 8 8 8 8 8 8 9 9 9 9 9 9 9 9 9 9 9 9 9 9 9 9 9 9 9 9 9 9 9 9 9 9 9 9 9 9 10 10 10 10 10 10 10 10 10 10 10 10 10 10 10 10 10 10 10 10 10 10 10 10 10 10 10 10 10 10 10 10 10 10 10 10 10 10 10 10 10 10 10 11 11 11 11 12 12 12 12 12 12 12 12 12 12 12 12 12 12 12 12 12 12 12 12 12 13 13 13 13 13 13 13 13 13 13 13 13 13 13 13 13 13 13 13 14 14 14 14 14 14 14 14 14 14 14 14 14 14 14 14 14 14 14 14 14 14 14 14 14 14 14 14 14 14 14 14 14 14 14 14 14 14 14 14 14 14 14 14 14 14 14 14 14 14 14 14 14 14 14 -1 -1 -1 -1 -1 -1 -1 -1 -1 -1 -1 -1 -1 -1 -1 -1 -1 -1 -1 -1 -1 -1 -1 -1 -1 -1 -1 -1 -1 -1 -1 -1 -1 -1 -1 -1 -1 -1 -1 -1 -1 -1 -1 -1 -1 -1 -1 -1 -1 -1 -1 -1 -1 -1 -1 -1 -1 -1 -1 -1 -1 -1 -1 -1 -1 -1 -1 -1 -1 -1 -1 -1 -1 -1 -1 -1 -1 -1 -1 -1 -1 -1 -1 -1 -1 -1 -1 -1 -1 -1 -1 -1 -1 -1 -1 -1 -1 -1 -1 -1 -1 -1 -1 -1 -1 -1 -1 -1 -1 -1 -1 -1 -1 -1 -1 -1 -1 -1 -1 -1 -1 -1 -1 -1 -1 -1 -1 -1 -1 -1 -1 -1 -1 -1 -1 -1 -1 -1 -1 -1 -1 -1 -1 -1 -1 -1 -1 -1 -1 -1 -1 -1 -1 -1 -1 -1 -1 -1 -1 -1 -1 -1 -1 -1 -1 -1 -1 -1 -1 -1 -1 -1 -1 -1 -1 -1 -1 -1 -1 -1 -1 -1 -1 -1 -1 -1 -1 -1 -1 -1 -1 -1 -1 -1 -1 -1 -1 -1 -1 -1 -1 -1 -1 -1 -1 -1 -1 -1 -1 -1 -1 -1 -1 -1 -1 -1 -1 -1 -1 -1 -1 -1 -1 -1 -1 -1 -1 -1 -1 -1 -1 -1 -1 -1 -1 -1 -1 -1 -1 -1 -1 -1 -1 -1 -1 -1 -1 -1 -1 -1 -1 -1 -1 -1 -1 -1 -1 -1 -1 -1 -1 -1 -1 -1 -1 -1 -1 -1 -1 -1 -1 -1 -1 -1 -1 -1 -1 -1 -1 -1 -1 -1 -1 -1 -1 -1 -1 -1 -1 -1 -1 -1 -1 -1 -1 -1 -1 -1 -1 -1 -1 -1 -1 -1 -1 -1 -1 -1 -1 -1 -1 -1 -1 -1 -1 -1 -1 -1 -1 -1 -1 -1 -1 -1 -1 -1 -1 -1 -1 -1 -1 -1 -1 -1 -1 -1 -1 -1 -1 -1 -1 -1 -1 -1 -1 -1 -1 -1 -1 -1 -1 -1 -1 -1 -1 -1 -1 -1 -1 -1 -1 -1 -1 -1 -1 -1 -1 -1 -1 -1 -1 -1 -1 -1 -1 -1 -1 -1 -1 -1 -1 -1 -1 -1 -1 -1 -1 -1 -1 -1 -1 -1 -1 -1 -1 -1 -1 -1 -1 -1 -1 -1 -1 -1 -1 -1 -1 -1 -1 -1 -1 -1 -1 -1 -1 -1 -1 -1 -1 -1 -1 -1 -1 -1 -1 -1 -1 -1 -1 -1 -1 -1 -1 -1 -1 -1 -1 -1 -1 -1 -1 -1 -1 -1 -1 -1 -1 -1 -1 -1 -1 -1 -1 -1 -1 -1 -1 -1 -1 -1 -1 -1 -1 -1 -1 -1 -1 -1 -1 -1 -1 -1 -1 -1 -1 -1 -1 -1 -1 -1 -1 -1 -1 -1 -1 -1 -1 -1 -1 -1 -1 -1 -1 -1 -1 -1 -1 -1 -1 -1 -1 -1 -1 -1 -1 -1 -1 -1 -1 -1 -1 -1 -1 -1 -1 -1 -1 -1 -1 -1 -1 -1 -1 -1 -1 -1 -1 -1 -1 -1 -1 -1 -1 -1 -1 -1 -1 -1 -1 -1 -1 -1 -1 -1 -1 -1 -1 -1 -1 -1 -1 -1 -1 -1 -1 -1 -1 -1 -1 -1 -1 -1 -1 -1 -1 -1 -1 -1 -1 -1 -1 -1 -1 -1 -1 -1 -1 -1 -1 -1 -1 -1 -1 -1 -1 -1 -1 -1 -1 -1 -1 -1 -1 -1 -1 -1 -1 -1 -1 -1 -1 -1 -1 -1 -1 -1 -1 -1 -1 -1 -1 -1 -1 -1 -1 -1 -1\n",
            "INFO:tensorflow:*** Example ***\n",
            "INFO:tensorflow:guids:['train-0-23850', 'train-0-42067', 'train-0-16880', 'train-0-42150', 'train-0-1946', 'train-0-2638', 'train-0-15707', 'train-0-25276', 'train-0-4319', 'train-0-23884', 'train-0-3561', 'train-0-8988', 'train-0-20184', 'train-0-18101', 'train-0-5824', 'train-0-18092', 'train-0-15971', 'train-0-28362', 'train-0-33046']\n",
            "INFO:tensorflow:src_texts:['In not a few communities in mountainous areas, episodes related to ochudo of the Taira family have been handed down for generations and still remain.', \"It is expressed as, 'It has high brewing aptitude.'\", '1970: The station was moved about 100 meters south due to the opening of Kitayama-dori Street.', 'Kunimichi KOGA (1507-July 31, 1531) was Kugyo (court noble) during the late Muromachi period.', 'Many tourists visit this dam by sightseeing bus, because it is close to Kyoto City, and from here Keiji Bypass provides easy access to Otsu City, Mt. Hiei, and Ishiyama-dera Temple.', 'It said \\'Each moshijo was not equivalent to Yoshinaka\\' (一々の申状,義仲等に斉しからず) (\"Gyokuyo,\" entry of October 26) and the contents pleased the Imperial Court.', 'Kurokabe 11th', 'Visit', 'He died on June 14, 1694 at the age of 54.', \"The 'raigo-zu' describes that a dead person is welcomed by someone from Saiho Gokuraku Jodo.\", 'The number of passengers boarding at this station came to approximately 545 per day in fiscal year 2006.', 'The descendants of Hirono were divided into two lines; the line living in Kyoto for generations with the official court ranks of Myobo hakase (teacher of law in the Ritsuryo system), etc. (the line of SAKANOUE no Yoshikage, a child of Masamichi, Ukon no shosho - Minor Captain of the Right Division of Inner Palace Guards) and the line settling into Hiranosho (the line of SAKANOUE no Minebon, Dewa no Gon no Suke who was the grandchild of Hirono).', 'However, since Universal Pictures, Inc. desired a film starring Bantsuma and such a film was never created due to a contract between Bantsuma Productions and Shochiku Kinema, the contract with Universal Pictures, Inc. was cancelled at the end of May of the same year and even turned into a lawsuit.', 'Origin Toshu Co., Ltd.', 'Presumed inscription', 'Hyakkiyako is a monster parade that has been said to march through the capital during the Heian period.', 'In 1839, he was born as the second son of Hyobu YOSHIOKA, a merchant in Minamiosaka-cho, Shinbashi, Edo (according to another opinion, Okubo, Toshima-gun, Bushu).', \"Although when Nagamasa ASAI had once a military agreement with Nobunaga ODA and drove out the Rokkaku clan, later Nagamasa, joining the Shogun's alliance against Nobunaga, fought against Nobunaga and was defeated in 1573.\", 'Saturday immediately before April 12: Shingen-ko Matsuri Festival (Kofu City, Sengoku period)']\n",
            "INFO:tensorflow:tar_texts:['山間部の集落においては、平家の落人にまつわる伝承が残っていることが多い。', '「醸造適性が高い」などと表現される。', '1970年（昭和45年）北山通の開通により南に100mほど移動。', '久我 邦通（こが くにみち、永正4年（1507年） - 享禄4年6月8日 (旧暦)（1531年7月21日））は、室町時代後期の公卿。', '又京都市内にも近く、京滋バイパスを利用する事で大津市・比叡山・石山寺にも近く、こうした事から観光バス等を連ねて観光客が多く訪れる。', '「一々の申状、義仲等に斉しからず」（『玉葉』10月2日条）と朝廷を大いに喜ばせるものであった。', '黒壁11號館', '見学', '1694年6月14日（元禄7年5月22日）、54歳にて逝去。', '西方極楽浄土より往生者を迎えに来るようすを描いた絵画が「来迎図」である。', '2006年度の1日あたりの乗車人員は約545人である。', '広野の子孫は、代々、明法博士などの官職を得て京都に住した系統（当道の子の右近少将の坂上好蔭の系統）と、平野庄に土着したとされる系統（広野の孫の出羽権介の坂上峯盆の系統）に分かれた。', 'しかし、阪妻プロと松竹キネマとの契約上、ユニヴァーサル社が望む「阪東妻三郎主演作品」が1作もなかったため、同年5月末には契約解除となり、訴訟にまで発展した。', 'オリジン東秀', '推定銘文', '百鬼夜行とは、平安時代に都の中を歩いてゆくとされた化け物行列のことである。', '天保10年（1839年）、江戸新橋南大阪町（武州豊島郡大久保の説有り）の商家である吉岡兵部の次男、米次郎として生まれる。', '織田信長と結んだ浅井長政に至って六角氏を駆逐するが、後に将軍の信長包囲網に加わって信長に抵抗、1573年に滅亡する。', '4月12日の直前の土曜日：信玄公祭り（甲府市、戦国）']\n",
            "INFO:tensorflow:Target:39214 31 8200 4095 20 434 2929 4003 172 35162 11352 23867 6098 21 4 0 58 22648 10192 612 13146 64 16751 4608 404 21 4 0 1043 29 22 167 725 29 23 25166 836 28385 325 288 45 398 73 2828 5533 21 4 0 810 6680 2 4995 836 22 620 42 2 14020 10222 20 26909 68 29 1828 1848 29 23 2 24 2 17937 14936 68 29 83 37 86 51 2 22 20108 23 1828 256 29 85 37 173 51 23 23 36 20 13728 5717 31 18621 21 4 0 9310 11977 430 756 8555 20 2102 21393 4619 19584 1053 55 10663 115 32 2747 33001 184 32 573 184 475 756 8555 20 18611 24600 30834 16088 1785 1727 323 21315 5519 22357 21 4 0 58 210 1713 31 9858 3235 20 781 3840 18633 5708 4697 7544 10335 1863 1627 74 82 37 50 15770 23 65 21523 46 33364 2601 1615 10642 16630 21 4 0 1491 4347 94 32895 835 4 0 28304 4 0 31388 29 83 37 145 51 22 10047 85 29 77 37 169 51 343 1157 1347 800 22884 21 4 0 18112 32963 35922 342 16774 412 454 14750 45 16981 2253 614 10413 9202 42 58 1624 26486 1982 64 90 21 4 0 291 13095 43 51 12136 31 22117 7821 77 725 8323 21 4 0 1129 348 17998 36 20 20009 20 564 400 4157 707 28509 10584 1467 45 3897 99 4302 22 1758 355 3687 31 2393 2583 13660 31 27501 2889 23078 31 4302 23 65 20 7656 5508 45 1436 1204 28136 4302 22 1129 348 13358 31 19166 1895 2651 31 27501 16138 22853 31 4302 23 17713 171 21 4 0 929 20 7368 2625 1033 65 11639 38464 30593 262 20 11081 4127 5503 17919 4185 1276 58 7368 249 2625 3506 4200 830 64 42 43 854 129 16308 20 905 77 10953 186 2963 16555 791 20 16153 17015 26493 21 4 0 6705 4279 249 1850 4 0 18608 11901 501 4 0 2513 4138 28433 521 20 9374 45 1662 5892 46 4672 3044 12988 9437 581 1861 877 19889 9758 21 4 0 8773 82 29 22 11136 29 343 3062 26882 288 1041 138 22 960 476 22917 220 10729 31 2791 31187 23 31 2656 339 90 18619 1753 257 12060 20 1606 3600 19170 21 4 0 23358 65 3932 2270 20034 299 1176 35910 30223 838 46 14886 39202 4537 20 935 3921 31 22036 15200 4821 45 1686 1639 930 22036 45 13474 20 6402 54 150 19901 117 21 4 0 68 37 89 2099 16558 31 12176 34 814 5181 666 7964 22 13029 115 20 13819 23 4 0 -1 -1 -1 -1 -1 -1 -1 -1 -1 -1 -1 -1 -1 -1 -1 -1 -1 -1 -1 -1 -1 -1 -1 -1 -1 -1 -1 -1 -1 -1 -1 -1 -1 -1 -1 -1 -1 -1 -1 -1 -1 -1 -1 -1 -1 -1 -1 -1 -1 -1 -1 -1 -1 -1 -1 -1 -1 -1 -1 -1 -1 -1 -1 -1 -1 -1 -1 -1 -1 -1 -1 -1 -1 -1 -1 -1 -1 -1 -1 -1 -1 -1 -1 -1 -1 -1 -1 -1 -1 -1 -1 -1 -1 -1 -1 -1 -1 -1 -1 -1 -1 -1 -1 -1 -1 -1 -1 -1 -1 -1 -1 -1 -1 -1 -1 -1 -1 -1 -1 -1 -1 -1 -1 -1 -1 -1 -1 -1 -1 -1 -1 -1 -1 -1 -1 -1 -1 -1 -1 -1 -1 -1 -1 -1 -1 -1 -1 -1 -1 -1 -1 -1 -1 -1 -1 -1 -1 -1 -1 -1 -1 -1 -1 -1 -1 -1 -1 -1 -1 -1 -1 -1 -1 -1 -1 -1 -1 -1 -1 -1 -1 -1 -1 -1 -1 -1 -1 -1 -1 -1 -1 -1 -1 -1 -1 -1 -1 -1 -1 -1 -1 -1 -1 -1 -1 -1 -1 -1 -1 -1 -1 -1 -1 -1 -1 -1 -1 -1 -1 -1 -1 -1 -1 -1 -1 -1 -1 -1 -1 -1 -1 -1 -1 -1 -1 -1 -1 -1 -1 -1 -1 -1 -1 -1 -1 -1 -1 -1 -1 -1 -1 -1 -1 -1 -1 -1 -1 -1 -1 -1 -1 -1 -1 -1 -1 -1 -1 -1 -1 -1 -1 -1 -1 -1 -1 -1 -1 -1 -1 -1 -1 -1 -1 -1 -1 -1 -1 -1 -1 -1 -1 -1 -1 -1 -1 -1 -1 -1 -1 -1 -1 -1 -1 -1 -1 -1 -1 -1 -1 -1 -1 -1 -1 -1 -1 -1 -1 -1 -1 -1 -1 -1 -1 -1 -1 -1 -1 -1 -1 -1 -1 -1 -1 -1 -1 -1 -1 -1 -1 -1 -1 -1 -1 -1 -1 -1 -1 -1 -1 -1 -1 -1 -1 -1 -1 -1 -1 -1 -1 -1 -1 -1 -1 -1 -1 -1 -1 -1 -1 -1 -1 -1 -1 -1 -1 -1 -1 -1 -1 -1 -1 -1 -1 -1 -1 -1 -1 -1 -1 -1 -1 -1 -1 -1 -1 -1 -1 -1 -1 -1 -1 -1 -1 -1 -1 -1 -1 -1 -1 -1 -1 -1 -1 -1 -1 -1 -1 -1 -1 -1 -1 -1 -1 -1 -1 -1 -1 -1 -1 -1 -1 -1 -1 -1 -1 -1 -1 -1 -1 -1 -1 -1 -1 -1 -1 -1 -1 -1 -1 -1 -1 -1 -1 -1 -1 -1 -1 -1 -1 -1 -1 -1 -1 -1 -1 -1 -1 -1 -1 -1 -1 -1 -1 -1 -1 -1 -1 -1 -1 -1 -1 -1 -1 -1 -1 -1 -1 -1 -1 -1 -1 -1 -1 -1 -1 -1 -1 -1 -1 -1 -1 -1 -1 -1 -1 -1 -1 -1 -1 -1 -1 -1 -1 -1 -1 -1 -1 -1 -1 -1 -1 -1 -1 -1 -1 -1 -1 -1 -1 -1 -1 -1 -1 -1 -1 -1 -1 -1 -1 -1 -1 -1 -1 -1 -1 -1 -1 -1 -1\n",
            "INFO:tensorflow:Encoder-Token-Ids:3 27 2 199 2 28 2 2300 2 6810 2 27 2 1692 2009 2 2598 18 2 5758 2 1742 2 35 2 4592 21916 2 26 2 19 2 329 3124 2 312 2 289 2 272 2 10597 2 938 2 52 2 21513 2 30 2 1359 2 9776 17 4 3 69 2 39 2 20283 2 48 18 2 44 69 2 120 2 375 2 33590 2 28 17187 18294 16 17 44 4 3 1043 34 2 19 2 336 2 41 2 1184 2 338 2 398 2 7475 2 229 2 273 16 2 35 2 19 2 2287 2 26 2 10761 3346 24 22154 2 910 17 4 3 27720 22882 2 391 806 2 1828 1848 24 211 2 4121 2 127 256 23 2 41 2 1079 92 1578 2 22 1101 2 7952 23 2 279 2 19 2 1185 2 32075 21615 2 1644 17 4 3 624 2 8872 25 2 6872 2 135 2 1616 2 56 2 10660 19727 2 1890 18 2 1663 2 69 2 39 2 2562 2 35 2 18810 2 235 18 2 30 2 66 2 143 16 2 95 16 19832 2 56 2767 2 5346 2 9638 2 2977 2 35 2 98 4683 2 235 18 2 4917 17 2 1223 16 79 18 2 30 2 13312 3346 24 472 28 2 2559 17 4 3 69 2 2369 2 44 924 2 603 1695 635 2 41 2 199 2 12878 2 35 2 6653 9636 44 2 22 210 1713 31 9858 3235 18 781 3840 18633 5708 4697 7544 23 2 22 33 3270 11422 1578 18 33 2 2481 2 26 2 215 2 203 23 2 30 2 19 2 17133 2 15728 40 2 19 2 5975 2 1101 17 4 3 22295 14654 16 2 94 91 4 3 6872 4 3 67 2 593 2 38 2 224 2 2360 2 31388 2 49 2 19 2 474 2 26 2 6353 4 3 19 2 44 4756 300 24 2778 44 2 13861 2 103 2 28 2 1360 2 3276 2 39 2 8826 40 2 56 2 9689 2 66 2 4827 840 2 300 19093 1079 2 635 318 17 4 3 19 2 595 2 26 2 11598 2 17655 2 49 2 135 2 336 2 2020 2 35 2 2352 2 77 725 2 419 2 504 2 27 2 23315 2 277 2 2448 4 3 19 2 22397 2 26 2 5556 131 2 139 2 5800 2 403 2 177 2 3611 93 2 19 2 513 2 1862 2 27 2 18810 2 52 2 21513 2 70 2 19 2 309 2 1101 2 14186 2 26 2 500 18444 2 12016 48 16 2 22 4285 2 26 2 746 2 27 2 19 2 630 4683 17553 2 480 118 2 6644 17 2 22 19 2 513 2 26 2 13573 16862 16 2 131 2 6653 95 474 18 2 28 2 2483 2 26 2 8821 22882 18 2 387 38 2 131 2 3682 3682 2 24 2 2539 2 2644 2 26 2 19 2 1379 2 670 2 26 2 6995 2 5786 2 19096 23 2 30 2 19 2 513 2 33506 2 403 2 13994 131 3682 2 22 19 2 513 2 26 2 13573 16862 16 2 131 2 1142 16 2945 18 2 40 16 1081 2 131 2 2841 2 131 2 9369 16 2 151 2 41 2 19 2 1025 2483 2 26 2 5556 131 81 4 3 1039 18 2 550 2 6836 2 5949 18 2 1659 17 2 14309 40 2 28 2 227 2 4171 2 1687 4683 267 2 30 2 644 2 28 2 227 2 41 2 2359 2 1700 2 273 16 2 35 2 28 2 2479 2 390 2 1687 4683 267 2 7153 2 30 2 3682 921 1079 2 2543 16 267 18 2 19 2 2479 2 70 2 6836 2 5949 18 2 1659 17 2 41 2 19302 2 49 2 19 2 914 2 26 2 125 2 26 2 19 2 1273 2 277 2 30 2 4428 2 6403 2 403 2 28 2 32120 17 4 3 4837 2 35 5224 2 155 17 18 2 2343 17 4 3 71 18902 2 14272 4 3 15838 6122 4353 391 2 39 2 28 2 9659 2 11840 2 103 2 120 2 272 2 2369 2 35 2 180 2 518 2 19 2 1799 2 279 2 19 2 67 937 2 1644 17 4 3 27 2 11136 18 2 67 2 41 2 144 2 48 2 19 2 356 2 351 2 26 2 88 1578 1675 2 6653 6068 18 2 28 2 7892 2 27 2 35034 11348 24 2139 18 2 2917 29936 18 2 16 318 2 22 1495 2 35 2 1378 2 12457 18 2 11422 770 18 2 35 10673 24 2107 18 2 5605 113 81 4 3 1801 2 303 2 8898 8821 2 28 4827 2 176 2 2292 2 28 2 1558 2 6860 2 70 2 24731 8898 2 8630 2 30 2 30414 2 296 2 19 2 24916 24662 2 7684 18 2 408 2 8898 8821 18 2 7724 2 19 2 3682 2107 44 25 2 5924 2 639 2 24731 8898 18 2 9008 2 639 2 24731 8898 2 30 2 41 2 3095 2 27 2 127 9456 4 3 6615 2 8849 2 544 2 213 2 89 34 2 12262 16 59 24 391 2 8283 630 2 1254 2 22 391 2309 2 235 18 2 25 16 11528 1079 2 1644 23 4 -1 -1 -1 -1 -1 -1 -1 -1 -1 -1 -1 -1 -1 -1 -1 -1 -1 -1 -1 -1 -1 -1 -1 -1 -1 -1\n",
            "INFO:tensorflow:Encoder-Pos-Ids:0 1 2 3 4 5 6 7 8 9 10 11 12 13 14 15 16 17 18 19 20 21 22 23 24 25 26 27 28 29 30 31 32 33 34 35 36 37 38 39 40 41 42 43 44 45 46 47 48 49 50 51 52 53 54 55 0 1 2 3 4 5 6 7 8 9 10 11 12 13 14 15 16 17 18 19 20 21 22 23 24 25 0 1 2 3 4 5 6 7 8 9 10 11 12 13 14 15 16 17 18 19 20 21 22 23 24 25 26 27 28 29 30 31 32 33 34 35 36 37 38 0 1 2 3 4 5 6 7 8 9 10 11 12 13 14 15 16 17 18 19 20 21 22 23 24 25 26 27 28 29 30 31 32 33 34 35 36 37 38 39 40 41 0 1 2 3 4 5 6 7 8 9 10 11 12 13 14 15 16 17 18 19 20 21 22 23 24 25 26 27 28 29 30 31 32 33 34 35 36 37 38 39 40 41 42 43 44 45 46 47 48 49 50 51 52 53 54 55 56 57 58 59 60 61 62 63 64 65 66 67 68 69 70 71 72 73 74 75 76 77 78 79 80 81 0 1 2 3 4 5 6 7 8 9 10 11 12 13 14 15 16 17 18 19 20 21 22 23 24 25 26 27 28 29 30 31 32 33 34 35 36 37 38 39 40 41 42 43 44 45 46 47 48 49 50 51 52 53 54 55 56 57 58 59 60 61 62 63 64 65 66 67 68 69 70 71 0 1 2 3 4 5 6 7 0 1 2 0 1 2 3 4 5 6 7 8 9 10 11 12 13 14 15 16 17 18 19 20 21 22 0 1 2 3 4 5 6 7 8 9 10 11 12 13 14 15 16 17 18 19 20 21 22 23 24 25 26 27 28 29 30 31 32 33 34 35 36 37 38 39 40 41 0 1 2 3 4 5 6 7 8 9 10 11 12 13 14 15 16 17 18 19 20 21 22 23 24 25 26 27 28 29 30 31 32 33 34 35 36 37 0 1 2 3 4 5 6 7 8 9 10 11 12 13 14 15 16 17 18 19 20 21 22 23 24 25 26 27 28 29 30 31 32 33 34 35 36 37 38 39 40 41 42 43 44 45 46 47 48 49 50 51 52 53 54 55 56 57 58 59 60 61 62 63 64 65 66 67 68 69 70 71 72 73 74 75 76 77 78 79 80 81 82 83 84 85 86 87 88 89 90 91 92 93 94 95 96 97 98 99 100 101 102 103 104 105 106 107 108 109 110 111 112 113 114 115 116 117 118 119 120 121 122 123 124 125 126 127 128 129 130 131 132 133 134 135 136 137 138 139 140 141 142 143 144 145 146 147 148 149 150 151 152 153 154 155 156 157 158 159 160 161 162 163 164 165 166 167 168 169 170 171 172 173 174 175 176 177 178 179 180 181 182 183 184 185 186 187 188 189 190 191 192 193 0 1 2 3 4 5 6 7 8 9 10 11 12 13 14 15 16 17 18 19 20 21 22 23 24 25 26 27 28 29 30 31 32 33 34 35 36 37 38 39 40 41 42 43 44 45 46 47 48 49 50 51 52 53 54 55 56 57 58 59 60 61 62 63 64 65 66 67 68 69 70 71 72 73 74 75 76 77 78 79 80 81 82 83 84 85 86 87 88 89 90 91 92 93 94 95 96 97 98 99 100 101 102 103 104 105 106 107 108 109 110 111 112 113 114 115 116 117 0 1 2 3 4 5 6 7 8 9 10 11 12 0 1 2 3 4 5 0 1 2 3 4 5 6 7 8 9 10 11 12 13 14 15 16 17 18 19 20 21 22 23 24 25 26 27 28 29 30 31 32 33 34 35 36 37 38 39 40 41 0 1 2 3 4 5 6 7 8 9 10 11 12 13 14 15 16 17 18 19 20 21 22 23 24 25 26 27 28 29 30 31 32 33 34 35 36 37 38 39 40 41 42 43 44 45 46 47 48 49 50 51 52 53 54 55 56 57 58 59 60 61 62 63 64 65 66 67 68 69 70 71 72 0 1 2 3 4 5 6 7 8 9 10 11 12 13 14 15 16 17 18 19 20 21 22 23 24 25 26 27 28 29 30 31 32 33 34 35 36 37 38 39 40 41 42 43 44 45 46 47 48 49 50 51 52 53 54 55 56 57 58 59 60 61 62 63 64 65 66 67 68 69 70 71 72 73 74 75 76 77 78 79 80 81 82 0 1 2 3 4 5 6 7 8 9 10 11 12 13 14 15 16 17 18 19 20 21 22 23 24 25 26 27 28 29 30 31 32 33 34 35 36 37 -1 -1 -1 -1 -1 -1 -1 -1 -1 -1 -1 -1 -1 -1 -1 -1 -1 -1 -1 -1 -1 -1 -1 -1 -1 -1\n",
            "INFO:tensorflow:Encoder-Group-Ids:0 0 0 0 0 0 0 0 0 0 0 0 0 0 0 0 0 0 0 0 0 0 0 0 0 0 0 0 0 0 0 0 0 0 0 0 0 0 0 0 0 0 0 0 0 0 0 0 0 0 0 0 0 0 0 0 1 1 1 1 1 1 1 1 1 1 1 1 1 1 1 1 1 1 1 1 1 1 1 1 1 1 2 2 2 2 2 2 2 2 2 2 2 2 2 2 2 2 2 2 2 2 2 2 2 2 2 2 2 2 2 2 2 2 2 2 2 2 2 2 2 3 3 3 3 3 3 3 3 3 3 3 3 3 3 3 3 3 3 3 3 3 3 3 3 3 3 3 3 3 3 3 3 3 3 3 3 3 3 3 3 3 3 4 4 4 4 4 4 4 4 4 4 4 4 4 4 4 4 4 4 4 4 4 4 4 4 4 4 4 4 4 4 4 4 4 4 4 4 4 4 4 4 4 4 4 4 4 4 4 4 4 4 4 4 4 4 4 4 4 4 4 4 4 4 4 4 4 4 4 4 4 4 4 4 4 4 4 4 4 4 4 4 4 4 5 5 5 5 5 5 5 5 5 5 5 5 5 5 5 5 5 5 5 5 5 5 5 5 5 5 5 5 5 5 5 5 5 5 5 5 5 5 5 5 5 5 5 5 5 5 5 5 5 5 5 5 5 5 5 5 5 5 5 5 5 5 5 5 5 5 5 5 5 5 5 5 6 6 6 6 6 6 6 6 7 7 7 8 8 8 8 8 8 8 8 8 8 8 8 8 8 8 8 8 8 8 8 8 8 8 9 9 9 9 9 9 9 9 9 9 9 9 9 9 9 9 9 9 9 9 9 9 9 9 9 9 9 9 9 9 9 9 9 9 9 9 9 9 9 9 9 9 10 10 10 10 10 10 10 10 10 10 10 10 10 10 10 10 10 10 10 10 10 10 10 10 10 10 10 10 10 10 10 10 10 10 10 10 10 10 11 11 11 11 11 11 11 11 11 11 11 11 11 11 11 11 11 11 11 11 11 11 11 11 11 11 11 11 11 11 11 11 11 11 11 11 11 11 11 11 11 11 11 11 11 11 11 11 11 11 11 11 11 11 11 11 11 11 11 11 11 11 11 11 11 11 11 11 11 11 11 11 11 11 11 11 11 11 11 11 11 11 11 11 11 11 11 11 11 11 11 11 11 11 11 11 11 11 11 11 11 11 11 11 11 11 11 11 11 11 11 11 11 11 11 11 11 11 11 11 11 11 11 11 11 11 11 11 11 11 11 11 11 11 11 11 11 11 11 11 11 11 11 11 11 11 11 11 11 11 11 11 11 11 11 11 11 11 11 11 11 11 11 11 11 11 11 11 11 11 11 11 11 11 11 11 11 11 11 11 11 11 11 11 11 11 11 11 11 11 11 11 11 11 12 12 12 12 12 12 12 12 12 12 12 12 12 12 12 12 12 12 12 12 12 12 12 12 12 12 12 12 12 12 12 12 12 12 12 12 12 12 12 12 12 12 12 12 12 12 12 12 12 12 12 12 12 12 12 12 12 12 12 12 12 12 12 12 12 12 12 12 12 12 12 12 12 12 12 12 12 12 12 12 12 12 12 12 12 12 12 12 12 12 12 12 12 12 12 12 12 12 12 12 12 12 12 12 12 12 12 12 12 12 12 12 12 12 12 12 12 12 13 13 13 13 13 13 13 13 13 13 13 13 13 14 14 14 14 14 14 15 15 15 15 15 15 15 15 15 15 15 15 15 15 15 15 15 15 15 15 15 15 15 15 15 15 15 15 15 15 15 15 15 15 15 15 15 15 15 15 15 15 16 16 16 16 16 16 16 16 16 16 16 16 16 16 16 16 16 16 16 16 16 16 16 16 16 16 16 16 16 16 16 16 16 16 16 16 16 16 16 16 16 16 16 16 16 16 16 16 16 16 16 16 16 16 16 16 16 16 16 16 16 16 16 16 16 16 16 16 16 16 16 16 16 17 17 17 17 17 17 17 17 17 17 17 17 17 17 17 17 17 17 17 17 17 17 17 17 17 17 17 17 17 17 17 17 17 17 17 17 17 17 17 17 17 17 17 17 17 17 17 17 17 17 17 17 17 17 17 17 17 17 17 17 17 17 17 17 17 17 17 17 17 17 17 17 17 17 17 17 17 17 17 17 17 17 17 18 18 18 18 18 18 18 18 18 18 18 18 18 18 18 18 18 18 18 18 18 18 18 18 18 18 18 18 18 18 18 18 18 18 18 18 18 18 -1 -1 -1 -1 -1 -1 -1 -1 -1 -1 -1 -1 -1 -1 -1 -1 -1 -1 -1 -1 -1 -1 -1 -1 -1 -1\n",
            "INFO:tensorflow:Decoder-Token-Ids:3 39214 31 8200 4095 20 434 2929 4003 172 35162 11352 23867 6098 21 4 3 58 22648 10192 612 13146 64 16751 4608 404 21 4 3 1043 29 22 167 725 29 23 25166 836 28385 325 288 45 398 73 2828 5533 21 4 3 810 6680 2 4995 836 22 620 42 2 14020 10222 20 26909 68 29 1828 1848 29 23 2 24 2 17937 14936 68 29 83 37 86 51 2 22 20108 23 1828 256 29 85 37 173 51 23 23 36 20 13728 5717 31 18621 21 4 3 9310 11977 430 756 8555 20 2102 21393 4619 19584 1053 55 10663 115 32 2747 33001 184 32 573 184 475 756 8555 20 18611 24600 30834 16088 1785 1727 323 21315 5519 22357 21 4 3 58 210 1713 31 9858 3235 20 781 3840 18633 5708 4697 7544 10335 1863 1627 74 82 37 50 15770 23 65 21523 46 33364 2601 1615 10642 16630 21 4 3 1491 4347 94 32895 835 4 3 28304 4 3 31388 29 83 37 145 51 22 10047 85 29 77 37 169 51 343 1157 1347 800 22884 21 4 3 18112 32963 35922 342 16774 412 454 14750 45 16981 2253 614 10413 9202 42 58 1624 26486 1982 64 90 21 4 3 291 13095 43 51 12136 31 22117 7821 77 725 8323 21 4 3 1129 348 17998 36 20 20009 20 564 400 4157 707 28509 10584 1467 45 3897 99 4302 22 1758 355 3687 31 2393 2583 13660 31 27501 2889 23078 31 4302 23 65 20 7656 5508 45 1436 1204 28136 4302 22 1129 348 13358 31 19166 1895 2651 31 27501 16138 22853 31 4302 23 17713 171 21 4 3 929 20 7368 2625 1033 65 11639 38464 30593 262 20 11081 4127 5503 17919 4185 1276 58 7368 249 2625 3506 4200 830 64 42 43 854 129 16308 20 905 77 10953 186 2963 16555 791 20 16153 17015 26493 21 4 3 6705 4279 249 1850 4 3 18608 11901 501 4 3 2513 4138 28433 521 20 9374 45 1662 5892 46 4672 3044 12988 9437 581 1861 877 19889 9758 21 4 3 8773 82 29 22 11136 29 343 3062 26882 288 1041 138 22 960 476 22917 220 10729 31 2791 31187 23 31 2656 339 90 18619 1753 257 12060 20 1606 3600 19170 21 4 3 23358 65 3932 2270 20034 299 1176 35910 30223 838 46 14886 39202 4537 20 935 3921 31 22036 15200 4821 45 1686 1639 930 22036 45 13474 20 6402 54 150 19901 117 21 4 3 68 37 89 2099 16558 31 12176 34 814 5181 666 7964 22 13029 115 20 13819 23 4 -1 -1 -1 -1 -1 -1 -1 -1 -1 -1 -1 -1 -1 -1 -1 -1 -1 -1 -1 -1 -1 -1 -1 -1 -1 -1 -1 -1 -1 -1 -1 -1 -1 -1 -1 -1 -1 -1 -1 -1 -1 -1 -1 -1 -1 -1 -1 -1 -1 -1 -1 -1 -1 -1 -1 -1 -1 -1 -1 -1 -1 -1 -1 -1 -1 -1 -1 -1 -1 -1 -1 -1 -1 -1 -1 -1 -1 -1 -1 -1 -1 -1 -1 -1 -1 -1 -1 -1 -1 -1 -1 -1 -1 -1 -1 -1 -1 -1 -1 -1 -1 -1 -1 -1 -1 -1 -1 -1 -1 -1 -1 -1 -1 -1 -1 -1 -1 -1 -1 -1 -1 -1 -1 -1 -1 -1 -1 -1 -1 -1 -1 -1 -1 -1 -1 -1 -1 -1 -1 -1 -1 -1 -1 -1 -1 -1 -1 -1 -1 -1 -1 -1 -1 -1 -1 -1 -1 -1 -1 -1 -1 -1 -1 -1 -1 -1 -1 -1 -1 -1 -1 -1 -1 -1 -1 -1 -1 -1 -1 -1 -1 -1 -1 -1 -1 -1 -1 -1 -1 -1 -1 -1 -1 -1 -1 -1 -1 -1 -1 -1 -1 -1 -1 -1 -1 -1 -1 -1 -1 -1 -1 -1 -1 -1 -1 -1 -1 -1 -1 -1 -1 -1 -1 -1 -1 -1 -1 -1 -1 -1 -1 -1 -1 -1 -1 -1 -1 -1 -1 -1 -1 -1 -1 -1 -1 -1 -1 -1 -1 -1 -1 -1 -1 -1 -1 -1 -1 -1 -1 -1 -1 -1 -1 -1 -1 -1 -1 -1 -1 -1 -1 -1 -1 -1 -1 -1 -1 -1 -1 -1 -1 -1 -1 -1 -1 -1 -1 -1 -1 -1 -1 -1 -1 -1 -1 -1 -1 -1 -1 -1 -1 -1 -1 -1 -1 -1 -1 -1 -1 -1 -1 -1 -1 -1 -1 -1 -1 -1 -1 -1 -1 -1 -1 -1 -1 -1 -1 -1 -1 -1 -1 -1 -1 -1 -1 -1 -1 -1 -1 -1 -1 -1 -1 -1 -1 -1 -1 -1 -1 -1 -1 -1 -1 -1 -1 -1 -1 -1 -1 -1 -1 -1 -1 -1 -1 -1 -1 -1 -1 -1 -1 -1 -1 -1 -1 -1 -1 -1 -1 -1 -1 -1 -1 -1 -1 -1 -1 -1 -1 -1 -1 -1 -1 -1 -1 -1 -1 -1 -1 -1 -1 -1 -1 -1 -1 -1 -1 -1 -1 -1 -1 -1 -1 -1 -1 -1 -1 -1 -1 -1 -1 -1 -1 -1 -1 -1 -1 -1 -1 -1 -1 -1 -1 -1 -1 -1 -1 -1 -1 -1 -1 -1 -1 -1 -1 -1 -1 -1 -1 -1 -1 -1 -1 -1 -1 -1 -1 -1 -1 -1 -1 -1 -1 -1 -1 -1 -1 -1 -1 -1 -1 -1 -1 -1 -1 -1 -1 -1 -1 -1 -1 -1 -1 -1 -1 -1 -1 -1 -1 -1 -1 -1 -1 -1 -1 -1 -1 -1 -1 -1 -1 -1 -1 -1 -1 -1 -1 -1 -1 -1 -1 -1 -1 -1 -1 -1 -1 -1 -1 -1 -1 -1 -1 -1 -1 -1 -1 -1 -1 -1 -1 -1 -1 -1 -1 -1 -1 -1 -1 -1 -1 -1 -1 -1 -1 -1 -1 -1 -1\n",
            "INFO:tensorflow:Decoder-Pos-Ids:0 1 2 3 4 5 6 7 8 9 10 11 12 13 14 15 0 1 2 3 4 5 6 7 8 9 10 11 0 1 2 3 4 5 6 7 8 9 10 11 12 13 14 15 16 17 18 19 0 1 2 3 4 5 6 7 8 9 10 11 12 13 14 15 16 17 18 19 20 21 22 23 24 25 26 27 28 29 30 31 32 33 34 35 36 37 38 39 40 41 42 43 44 45 46 47 48 49 50 51 0 1 2 3 4 5 6 7 8 9 10 11 12 13 14 15 16 17 18 19 20 21 22 23 24 25 26 27 28 29 30 31 32 33 34 35 36 37 0 1 2 3 4 5 6 7 8 9 10 11 12 13 14 15 16 17 18 19 20 21 22 23 24 25 26 27 28 29 30 31 32 0 1 2 3 4 5 6 0 1 2 0 1 2 3 4 5 6 7 8 9 10 11 12 13 14 15 16 17 18 19 20 21 0 1 2 3 4 5 6 7 8 9 10 11 12 13 14 15 16 17 18 19 20 21 22 23 0 1 2 3 4 5 6 7 8 9 10 11 12 13 0 1 2 3 4 5 6 7 8 9 10 11 12 13 14 15 16 17 18 19 20 21 22 23 24 25 26 27 28 29 30 31 32 33 34 35 36 37 38 39 40 41 42 43 44 45 46 47 48 49 50 51 52 53 54 55 56 57 58 59 60 61 0 1 2 3 4 5 6 7 8 9 10 11 12 13 14 15 16 17 18 19 20 21 22 23 24 25 26 27 28 29 30 31 32 33 34 35 36 37 38 39 40 41 42 43 44 0 1 2 3 4 5 0 1 2 3 4 0 1 2 3 4 5 6 7 8 9 10 11 12 13 14 15 16 17 18 19 20 21 0 1 2 3 4 5 6 7 8 9 10 11 12 13 14 15 16 17 18 19 20 21 22 23 24 25 26 27 28 29 30 31 32 33 34 35 36 0 1 2 3 4 5 6 7 8 9 10 11 12 13 14 15 16 17 18 19 20 21 22 23 24 25 26 27 28 29 30 31 32 33 34 35 36 0 1 2 3 4 5 6 7 8 9 10 11 12 13 14 15 16 17 18 19 -1 -1 -1 -1 -1 -1 -1 -1 -1 -1 -1 -1 -1 -1 -1 -1 -1 -1 -1 -1 -1 -1 -1 -1 -1 -1 -1 -1 -1 -1 -1 -1 -1 -1 -1 -1 -1 -1 -1 -1 -1 -1 -1 -1 -1 -1 -1 -1 -1 -1 -1 -1 -1 -1 -1 -1 -1 -1 -1 -1 -1 -1 -1 -1 -1 -1 -1 -1 -1 -1 -1 -1 -1 -1 -1 -1 -1 -1 -1 -1 -1 -1 -1 -1 -1 -1 -1 -1 -1 -1 -1 -1 -1 -1 -1 -1 -1 -1 -1 -1 -1 -1 -1 -1 -1 -1 -1 -1 -1 -1 -1 -1 -1 -1 -1 -1 -1 -1 -1 -1 -1 -1 -1 -1 -1 -1 -1 -1 -1 -1 -1 -1 -1 -1 -1 -1 -1 -1 -1 -1 -1 -1 -1 -1 -1 -1 -1 -1 -1 -1 -1 -1 -1 -1 -1 -1 -1 -1 -1 -1 -1 -1 -1 -1 -1 -1 -1 -1 -1 -1 -1 -1 -1 -1 -1 -1 -1 -1 -1 -1 -1 -1 -1 -1 -1 -1 -1 -1 -1 -1 -1 -1 -1 -1 -1 -1 -1 -1 -1 -1 -1 -1 -1 -1 -1 -1 -1 -1 -1 -1 -1 -1 -1 -1 -1 -1 -1 -1 -1 -1 -1 -1 -1 -1 -1 -1 -1 -1 -1 -1 -1 -1 -1 -1 -1 -1 -1 -1 -1 -1 -1 -1 -1 -1 -1 -1 -1 -1 -1 -1 -1 -1 -1 -1 -1 -1 -1 -1 -1 -1 -1 -1 -1 -1 -1 -1 -1 -1 -1 -1 -1 -1 -1 -1 -1 -1 -1 -1 -1 -1 -1 -1 -1 -1 -1 -1 -1 -1 -1 -1 -1 -1 -1 -1 -1 -1 -1 -1 -1 -1 -1 -1 -1 -1 -1 -1 -1 -1 -1 -1 -1 -1 -1 -1 -1 -1 -1 -1 -1 -1 -1 -1 -1 -1 -1 -1 -1 -1 -1 -1 -1 -1 -1 -1 -1 -1 -1 -1 -1 -1 -1 -1 -1 -1 -1 -1 -1 -1 -1 -1 -1 -1 -1 -1 -1 -1 -1 -1 -1 -1 -1 -1 -1 -1 -1 -1 -1 -1 -1 -1 -1 -1 -1 -1 -1 -1 -1 -1 -1 -1 -1 -1 -1 -1 -1 -1 -1 -1 -1 -1 -1 -1 -1 -1 -1 -1 -1 -1 -1 -1 -1 -1 -1 -1 -1 -1 -1 -1 -1 -1 -1 -1 -1 -1 -1 -1 -1 -1 -1 -1 -1 -1 -1 -1 -1 -1 -1 -1 -1 -1 -1 -1 -1 -1 -1 -1 -1 -1 -1 -1 -1 -1 -1 -1 -1 -1 -1 -1 -1 -1 -1 -1 -1 -1 -1 -1 -1 -1 -1 -1 -1 -1 -1 -1 -1 -1 -1 -1 -1 -1 -1 -1 -1 -1 -1 -1 -1 -1 -1 -1 -1 -1 -1 -1 -1 -1 -1 -1 -1 -1 -1 -1 -1 -1 -1 -1 -1 -1 -1 -1 -1 -1 -1 -1 -1 -1 -1 -1 -1 -1 -1 -1 -1 -1 -1 -1 -1 -1 -1 -1 -1 -1 -1 -1 -1 -1 -1 -1 -1 -1 -1 -1 -1 -1 -1 -1 -1 -1 -1 -1 -1 -1 -1 -1 -1 -1 -1 -1 -1\n",
            "INFO:tensorflow:Decoder-Group-Ids:0 0 0 0 0 0 0 0 0 0 0 0 0 0 0 0 1 1 1 1 1 1 1 1 1 1 1 1 2 2 2 2 2 2 2 2 2 2 2 2 2 2 2 2 2 2 2 2 3 3 3 3 3 3 3 3 3 3 3 3 3 3 3 3 3 3 3 3 3 3 3 3 3 3 3 3 3 3 3 3 3 3 3 3 3 3 3 3 3 3 3 3 3 3 3 3 3 3 3 3 4 4 4 4 4 4 4 4 4 4 4 4 4 4 4 4 4 4 4 4 4 4 4 4 4 4 4 4 4 4 4 4 4 4 4 4 4 4 5 5 5 5 5 5 5 5 5 5 5 5 5 5 5 5 5 5 5 5 5 5 5 5 5 5 5 5 5 5 5 5 5 6 6 6 6 6 6 6 7 7 7 8 8 8 8 8 8 8 8 8 8 8 8 8 8 8 8 8 8 8 8 8 8 9 9 9 9 9 9 9 9 9 9 9 9 9 9 9 9 9 9 9 9 9 9 9 9 10 10 10 10 10 10 10 10 10 10 10 10 10 10 11 11 11 11 11 11 11 11 11 11 11 11 11 11 11 11 11 11 11 11 11 11 11 11 11 11 11 11 11 11 11 11 11 11 11 11 11 11 11 11 11 11 11 11 11 11 11 11 11 11 11 11 11 11 11 11 11 11 11 11 11 11 12 12 12 12 12 12 12 12 12 12 12 12 12 12 12 12 12 12 12 12 12 12 12 12 12 12 12 12 12 12 12 12 12 12 12 12 12 12 12 12 12 12 12 12 12 13 13 13 13 13 13 14 14 14 14 14 15 15 15 15 15 15 15 15 15 15 15 15 15 15 15 15 15 15 15 15 15 15 16 16 16 16 16 16 16 16 16 16 16 16 16 16 16 16 16 16 16 16 16 16 16 16 16 16 16 16 16 16 16 16 16 16 16 16 16 17 17 17 17 17 17 17 17 17 17 17 17 17 17 17 17 17 17 17 17 17 17 17 17 17 17 17 17 17 17 17 17 17 17 17 17 17 18 18 18 18 18 18 18 18 18 18 18 18 18 18 18 18 18 18 18 18 -1 -1 -1 -1 -1 -1 -1 -1 -1 -1 -1 -1 -1 -1 -1 -1 -1 -1 -1 -1 -1 -1 -1 -1 -1 -1 -1 -1 -1 -1 -1 -1 -1 -1 -1 -1 -1 -1 -1 -1 -1 -1 -1 -1 -1 -1 -1 -1 -1 -1 -1 -1 -1 -1 -1 -1 -1 -1 -1 -1 -1 -1 -1 -1 -1 -1 -1 -1 -1 -1 -1 -1 -1 -1 -1 -1 -1 -1 -1 -1 -1 -1 -1 -1 -1 -1 -1 -1 -1 -1 -1 -1 -1 -1 -1 -1 -1 -1 -1 -1 -1 -1 -1 -1 -1 -1 -1 -1 -1 -1 -1 -1 -1 -1 -1 -1 -1 -1 -1 -1 -1 -1 -1 -1 -1 -1 -1 -1 -1 -1 -1 -1 -1 -1 -1 -1 -1 -1 -1 -1 -1 -1 -1 -1 -1 -1 -1 -1 -1 -1 -1 -1 -1 -1 -1 -1 -1 -1 -1 -1 -1 -1 -1 -1 -1 -1 -1 -1 -1 -1 -1 -1 -1 -1 -1 -1 -1 -1 -1 -1 -1 -1 -1 -1 -1 -1 -1 -1 -1 -1 -1 -1 -1 -1 -1 -1 -1 -1 -1 -1 -1 -1 -1 -1 -1 -1 -1 -1 -1 -1 -1 -1 -1 -1 -1 -1 -1 -1 -1 -1 -1 -1 -1 -1 -1 -1 -1 -1 -1 -1 -1 -1 -1 -1 -1 -1 -1 -1 -1 -1 -1 -1 -1 -1 -1 -1 -1 -1 -1 -1 -1 -1 -1 -1 -1 -1 -1 -1 -1 -1 -1 -1 -1 -1 -1 -1 -1 -1 -1 -1 -1 -1 -1 -1 -1 -1 -1 -1 -1 -1 -1 -1 -1 -1 -1 -1 -1 -1 -1 -1 -1 -1 -1 -1 -1 -1 -1 -1 -1 -1 -1 -1 -1 -1 -1 -1 -1 -1 -1 -1 -1 -1 -1 -1 -1 -1 -1 -1 -1 -1 -1 -1 -1 -1 -1 -1 -1 -1 -1 -1 -1 -1 -1 -1 -1 -1 -1 -1 -1 -1 -1 -1 -1 -1 -1 -1 -1 -1 -1 -1 -1 -1 -1 -1 -1 -1 -1 -1 -1 -1 -1 -1 -1 -1 -1 -1 -1 -1 -1 -1 -1 -1 -1 -1 -1 -1 -1 -1 -1 -1 -1 -1 -1 -1 -1 -1 -1 -1 -1 -1 -1 -1 -1 -1 -1 -1 -1 -1 -1 -1 -1 -1 -1 -1 -1 -1 -1 -1 -1 -1 -1 -1 -1 -1 -1 -1 -1 -1 -1 -1 -1 -1 -1 -1 -1 -1 -1 -1 -1 -1 -1 -1 -1 -1 -1 -1 -1 -1 -1 -1 -1 -1 -1 -1 -1 -1 -1 -1 -1 -1 -1 -1 -1 -1 -1 -1 -1 -1 -1 -1 -1 -1 -1 -1 -1 -1 -1 -1 -1 -1 -1 -1 -1 -1 -1 -1 -1 -1 -1 -1 -1 -1 -1 -1 -1 -1 -1 -1 -1 -1 -1 -1 -1 -1 -1 -1 -1 -1 -1 -1 -1 -1 -1 -1 -1 -1 -1 -1 -1 -1 -1 -1 -1 -1 -1 -1 -1 -1 -1 -1 -1 -1 -1 -1 -1 -1 -1 -1 -1 -1 -1 -1 -1 -1 -1 -1 -1 -1 -1 -1 -1 -1 -1 -1 -1 -1 -1 -1 -1\n",
            "INFO:tensorflow:Making training data...\n",
            "INFO:tensorflow:Loading examples\n",
            "INFO:tensorflow:***** FitGenerator Summary *****\n",
            "INFO:tensorflow:Num_all_examples=399239\n",
            "INFO:tensorflow:sum_src_tokens=22646742\n",
            "INFO:tensorflow:sum_tar_tokens=9989068\n",
            "INFO:tensorflow:Batch_size=8\n",
            "INFO:tensorflow:encoder_input_len=1024\n",
            "INFO:tensorflow:decoder_input_len=1024\n",
            "INFO:tensorflow:packing_factor=0.950\n",
            "INFO:tensorflow:approximate_steps_per_epoch=2909\n",
            "INFO:tensorflow:num_epoch=5\n",
            "INFO:tensorflow:total_step=14545\n",
            "INFO:tensorflow:Elapsed_sec_before_fit_generator=82.049\n",
            "INFO:tensorflow:Preparing new records\n",
            "INFO:tensorflow:New file created model/transformer/train.tfrecord.0\n",
            "INFO:tensorflow:*** Example ***\n",
            "INFO:tensorflow:guids:['train-0-373770', 'train-0-62057', 'train-0-228088', 'train-0-170790', 'train-0-345122', 'train-0-129962', 'train-0-204400', 'train-0-165128', 'train-0-185590', 'train-0-164828', 'train-0-235106', 'train-0-219156', 'train-0-112917', 'train-0-80605', 'train-0-292145', 'train-0-176843', 'train-0-133565', 'train-0-220109', 'train-0-324671', 'train-0-367260']\n",
            "INFO:tensorflow:src_texts:['It is used for formal dress, but it is heavy and hard to handle because it is folded with an obishin (obi padding, which is made of sail cloth) placed inside it.', 'The jockeys were selected from among the lower class military officers belonging to the ebu (the section to guard the court) or meryo (the section taking care of imperial horses).', 'Sokun IMAI was his son.', \"In the Jinmyocho (the list of deities) of Engishiki (codes and procedures on national rites and prayers), 13 'za' and 10 'sha' of Taisha (grand shrine) and 142 'za' and 132 'sha' of Shosha (small shrine), namely, 155 'za' and 142 'sha' in total, were recorded.\", 'In 1883, their first son, named Hisataro KONDO, was born.', 'The central station: Mineyama Station', 'Kansai Main Line', \"Influenced by Keiichiro RYU's novel 'Ichimuan Furyuki' and its comic version 'Hana no Keiji: Kumo no Kanata ni,' he is seen as a strong warrior and a battle master of the highest level.\", \"There is a mound called 'Ishitsukuri' in the nearby rice field.\", \"On the background that 'Churyoekichoku' was criticized as 'apathy and sense of powerlessness' in the Meiji period, there was a change of viewpoint on human beings.\", 'Furthermore, under the above platform, there was a vertical stone chamber in which a long coffin with the length of 6.7 meters was kept but the chamber had already been robbed.', 'In the book, Shinto is interpreted uniquely, which greatly affected Shinto Gobusho (five-volume apologia of Shinto) later.', 'A war described in the beginning of \"Hakkenden.\"', 'It is said that the occurrence frequency of kosa offers an important viewpoint for considering the advance of global warming and desertification.', \"Therefore, it was often called 'Kadensho' until some time after the war, but the title 'Fushikadensho' is commonly used now.\", 'His mother was a daughter of FUJIWARA no Tokihira.', 'Rokuon-ji Temple (Note: Strictly it is a little bit away from the street.)', 'However, as with the diaries of his younger brothers, Norimichi and Yorimune, the records were lost.', \"Wuzhun Shifan bokuseki on silk (Enni's certification as a Zen Master) - Written in 1237 during the Southern Song period.\", 'In 1505, he became the family head by taking over as the head of the family from his older brother Korenaga ASO (Taketsune KIKUCHI) who seized the Kikuchi family of Higo no kuni Shugo (Provincial Constable of Higo Province).']\n",
            "INFO:tensorflow:tar_texts:['礼装用に用いるが、帆布の帯芯を入れて布を折りたたむため重くて扱いにくい。', '騎手は主に衛府や馬寮に属する地下の武官から選ばれた。', '子に今井宗薫。', '延喜式神名帳には大社13座10社、小社142座132社の計155座142社が記されている。', '明治16年（1883年）、長男・近藤久太郎が生まれた。', '中心となる駅：峰山駅', '関西本線', '隆慶一郎の時代小説「一夢庵風流記」およびそのコミカライズ作品である「花の慶次 ―雲のかなたに―」などから影響を受け、人々に豪腕な武人・超一級の戦人のように印象づけられた。', '近隣の水田に「石作」という塚がある。', '「忠諒易直」が明治の世にあっては「無気無力」と断ぜられた背後には、人間に対する見方の変化がある。', 'さらに、その下に長さ6.7メートルの長大な棺を納めた竪穴式石室があり、既に盗掘を受けている。', '神道について、独自の解釈を行っており、後の神道五部書等に大きな影響を与えた。', '『八犬伝』冒頭に配される合戦。', '地球温暖化や砂漠化の進行を考える上で、黄砂の発生頻度の変化は重要な視点の1つとされている。', 'したがって、戦後しばらくまでは「花伝書」と呼ばれることが多かったが、現在では「風姿花伝」の書名を用いることが一般的。', '母は藤原時平の娘。', '鹿苑寺 （※注厳密には少し離れている。', 'しかし、弟の教通・頼宗の日記と同じく散逸してしまった。', '無準師範墨蹟（円爾印可状）（絹本）－南宋時代1237年の筆。', '1505年、肥後国守護の菊池家を乗っ取った兄・阿蘇惟長（菊池武経）に家督を譲られ、当主となる。']\n",
            "INFO:tensorflow:Target:4515 3970 832 28786 42 20 12464 3265 31 3072 39585 35240 3265 46 22289 171 171 1276 797 852 20553 9357 22451 21 4 0 8219 14444 5436 2838 109 873 11200 5084 5650 31 960 1132 102 22908 21 4 0 15494 9836 1220 10296 21 4 0 32956 37201 186 20351 147 1483 82 353 20 335 353 11398 1483 9765 353 23588 6415 1483 11398 17919 22728 21 4 0 362 137 29 22 5496 29 343 9783 32 8947 810 1419 26148 21 4 0 4869 344 219 34 33236 219 4 0 3218 4002 4 0 1634 2799 2362 12880 2800 58 210 2475 9200 955 957 1311 64 21397 14798 327 17567 14858 58 14362 2799 1174 2 2344 2514 31 6678 171 45 2344 64 15618 36075 20 7581 45 7136 6800 228 960 172 32 2522 28901 31 567 172 3912 17562 16266 1714 21 4 0 26619 23565 45 58 573 854 64 310 3629 425 21 4 0 58 1468 38296 18555 967 64 42 362 31 683 26348 36 58 1175 1595 1175 1109 64 65 5112 12066 1714 35087 186 20 2943 3299 32779 21455 425 21 4 0 1767 20 307 15788 7817 20703 21215 299 140 228 32201 46 34473 171 36478 4893 903 573 984 1426 20 14076 10978 27089 21591 21 4 0 18480 1171 20 11235 14778 36446 20 2151 18480 1205 257 940 718 21386 29039 21 4 0 63 1146 3469 1522 74 20627 45 3452 404 13597 21 4 0 3851 4691 17642 581 109 18641 581 31 8807 21140 6005 20 3918 4232 31 5699 32468 21455 36 6184 23270 31 43 588 5394 21 4 0 24128 20 5567 15227 6116 58 693 1522 940 64 2325 34274 42 20 8132 58 955 8479 693 1522 64 31 940 334 12175 3747 20942 21 4 0 10115 3493 623 434 2823 21 4 0 3975 12637 475 2 22 1501 5272 6819 3976 186 12285 30309 21 4 0 929 20 11845 1712 836 32 3040 1220 31 5977 12204 6369 12336 20957 21 4 0 1175 4444 19354 13341 28440 22 1551 13471 3798 4155 3235 23 22 21053 268 23 24 288 7055 2452 89 1050 627 4954 21 4 0 2510 77 29 20 25099 301 9168 31 10487 339 46 3831 2161 21691 3825 32 18378 22383 299 22 10487 960 1857 23 45 20469 4612 2846 20 12306 344 21 4 0 -1 -1 -1 -1 -1 -1 -1 -1 -1 -1 -1 -1 -1 -1 -1 -1 -1 -1 -1 -1 -1 -1 -1 -1 -1 -1 -1 -1 -1 -1 -1 -1 -1 -1 -1 -1 -1 -1 -1 -1 -1 -1 -1 -1 -1 -1 -1 -1 -1 -1 -1 -1 -1 -1 -1 -1 -1 -1 -1 -1 -1 -1 -1 -1 -1 -1 -1 -1 -1 -1 -1 -1 -1 -1 -1 -1 -1 -1 -1 -1 -1 -1 -1 -1 -1 -1 -1 -1 -1 -1 -1 -1 -1 -1 -1 -1 -1 -1 -1 -1 -1 -1 -1 -1 -1 -1 -1 -1 -1 -1 -1 -1 -1 -1 -1 -1 -1 -1 -1 -1 -1 -1 -1 -1 -1 -1 -1 -1 -1 -1 -1 -1 -1 -1 -1 -1 -1 -1 -1 -1 -1 -1 -1 -1 -1 -1 -1 -1 -1 -1 -1 -1 -1 -1 -1 -1 -1 -1 -1 -1 -1 -1 -1 -1 -1 -1 -1 -1 -1 -1 -1 -1 -1 -1 -1 -1 -1 -1 -1 -1 -1 -1 -1 -1 -1 -1 -1 -1 -1 -1 -1 -1 -1 -1 -1 -1 -1 -1 -1 -1 -1 -1 -1 -1 -1 -1 -1 -1 -1 -1 -1 -1 -1 -1 -1 -1 -1 -1 -1 -1 -1 -1 -1 -1 -1 -1 -1 -1 -1 -1 -1 -1 -1 -1 -1 -1 -1 -1 -1 -1 -1 -1 -1 -1 -1 -1 -1 -1 -1 -1 -1 -1 -1 -1 -1 -1 -1 -1 -1 -1 -1 -1 -1 -1 -1 -1 -1 -1 -1 -1 -1 -1 -1 -1 -1 -1 -1 -1 -1 -1 -1 -1 -1 -1 -1 -1 -1 -1 -1 -1 -1 -1 -1 -1 -1 -1 -1 -1 -1 -1 -1 -1 -1 -1 -1 -1 -1 -1 -1 -1 -1 -1 -1 -1 -1 -1 -1 -1 -1 -1 -1 -1 -1 -1 -1 -1 -1 -1 -1 -1 -1 -1 -1 -1 -1 -1 -1 -1 -1 -1 -1 -1 -1 -1 -1 -1 -1 -1 -1 -1 -1 -1 -1 -1 -1 -1 -1 -1 -1 -1 -1 -1 -1 -1 -1 -1 -1 -1 -1 -1 -1 -1 -1 -1 -1 -1 -1 -1 -1 -1 -1 -1 -1 -1 -1 -1 -1 -1 -1 -1 -1 -1 -1 -1 -1 -1 -1 -1 -1 -1 -1 -1 -1 -1 -1 -1 -1 -1 -1 -1 -1 -1 -1 -1 -1 -1 -1 -1 -1 -1 -1 -1 -1 -1 -1 -1 -1 -1 -1 -1 -1 -1 -1 -1 -1 -1 -1 -1 -1 -1 -1 -1 -1 -1 -1 -1 -1 -1 -1 -1 -1 -1 -1 -1 -1 -1 -1 -1 -1 -1 -1 -1 -1 -1 -1 -1 -1 -1 -1 -1 -1 -1 -1 -1 -1 -1 -1 -1 -1 -1 -1 -1 -1 -1 -1 -1 -1 -1 -1 -1 -1 -1 -1 -1 -1 -1 -1 -1 -1 -1 -1 -1 -1 -1 -1 -1 -1 -1 -1 -1 -1 -1 -1 -1 -1 -1 -1 -1 -1 -1 -1 -1 -1 -1 -1 -1 -1 -1 -1 -1 -1 -1 -1 -1 -1 -1 -1 -1 -1 -1 -1 -1 -1 -1 -1 -1 -1 -1 -1 -1 -1 -1 -1 -1 -1 -1 -1 -1 -1 -1 -1 -1 -1 -1 -1 -1 -1 -1 -1 -1 -1 -1 -1 -1 -1 -1 -1 -1 -1 -1 -1 -1 -1 -1 -1 -1 -1 -1 -1 -1 -1 -1 -1 -1 -1 -1 -1 -1 -1 -1 -1 -1 -1 -1\n",
            "INFO:tensorflow:Encoder-Token-Ids:3 69 2 39 2 469 2 52 2 10821 2 10391 18 2 216 2 69 2 39 2 5787 2 30 2 2040 2 35 2 11642 2 1663 2 69 2 39 2 25824 2 70 2 72 2 15753 2917 2 22 15753 2 71 18303 18 2 124 2 39 2 427 2 26 2 10835 2 27447 23 2 3184 2 4642 2 69 17 4 3 19 2 21122 25 2 139 2 2944 2 66 2 1625 2 19 2 2523 2 880 2 1558 2 8091 2 12924 2 35 2 19 2 16 1675 2 22 19 2 2156 2 35 2 4380 2 19 2 1101 23 2 100 2 818 1578 2 22 19 2 2156 2 4134 2 512 16 2 26 2 5975 2 14274 81 4 3 320 6420 2 79 5408 2 41 2 84 2 351 17 4 3 27 2 19 2 6368 27894 2139 2 22 19 2 225 2 26 2 40 16 5055 23 2 26 2 16 1334 13312 540 2 22 14379 2 30 2 15529 25 2 38 2 122 2 32711 2 30 2 15336 25 118 2 147 2 44 803 44 2 30 2 82 2 44 1858 44 2 26 2 4525 1858 2 22 1025 2 14702 23 2 30 2 11398 2 44 803 44 2 30 2 9765 2 44 1858 44 2 26 2 3682 1858 2 22 868 2 14702 118 2 24379 18 2 6415 2 44 803 44 2 30 2 11398 2 44 1858 44 2 27 2 1128 18 2 139 2 1450 17 4 3 27 2 5496 18 2 223 2 121 2 351 18 2 640 2 84 28 21221 2 3688 318 18 2 41 2 144 17 4 3 19 2 542 2 336 34 2 1142 16 3346 2 336 4 3 1670 4827 2 691 2 513 4 3 12739 2 56 2 9605 252 5556 2 23610 44 25 2 1739 2 44 6667 1232 72 2 4322 9297 44 2 30 2 154 2 5367 2 931 2 44 12156 2 131 2 95 16 19832 34 2 1079 603 2 131 2 13283 329 2 371 18 44 2 67 2 39 2 3620 2 48 2 28 2 3603 2 20063 2 30 2 28 2 1683 2 1636 2 26 2 19 2 3598 2 1518 17 4 3 319 2 39 2 28 2 26234 2 789 2 44 13312 4683 25291 44 2 27 2 19 2 4501 2 1999 16 2 557 17 4 3 38 2 19 2 5797 2 103 2 44 20932 1578 16 95 252 23363 44 2 41 2 26691 2 48 2 44 28 23679 2 30 2 9042 2 26 2 1159 1330 2261 44 2 27 2 19 2 35388 2 1644 18 2 319 2 41 2 28 2 3888 2 26 2 2029 1304 2 38 2 1580 2 582 25 17 4 3 32612 18 2 293 2 19 2 2884 2 4606 18 2 319 2 41 2 28 2 16332 2 1642 2 6554 2 27 2 124 2 28 2 524 2 36441 2 70 2 19 2 2246 2 26 2 20703 2 7475 2 41 2 9197 2 216 2 19 2 6554 2 176 2 6671 2 272 2 3662 4293 17 4 3 27 2 19 2 507 18 2 2917 35 2 39 2 16253 16 40 2 3676 170 18 2 124 2 26573 2 17852 2 2917 35 2 300 5605 98 2 22 956 24 1617 2 37788 28 2 26 2 2917 35 23 2 408 17 4 3 28 2 269 2 1581 2 27 2 19 2 3189 2 26 2 33 12016 1585 787 17 33 4 3 69 2 39 2 2369 2 103 2 19 2 31290 2 14500 2 26 2 6949 28 2 6019 2 72 2 2762 2 2029 1304 2 52 2 32341 2 19 2 11140 2 26 2 2073 2 11656 112 2 30 2 7930 7448 17 4 3 8771 18 2 69 2 41 2 2129 2 789 2 44 332 787 3682 44 2 498 2 481 2 246 2 166 2 19 2 269 18 2 216 2 19 2 651 2 44 2309 26353 28 787 3682 44 2 39 2 5482 2 469 2 541 17 4 3 84 2 1943 2 41 2 28 2 1759 2 26 2 9950 269 28 2 131 2 35 540 13994 17 4 3 60 11422 38 24 1106 2 2559 2 22 199 16 34 2 31702 2 69 2 39 2 28 2 1432 2 4295 2 1779 2 66 2 19 2 910 17 23 4 3 1039 18 2 48 2 70 2 19 2 240 9063 2 26 2 84 2 6514 2 3814 18 2 21767 22882 2 30 2 101 4771 3908 16 18 2 19 2 767 2 139 2 1533 17 4 3 4870 15419 59 2 1695 2712 2 15225 133 16 540 2 38 2 14678 2 22 16 59 371 44 25 2 14592 2 48 2 28 2 3800 2 1636 23 2 24 2 1246 2 27 2 89 1050 2 279 2 19 2 1218 2 437 2 1644 17 4 3 27 2 2510 1649 2 67 2 443 2 19 2 312 2 597 2 56 2 4134 2 253 2 48 2 19 2 597 2 26 2 19 2 312 2 66 2 84 2 3726 2 1880 2 5240 16 8898 2 28 320 2 22 1427 80 1287 16 2 540 1079 921 23 2 151 2 25 16 2666 2 19 2 540 1079 921 2 312 2 26 2 1223 300 2 131 2 27720 2 25 14540 2 22 4679 2 30430 2 26 2 1223 300 2 865 81 4 -1 -1 -1 -1 -1 -1 -1 -1 -1\n",
            "INFO:tensorflow:Encoder-Pos-Ids:0 1 2 3 4 5 6 7 8 9 10 11 12 13 14 15 16 17 18 19 20 21 22 23 24 25 26 27 28 29 30 31 32 33 34 35 36 37 38 39 40 41 42 43 44 45 46 47 48 49 50 51 52 53 54 55 56 57 58 59 60 61 62 63 64 65 66 67 68 69 70 71 0 1 2 3 4 5 6 7 8 9 10 11 12 13 14 15 16 17 18 19 20 21 22 23 24 25 26 27 28 29 30 31 32 33 34 35 36 37 38 39 40 41 42 43 44 45 46 47 48 49 50 51 52 53 54 55 56 57 58 59 60 61 62 63 64 65 66 67 68 0 1 2 3 4 5 6 7 8 9 10 11 12 13 0 1 2 3 4 5 6 7 8 9 10 11 12 13 14 15 16 17 18 19 20 21 22 23 24 25 26 27 28 29 30 31 32 33 34 35 36 37 38 39 40 41 42 43 44 45 46 47 48 49 50 51 52 53 54 55 56 57 58 59 60 61 62 63 64 65 66 67 68 69 70 71 72 73 74 75 76 77 78 79 80 81 82 83 84 85 86 87 88 89 90 91 92 93 94 95 96 97 98 99 100 101 102 103 104 105 106 107 108 109 110 111 112 113 114 115 116 117 118 119 120 121 122 123 124 125 126 0 1 2 3 4 5 6 7 8 9 10 11 12 13 14 15 16 17 18 19 20 21 22 23 24 25 26 27 0 1 2 3 4 5 6 7 8 9 10 11 12 13 0 1 2 3 4 5 6 7 0 1 2 3 4 5 6 7 8 9 10 11 12 13 14 15 16 17 18 19 20 21 22 23 24 25 26 27 28 29 30 31 32 33 34 35 36 37 38 39 40 41 42 43 44 45 46 47 48 49 50 51 52 53 54 55 56 57 58 59 60 61 62 63 64 65 66 67 68 69 70 71 72 73 74 75 76 77 78 79 80 81 82 83 84 0 1 2 3 4 5 6 7 8 9 10 11 12 13 14 15 16 17 18 19 20 21 22 23 24 25 26 27 28 0 1 2 3 4 5 6 7 8 9 10 11 12 13 14 15 16 17 18 19 20 21 22 23 24 25 26 27 28 29 30 31 32 33 34 35 36 37 38 39 40 41 42 43 44 45 46 47 48 49 50 51 52 53 54 55 56 57 58 59 60 61 62 63 64 65 66 67 68 0 1 2 3 4 5 6 7 8 9 10 11 12 13 14 15 16 17 18 19 20 21 22 23 24 25 26 27 28 29 30 31 32 33 34 35 36 37 38 39 40 41 42 43 44 45 46 47 48 49 50 51 52 53 54 55 56 57 58 59 60 61 62 63 64 65 66 0 1 2 3 4 5 6 7 8 9 10 11 12 13 14 15 16 17 18 19 20 21 22 23 24 25 26 27 28 29 30 31 32 33 34 35 36 37 38 39 40 41 42 43 44 45 46 47 48 49 50 0 1 2 3 4 5 6 7 8 9 10 11 12 13 14 15 16 17 18 19 20 21 0 1 2 3 4 5 6 7 8 9 10 11 12 13 14 15 16 17 18 19 20 21 22 23 24 25 26 27 28 29 30 31 32 33 34 35 36 37 38 39 40 41 42 43 44 45 46 47 48 49 0 1 2 3 4 5 6 7 8 9 10 11 12 13 14 15 16 17 18 19 20 21 22 23 24 25 26 27 28 29 30 31 32 33 34 35 36 37 38 39 40 41 42 43 44 45 46 47 48 49 50 51 52 53 0 1 2 3 4 5 6 7 8 9 10 11 12 13 14 15 16 17 18 19 20 21 22 23 0 1 2 3 4 5 6 7 8 9 10 11 12 13 14 15 16 17 18 19 20 21 22 23 24 25 26 27 28 29 30 31 32 33 34 35 0 1 2 3 4 5 6 7 8 9 10 11 12 13 14 15 16 17 18 19 20 21 22 23 24 25 26 27 28 29 30 31 32 33 34 35 36 37 38 39 40 41 0 1 2 3 4 5 6 7 8 9 10 11 12 13 14 15 16 17 18 19 20 21 22 23 24 25 26 27 28 29 30 31 32 33 34 35 36 37 38 39 40 41 42 43 44 45 46 47 48 49 50 51 52 53 54 0 1 2 3 4 5 6 7 8 9 10 11 12 13 14 15 16 17 18 19 20 21 22 23 24 25 26 27 28 29 30 31 32 33 34 35 36 37 38 39 40 41 42 43 44 45 46 47 48 49 50 51 52 53 54 55 56 57 58 59 60 61 62 63 64 65 66 67 68 69 70 71 72 73 74 75 76 77 78 79 80 81 82 83 84 85 86 87 88 89 90 91 92 93 94 95 96 97 98 -1 -1 -1 -1 -1 -1 -1 -1 -1\n",
            "INFO:tensorflow:Encoder-Group-Ids:0 0 0 0 0 0 0 0 0 0 0 0 0 0 0 0 0 0 0 0 0 0 0 0 0 0 0 0 0 0 0 0 0 0 0 0 0 0 0 0 0 0 0 0 0 0 0 0 0 0 0 0 0 0 0 0 0 0 0 0 0 0 0 0 0 0 0 0 0 0 0 0 1 1 1 1 1 1 1 1 1 1 1 1 1 1 1 1 1 1 1 1 1 1 1 1 1 1 1 1 1 1 1 1 1 1 1 1 1 1 1 1 1 1 1 1 1 1 1 1 1 1 1 1 1 1 1 1 1 1 1 1 1 1 1 1 1 1 1 1 1 2 2 2 2 2 2 2 2 2 2 2 2 2 2 3 3 3 3 3 3 3 3 3 3 3 3 3 3 3 3 3 3 3 3 3 3 3 3 3 3 3 3 3 3 3 3 3 3 3 3 3 3 3 3 3 3 3 3 3 3 3 3 3 3 3 3 3 3 3 3 3 3 3 3 3 3 3 3 3 3 3 3 3 3 3 3 3 3 3 3 3 3 3 3 3 3 3 3 3 3 3 3 3 3 3 3 3 3 3 3 3 3 3 3 3 3 3 3 3 3 3 3 3 3 3 3 3 3 3 3 3 3 3 3 3 3 3 3 3 3 3 4 4 4 4 4 4 4 4 4 4 4 4 4 4 4 4 4 4 4 4 4 4 4 4 4 4 4 4 5 5 5 5 5 5 5 5 5 5 5 5 5 5 6 6 6 6 6 6 6 6 7 7 7 7 7 7 7 7 7 7 7 7 7 7 7 7 7 7 7 7 7 7 7 7 7 7 7 7 7 7 7 7 7 7 7 7 7 7 7 7 7 7 7 7 7 7 7 7 7 7 7 7 7 7 7 7 7 7 7 7 7 7 7 7 7 7 7 7 7 7 7 7 7 7 7 7 7 7 7 7 7 7 7 7 7 8 8 8 8 8 8 8 8 8 8 8 8 8 8 8 8 8 8 8 8 8 8 8 8 8 8 8 8 8 9 9 9 9 9 9 9 9 9 9 9 9 9 9 9 9 9 9 9 9 9 9 9 9 9 9 9 9 9 9 9 9 9 9 9 9 9 9 9 9 9 9 9 9 9 9 9 9 9 9 9 9 9 9 9 9 9 9 9 9 9 9 9 9 9 9 9 9 9 10 10 10 10 10 10 10 10 10 10 10 10 10 10 10 10 10 10 10 10 10 10 10 10 10 10 10 10 10 10 10 10 10 10 10 10 10 10 10 10 10 10 10 10 10 10 10 10 10 10 10 10 10 10 10 10 10 10 10 10 10 10 10 10 10 10 10 11 11 11 11 11 11 11 11 11 11 11 11 11 11 11 11 11 11 11 11 11 11 11 11 11 11 11 11 11 11 11 11 11 11 11 11 11 11 11 11 11 11 11 11 11 11 11 11 11 11 11 12 12 12 12 12 12 12 12 12 12 12 12 12 12 12 12 12 12 12 12 12 12 13 13 13 13 13 13 13 13 13 13 13 13 13 13 13 13 13 13 13 13 13 13 13 13 13 13 13 13 13 13 13 13 13 13 13 13 13 13 13 13 13 13 13 13 13 13 13 13 13 13 14 14 14 14 14 14 14 14 14 14 14 14 14 14 14 14 14 14 14 14 14 14 14 14 14 14 14 14 14 14 14 14 14 14 14 14 14 14 14 14 14 14 14 14 14 14 14 14 14 14 14 14 14 14 15 15 15 15 15 15 15 15 15 15 15 15 15 15 15 15 15 15 15 15 15 15 15 15 16 16 16 16 16 16 16 16 16 16 16 16 16 16 16 16 16 16 16 16 16 16 16 16 16 16 16 16 16 16 16 16 16 16 16 16 17 17 17 17 17 17 17 17 17 17 17 17 17 17 17 17 17 17 17 17 17 17 17 17 17 17 17 17 17 17 17 17 17 17 17 17 17 17 17 17 17 17 18 18 18 18 18 18 18 18 18 18 18 18 18 18 18 18 18 18 18 18 18 18 18 18 18 18 18 18 18 18 18 18 18 18 18 18 18 18 18 18 18 18 18 18 18 18 18 18 18 18 18 18 18 18 18 19 19 19 19 19 19 19 19 19 19 19 19 19 19 19 19 19 19 19 19 19 19 19 19 19 19 19 19 19 19 19 19 19 19 19 19 19 19 19 19 19 19 19 19 19 19 19 19 19 19 19 19 19 19 19 19 19 19 19 19 19 19 19 19 19 19 19 19 19 19 19 19 19 19 19 19 19 19 19 19 19 19 19 19 19 19 19 19 19 19 19 19 19 19 19 19 19 19 19 -1 -1 -1 -1 -1 -1 -1 -1 -1\n",
            "INFO:tensorflow:Decoder-Token-Ids:3 4515 3970 832 28786 42 20 12464 3265 31 3072 39585 35240 3265 46 22289 171 171 1276 797 852 20553 9357 22451 21 4 3 8219 14444 5436 2838 109 873 11200 5084 5650 31 960 1132 102 22908 21 4 3 15494 9836 1220 10296 21 4 3 32956 37201 186 20351 147 1483 82 353 20 335 353 11398 1483 9765 353 23588 6415 1483 11398 17919 22728 21 4 3 362 137 29 22 5496 29 343 9783 32 8947 810 1419 26148 21 4 3 4869 344 219 34 33236 219 4 3 3218 4002 4 3 1634 2799 2362 12880 2800 58 210 2475 9200 955 957 1311 64 21397 14798 327 17567 14858 58 14362 2799 1174 2 2344 2514 31 6678 171 45 2344 64 15618 36075 20 7581 45 7136 6800 228 960 172 32 2522 28901 31 567 172 3912 17562 16266 1714 21 4 3 26619 23565 45 58 573 854 64 310 3629 425 21 4 3 58 1468 38296 18555 967 64 42 362 31 683 26348 36 58 1175 1595 1175 1109 64 65 5112 12066 1714 35087 186 20 2943 3299 32779 21455 425 21 4 3 1767 20 307 15788 7817 20703 21215 299 140 228 32201 46 34473 171 36478 4893 903 573 984 1426 20 14076 10978 27089 21591 21 4 3 18480 1171 20 11235 14778 36446 20 2151 18480 1205 257 940 718 21386 29039 21 4 3 63 1146 3469 1522 74 20627 45 3452 404 13597 21 4 3 3851 4691 17642 581 109 18641 581 31 8807 21140 6005 20 3918 4232 31 5699 32468 21455 36 6184 23270 31 43 588 5394 21 4 3 24128 20 5567 15227 6116 58 693 1522 940 64 2325 34274 42 20 8132 58 955 8479 693 1522 64 31 940 334 12175 3747 20942 21 4 3 10115 3493 623 434 2823 21 4 3 3975 12637 475 2 22 1501 5272 6819 3976 186 12285 30309 21 4 3 929 20 11845 1712 836 32 3040 1220 31 5977 12204 6369 12336 20957 21 4 3 1175 4444 19354 13341 28440 22 1551 13471 3798 4155 3235 23 22 21053 268 23 24 288 7055 2452 89 1050 627 4954 21 4 3 2510 77 29 20 25099 301 9168 31 10487 339 46 3831 2161 21691 3825 32 18378 22383 299 22 10487 960 1857 23 45 20469 4612 2846 20 12306 344 21 4 -1 -1 -1 -1 -1 -1 -1 -1 -1 -1 -1 -1 -1 -1 -1 -1 -1 -1 -1 -1 -1 -1 -1 -1 -1 -1 -1 -1 -1 -1 -1 -1 -1 -1 -1 -1 -1 -1 -1 -1 -1 -1 -1 -1 -1 -1 -1 -1 -1 -1 -1 -1 -1 -1 -1 -1 -1 -1 -1 -1 -1 -1 -1 -1 -1 -1 -1 -1 -1 -1 -1 -1 -1 -1 -1 -1 -1 -1 -1 -1 -1 -1 -1 -1 -1 -1 -1 -1 -1 -1 -1 -1 -1 -1 -1 -1 -1 -1 -1 -1 -1 -1 -1 -1 -1 -1 -1 -1 -1 -1 -1 -1 -1 -1 -1 -1 -1 -1 -1 -1 -1 -1 -1 -1 -1 -1 -1 -1 -1 -1 -1 -1 -1 -1 -1 -1 -1 -1 -1 -1 -1 -1 -1 -1 -1 -1 -1 -1 -1 -1 -1 -1 -1 -1 -1 -1 -1 -1 -1 -1 -1 -1 -1 -1 -1 -1 -1 -1 -1 -1 -1 -1 -1 -1 -1 -1 -1 -1 -1 -1 -1 -1 -1 -1 -1 -1 -1 -1 -1 -1 -1 -1 -1 -1 -1 -1 -1 -1 -1 -1 -1 -1 -1 -1 -1 -1 -1 -1 -1 -1 -1 -1 -1 -1 -1 -1 -1 -1 -1 -1 -1 -1 -1 -1 -1 -1 -1 -1 -1 -1 -1 -1 -1 -1 -1 -1 -1 -1 -1 -1 -1 -1 -1 -1 -1 -1 -1 -1 -1 -1 -1 -1 -1 -1 -1 -1 -1 -1 -1 -1 -1 -1 -1 -1 -1 -1 -1 -1 -1 -1 -1 -1 -1 -1 -1 -1 -1 -1 -1 -1 -1 -1 -1 -1 -1 -1 -1 -1 -1 -1 -1 -1 -1 -1 -1 -1 -1 -1 -1 -1 -1 -1 -1 -1 -1 -1 -1 -1 -1 -1 -1 -1 -1 -1 -1 -1 -1 -1 -1 -1 -1 -1 -1 -1 -1 -1 -1 -1 -1 -1 -1 -1 -1 -1 -1 -1 -1 -1 -1 -1 -1 -1 -1 -1 -1 -1 -1 -1 -1 -1 -1 -1 -1 -1 -1 -1 -1 -1 -1 -1 -1 -1 -1 -1 -1 -1 -1 -1 -1 -1 -1 -1 -1 -1 -1 -1 -1 -1 -1 -1 -1 -1 -1 -1 -1 -1 -1 -1 -1 -1 -1 -1 -1 -1 -1 -1 -1 -1 -1 -1 -1 -1 -1 -1 -1 -1 -1 -1 -1 -1 -1 -1 -1 -1 -1 -1 -1 -1 -1 -1 -1 -1 -1 -1 -1 -1 -1 -1 -1 -1 -1 -1 -1 -1 -1 -1 -1 -1 -1 -1 -1 -1 -1 -1 -1 -1 -1 -1 -1 -1 -1 -1 -1 -1 -1 -1 -1 -1 -1 -1 -1 -1 -1 -1 -1 -1 -1 -1 -1 -1 -1 -1 -1 -1 -1 -1 -1 -1 -1 -1 -1 -1 -1 -1 -1 -1 -1 -1 -1 -1 -1 -1 -1 -1 -1 -1 -1 -1 -1 -1 -1 -1 -1 -1 -1 -1 -1 -1 -1 -1 -1 -1 -1 -1 -1 -1 -1 -1 -1 -1 -1 -1 -1 -1 -1 -1 -1 -1 -1 -1 -1 -1 -1 -1 -1 -1 -1 -1 -1 -1 -1 -1 -1 -1 -1 -1 -1 -1 -1 -1 -1 -1 -1 -1 -1 -1 -1 -1 -1 -1 -1 -1 -1 -1 -1 -1 -1 -1 -1 -1 -1 -1 -1 -1 -1 -1 -1 -1 -1 -1 -1 -1 -1 -1 -1 -1 -1 -1 -1 -1 -1 -1 -1 -1 -1 -1 -1 -1 -1 -1 -1 -1 -1 -1\n",
            "INFO:tensorflow:Decoder-Pos-Ids:0 1 2 3 4 5 6 7 8 9 10 11 12 13 14 15 16 17 18 19 20 21 22 23 24 25 0 1 2 3 4 5 6 7 8 9 10 11 12 13 14 15 16 0 1 2 3 4 5 6 0 1 2 3 4 5 6 7 8 9 10 11 12 13 14 15 16 17 18 19 20 21 22 23 0 1 2 3 4 5 6 7 8 9 10 11 12 13 14 15 0 1 2 3 4 5 6 7 0 1 2 3 0 1 2 3 4 5 6 7 8 9 10 11 12 13 14 15 16 17 18 19 20 21 22 23 24 25 26 27 28 29 30 31 32 33 34 35 36 37 38 39 40 41 42 43 44 45 46 47 48 49 50 51 52 53 0 1 2 3 4 5 6 7 8 9 10 11 12 0 1 2 3 4 5 6 7 8 9 10 11 12 13 14 15 16 17 18 19 20 21 22 23 24 25 26 27 28 29 30 31 32 0 1 2 3 4 5 6 7 8 9 10 11 12 13 14 15 16 17 18 19 20 21 22 23 24 25 26 27 0 1 2 3 4 5 6 7 8 9 10 11 12 13 14 15 16 17 0 1 2 3 4 5 6 7 8 9 10 11 12 0 1 2 3 4 5 6 7 8 9 10 11 12 13 14 15 16 17 18 19 20 21 22 23 24 25 26 27 0 1 2 3 4 5 6 7 8 9 10 11 12 13 14 15 16 17 18 19 20 21 22 23 24 25 26 27 28 29 0 1 2 3 4 5 6 7 0 1 2 3 4 5 6 7 8 9 10 11 12 13 14 0 1 2 3 4 5 6 7 8 9 10 11 12 13 14 15 16 0 1 2 3 4 5 6 7 8 9 10 11 12 13 14 15 16 17 18 19 20 21 22 23 24 25 26 0 1 2 3 4 5 6 7 8 9 10 11 12 13 14 15 16 17 18 19 20 21 22 23 24 25 26 27 28 29 30 31 32 33 -1 -1 -1 -1 -1 -1 -1 -1 -1 -1 -1 -1 -1 -1 -1 -1 -1 -1 -1 -1 -1 -1 -1 -1 -1 -1 -1 -1 -1 -1 -1 -1 -1 -1 -1 -1 -1 -1 -1 -1 -1 -1 -1 -1 -1 -1 -1 -1 -1 -1 -1 -1 -1 -1 -1 -1 -1 -1 -1 -1 -1 -1 -1 -1 -1 -1 -1 -1 -1 -1 -1 -1 -1 -1 -1 -1 -1 -1 -1 -1 -1 -1 -1 -1 -1 -1 -1 -1 -1 -1 -1 -1 -1 -1 -1 -1 -1 -1 -1 -1 -1 -1 -1 -1 -1 -1 -1 -1 -1 -1 -1 -1 -1 -1 -1 -1 -1 -1 -1 -1 -1 -1 -1 -1 -1 -1 -1 -1 -1 -1 -1 -1 -1 -1 -1 -1 -1 -1 -1 -1 -1 -1 -1 -1 -1 -1 -1 -1 -1 -1 -1 -1 -1 -1 -1 -1 -1 -1 -1 -1 -1 -1 -1 -1 -1 -1 -1 -1 -1 -1 -1 -1 -1 -1 -1 -1 -1 -1 -1 -1 -1 -1 -1 -1 -1 -1 -1 -1 -1 -1 -1 -1 -1 -1 -1 -1 -1 -1 -1 -1 -1 -1 -1 -1 -1 -1 -1 -1 -1 -1 -1 -1 -1 -1 -1 -1 -1 -1 -1 -1 -1 -1 -1 -1 -1 -1 -1 -1 -1 -1 -1 -1 -1 -1 -1 -1 -1 -1 -1 -1 -1 -1 -1 -1 -1 -1 -1 -1 -1 -1 -1 -1 -1 -1 -1 -1 -1 -1 -1 -1 -1 -1 -1 -1 -1 -1 -1 -1 -1 -1 -1 -1 -1 -1 -1 -1 -1 -1 -1 -1 -1 -1 -1 -1 -1 -1 -1 -1 -1 -1 -1 -1 -1 -1 -1 -1 -1 -1 -1 -1 -1 -1 -1 -1 -1 -1 -1 -1 -1 -1 -1 -1 -1 -1 -1 -1 -1 -1 -1 -1 -1 -1 -1 -1 -1 -1 -1 -1 -1 -1 -1 -1 -1 -1 -1 -1 -1 -1 -1 -1 -1 -1 -1 -1 -1 -1 -1 -1 -1 -1 -1 -1 -1 -1 -1 -1 -1 -1 -1 -1 -1 -1 -1 -1 -1 -1 -1 -1 -1 -1 -1 -1 -1 -1 -1 -1 -1 -1 -1 -1 -1 -1 -1 -1 -1 -1 -1 -1 -1 -1 -1 -1 -1 -1 -1 -1 -1 -1 -1 -1 -1 -1 -1 -1 -1 -1 -1 -1 -1 -1 -1 -1 -1 -1 -1 -1 -1 -1 -1 -1 -1 -1 -1 -1 -1 -1 -1 -1 -1 -1 -1 -1 -1 -1 -1 -1 -1 -1 -1 -1 -1 -1 -1 -1 -1 -1 -1 -1 -1 -1 -1 -1 -1 -1 -1 -1 -1 -1 -1 -1 -1 -1 -1 -1 -1 -1 -1 -1 -1 -1 -1 -1 -1 -1 -1 -1 -1 -1 -1 -1 -1 -1 -1 -1 -1 -1 -1 -1 -1 -1 -1 -1 -1 -1 -1 -1 -1 -1 -1 -1 -1 -1 -1 -1 -1 -1 -1 -1 -1 -1 -1 -1 -1 -1 -1 -1 -1 -1 -1 -1 -1 -1 -1 -1 -1 -1 -1 -1 -1 -1 -1 -1 -1 -1 -1 -1 -1 -1 -1 -1 -1 -1 -1 -1 -1 -1 -1 -1 -1 -1 -1 -1 -1 -1 -1 -1 -1 -1 -1 -1 -1 -1 -1 -1 -1 -1 -1 -1 -1 -1 -1 -1 -1 -1 -1 -1 -1 -1 -1 -1 -1 -1 -1 -1 -1 -1 -1 -1 -1 -1 -1 -1 -1 -1 -1 -1 -1 -1 -1 -1 -1 -1 -1 -1\n",
            "INFO:tensorflow:Decoder-Group-Ids:0 0 0 0 0 0 0 0 0 0 0 0 0 0 0 0 0 0 0 0 0 0 0 0 0 0 1 1 1 1 1 1 1 1 1 1 1 1 1 1 1 1 1 2 2 2 2 2 2 2 3 3 3 3 3 3 3 3 3 3 3 3 3 3 3 3 3 3 3 3 3 3 3 3 4 4 4 4 4 4 4 4 4 4 4 4 4 4 4 4 5 5 5 5 5 5 5 5 6 6 6 6 7 7 7 7 7 7 7 7 7 7 7 7 7 7 7 7 7 7 7 7 7 7 7 7 7 7 7 7 7 7 7 7 7 7 7 7 7 7 7 7 7 7 7 7 7 7 7 7 7 7 7 7 7 7 8 8 8 8 8 8 8 8 8 8 8 8 8 9 9 9 9 9 9 9 9 9 9 9 9 9 9 9 9 9 9 9 9 9 9 9 9 9 9 9 9 9 9 9 9 9 10 10 10 10 10 10 10 10 10 10 10 10 10 10 10 10 10 10 10 10 10 10 10 10 10 10 10 10 11 11 11 11 11 11 11 11 11 11 11 11 11 11 11 11 11 11 12 12 12 12 12 12 12 12 12 12 12 12 12 13 13 13 13 13 13 13 13 13 13 13 13 13 13 13 13 13 13 13 13 13 13 13 13 13 13 13 13 14 14 14 14 14 14 14 14 14 14 14 14 14 14 14 14 14 14 14 14 14 14 14 14 14 14 14 14 14 14 15 15 15 15 15 15 15 15 16 16 16 16 16 16 16 16 16 16 16 16 16 16 16 17 17 17 17 17 17 17 17 17 17 17 17 17 17 17 17 17 18 18 18 18 18 18 18 18 18 18 18 18 18 18 18 18 18 18 18 18 18 18 18 18 18 18 18 19 19 19 19 19 19 19 19 19 19 19 19 19 19 19 19 19 19 19 19 19 19 19 19 19 19 19 19 19 19 19 19 19 19 -1 -1 -1 -1 -1 -1 -1 -1 -1 -1 -1 -1 -1 -1 -1 -1 -1 -1 -1 -1 -1 -1 -1 -1 -1 -1 -1 -1 -1 -1 -1 -1 -1 -1 -1 -1 -1 -1 -1 -1 -1 -1 -1 -1 -1 -1 -1 -1 -1 -1 -1 -1 -1 -1 -1 -1 -1 -1 -1 -1 -1 -1 -1 -1 -1 -1 -1 -1 -1 -1 -1 -1 -1 -1 -1 -1 -1 -1 -1 -1 -1 -1 -1 -1 -1 -1 -1 -1 -1 -1 -1 -1 -1 -1 -1 -1 -1 -1 -1 -1 -1 -1 -1 -1 -1 -1 -1 -1 -1 -1 -1 -1 -1 -1 -1 -1 -1 -1 -1 -1 -1 -1 -1 -1 -1 -1 -1 -1 -1 -1 -1 -1 -1 -1 -1 -1 -1 -1 -1 -1 -1 -1 -1 -1 -1 -1 -1 -1 -1 -1 -1 -1 -1 -1 -1 -1 -1 -1 -1 -1 -1 -1 -1 -1 -1 -1 -1 -1 -1 -1 -1 -1 -1 -1 -1 -1 -1 -1 -1 -1 -1 -1 -1 -1 -1 -1 -1 -1 -1 -1 -1 -1 -1 -1 -1 -1 -1 -1 -1 -1 -1 -1 -1 -1 -1 -1 -1 -1 -1 -1 -1 -1 -1 -1 -1 -1 -1 -1 -1 -1 -1 -1 -1 -1 -1 -1 -1 -1 -1 -1 -1 -1 -1 -1 -1 -1 -1 -1 -1 -1 -1 -1 -1 -1 -1 -1 -1 -1 -1 -1 -1 -1 -1 -1 -1 -1 -1 -1 -1 -1 -1 -1 -1 -1 -1 -1 -1 -1 -1 -1 -1 -1 -1 -1 -1 -1 -1 -1 -1 -1 -1 -1 -1 -1 -1 -1 -1 -1 -1 -1 -1 -1 -1 -1 -1 -1 -1 -1 -1 -1 -1 -1 -1 -1 -1 -1 -1 -1 -1 -1 -1 -1 -1 -1 -1 -1 -1 -1 -1 -1 -1 -1 -1 -1 -1 -1 -1 -1 -1 -1 -1 -1 -1 -1 -1 -1 -1 -1 -1 -1 -1 -1 -1 -1 -1 -1 -1 -1 -1 -1 -1 -1 -1 -1 -1 -1 -1 -1 -1 -1 -1 -1 -1 -1 -1 -1 -1 -1 -1 -1 -1 -1 -1 -1 -1 -1 -1 -1 -1 -1 -1 -1 -1 -1 -1 -1 -1 -1 -1 -1 -1 -1 -1 -1 -1 -1 -1 -1 -1 -1 -1 -1 -1 -1 -1 -1 -1 -1 -1 -1 -1 -1 -1 -1 -1 -1 -1 -1 -1 -1 -1 -1 -1 -1 -1 -1 -1 -1 -1 -1 -1 -1 -1 -1 -1 -1 -1 -1 -1 -1 -1 -1 -1 -1 -1 -1 -1 -1 -1 -1 -1 -1 -1 -1 -1 -1 -1 -1 -1 -1 -1 -1 -1 -1 -1 -1 -1 -1 -1 -1 -1 -1 -1 -1 -1 -1 -1 -1 -1 -1 -1 -1 -1 -1 -1 -1 -1 -1 -1 -1 -1 -1 -1 -1 -1 -1 -1 -1 -1 -1 -1 -1 -1 -1 -1 -1 -1 -1 -1 -1 -1 -1 -1 -1 -1 -1 -1 -1 -1 -1 -1 -1 -1 -1 -1 -1 -1 -1 -1 -1 -1 -1 -1 -1 -1 -1 -1 -1 -1 -1 -1 -1 -1 -1 -1 -1 -1 -1 -1 -1 -1 -1 -1 -1 -1 -1 -1 -1 -1 -1 -1 -1 -1 -1 -1 -1 -1 -1 -1 -1 -1 -1 -1 -1 -1 -1 -1 -1 -1 -1 -1 -1 -1 -1 -1 -1 -1 -1 -1 -1 -1 -1 -1 -1 -1 -1 -1 -1 -1 -1 -1 -1 -1 -1\n",
            "INFO:tensorflow:*** Example ***\n",
            "INFO:tensorflow:guids:['train-0-269557', 'train-0-233455', 'train-0-241459', 'train-0-135705', 'train-0-326846', 'train-0-266464', 'train-0-28818', 'train-0-81218', 'train-0-332019', 'train-0-336311', 'train-0-100985', 'train-0-19980', 'train-0-361390', 'train-0-41125']\n",
            "INFO:tensorflow:src_texts:[\"When the Retired Emperor Heizei attempted to escape from Heijo-kyo (the ancient capital of Japan in current Nara) to the Ise Province at the time of the Kusuko Incident, he and FUJIWARA no Kadonomaro held back the Retired Emperor's palanquin and remonstrated at the risk of his life.\", 'She married MINAMOTO no Sadami, the seventh prince of Emperor Koko, around 884.', 'It contains the Buddhist paradise songs, which shows the spread of the Jodo sect.', 'Go-Fukakusa Tenno (Emperor Go-Fukakusa) Sinkan Shosoku (signed the 6th day of the 3rd month 1300)', 'He was a Shugo-daimyo (Provincial military lord) and Sengoku-daimyo (Warlord) in Minami-Omi no kuni (South Omi Province).', 'In general, when a Kosho reached the age of 18 or 19 years old, they would collect their saved money and choose among such possibilities as buying Gokeninkabu (samurai status) or Ashigarukabu (common foot soldier status); becoming part of a merchant family (receiving economic support from them), be expelled from their temple and freed from their status as Tera-kosho; or if they became a householder with a wife and children, the marriage was neither legal nor officially recognized, therefore the children did not have samurai status and became common townspeople or farmers.', \"The scene where comicalness is mixed with suspense, such as Dogen who had been tracked down, mimicking the voices of torite or grabbing torite's vital points in the dark is popular.\", 'Still later, 12,000 soldiers including Nobushige SANADA, Katsunaga MORI and others arrived, and Sanada troop prevented Shigenaga KATAKURA troop, the spearhead of Masamune DATE troop from advancing.', 'The venues were Kyoto Cinema and Hardy Hall at the Kambaikan of Doshisha University.', 'But some kinds of shochu of group Ko have achieved characteristic tastes in a way by variations of blending, maturing, number of distillation, distillation machine, types of water added, ingredients etc.', 'National Route 162 is one of the main roads, known as former Shuzan-kaido, and Kukiga-saka Slope has been also famous as a chokepoint on the road.', 'His former names was Chozaemon (Jinshiro) Oae and Choan KUSUNOKI.', \"Nishijin' is not a street name.\", 'There are three major tuning methods of Hon-choshi (the basic tuning method), Ni-agari (the second string is tuned slightly differently from that for the Hon-shoshi) and San-sagari (the third string is tuned slightly differently from that for the Hon-shoshi).']\n",
            "INFO:tensorflow:tar_texts:['薬子の変の際に平城京から伊勢国に脱出しようとした平城上皇の輿を藤原葛野麻呂とともに押し留めて身命を賭して諫言をした。', '元慶8年（884年）頃、光孝天皇の第七皇子源定省と結婚。', 'そのなかには、極楽を歌った極楽歌もあって、浄土教の広まりを示している。', '後深草天皇宸翰消息（正安二年三月六日花押）', '南近江国の守護大名・戦国大名。', '一般的には大抵十八・十九と成人する頃には、纏まった金をもらって御家人株・諸藩の足軽株を買う者、あるいは町家に囲われるなどして（援助を受けて）寺を出された（寺小姓から解放された）者、及び妻子を持って所帯を持っても、いわば公認・法律婚によるものでなく、その子供は、武家と認められずに町民・百姓となる者などがあった。', '追い詰められた道玄が、暗闇の中で捕り手の声を真似たり、相手の急所をつかんだりと、はらはらする場面のなかにも可笑しいさを混ぜていることから人気が高い。', 'さらに遅れて真田信繁、毛利勝永ら12,000の兵が到着し、真田隊が伊達政宗隊の先鋒片倉重長隊の進軍を押し止めた。', '会場は京都シネマ、同志社大学寒梅館ハーディーホール。', 'また、甲類の範囲にてブレンド、熟成、蒸留回数、蒸留機、加水種類、原料、等で変化をつけることによって、ある程度の特徴的な風味を持つものも存在する。', '国道162号はかつての周山街道としてその名を知られる街道筋であるが、九鬼ヶ坂もその街道の難所として広く知られてきた。', '旧名：大饗長左衛門（甚四郎）、楠長譜（くすのき・ちょうあん）。', '「西陣」は通りの名ではない。', '主なものとして、本調子、二上がり、三下がりがある。']\n",
            "INFO:tensorflow:Target:2771 188 23433 9568 434 435 2102 102 4026 301 45 19404 23949 434 435 33374 31 37611 46 3493 9442 348 20573 1490 10662 32127 323 2176 2227 46 38675 260 39480 3210 7698 21 4 0 328 2799 86 29 3248 2249 29 23 5014 20 505 2042 11562 23751 16930 2630 1316 2187 8123 21 4 0 307 4447 186 20 32963 46 20858 32963 1065 23988 20 35922 1712 31 1129 5061 28479 21 4 0 465 2912 1883 3586 1 35091 35103 22 446 785 530 29 290 37 1579 51 693 9072 23 4 0 288 35770 31 9168 11091 32 35950 21 4 0 28844 140 34129 15031 32 24953 65 20346 117 28876 20 38738 11433 457 46 129 642 930 33706 4648 32 3081 12444 2182 4015 4648 46 10986 857 454 20 3576 138 14915 13371 12872 247 260 22 15213 5857 23 475 46 16895 22 475 335 4527 102 9903 236 23 454 20 886 2625 188 18720 714 3072 18720 129 20 10732 1615 10028 32 5669 13796 15297 27783 20 307 4216 36 20 24992 65 19862 20167 138 1651 32 2513 4527 344 454 247 2837 21 4 0 14981 16356 1714 355 5181 42 20 9520 13369 4243 8222 369 665 12766 46 703 21788 369 20 20356 4915 714 46 9396 2270 369 65 20 7725 7725 117 18506 31 4447 756 4155 10293 4248 881 46 27876 417 2318 3796 13146 21 4 0 1767 13257 323 21238 814 8573 20 13422 618 1492 642 43 7396 31 1753 42 26894 97 20 21238 1469 42 9712 1176 1220 1469 17106 38498 3090 2294 852 299 1469 31 1737 17917 10662 14862 171 21 4 0 5711 36 1467 12954 20 29437 7755 3995 835 3000 3545 2487 21 4 0 254 20 3194 2038 25308 800 21872 282 20 11514 920 20 38247 16591 20 38247 951 20 1686 407 7921 20 17803 20 14392 7335 23813 25357 20 34194 31 30342 34029 1674 1375 16858 21 4 0 694 10783 9656 13053 2425 184 2518 119 19575 46 12980 2518 3885 3394 20 3203 4138 4480 1576 129 307 2518 31 4864 714 119 6611 20437 7219 21 4 0 28639 34 140 39574 299 8472 22 21398 8046 343 10217 299 7971 22 27337 31 471 32 3621 9204 414 4 0 58 276 4510 64 36 1706 4992 6231 21 4 0 4940 26754 20 268 2210 188 20 530 16612 20 290 377 16014 425 21 4 0 -1 -1 -1 -1 -1 -1 -1 -1 -1 -1 -1 -1 -1 -1 -1 -1 -1 -1 -1 -1 -1 -1 -1 -1 -1 -1 -1 -1 -1 -1 -1 -1 -1 -1 -1 -1 -1 -1 -1 -1 -1 -1 -1 -1 -1 -1 -1 -1 -1 -1 -1 -1 -1 -1 -1 -1 -1 -1 -1 -1 -1 -1 -1 -1 -1 -1 -1 -1 -1 -1 -1 -1 -1 -1 -1 -1 -1 -1 -1 -1 -1 -1 -1 -1 -1 -1 -1 -1 -1 -1 -1 -1 -1 -1 -1 -1 -1 -1 -1 -1 -1 -1 -1 -1 -1 -1 -1 -1 -1 -1 -1 -1 -1 -1 -1 -1 -1 -1 -1 -1 -1 -1 -1 -1 -1 -1 -1 -1 -1 -1 -1 -1 -1 -1 -1 -1 -1 -1 -1 -1 -1 -1 -1 -1 -1 -1 -1 -1 -1 -1 -1 -1 -1 -1 -1 -1 -1 -1 -1 -1 -1 -1 -1 -1 -1 -1 -1 -1 -1 -1 -1 -1 -1 -1 -1 -1 -1 -1 -1 -1 -1 -1 -1 -1 -1 -1 -1 -1 -1 -1 -1 -1 -1 -1 -1 -1 -1 -1 -1 -1 -1 -1 -1 -1 -1 -1 -1 -1 -1 -1 -1 -1 -1 -1 -1 -1 -1 -1 -1 -1 -1 -1 -1 -1 -1 -1 -1 -1 -1 -1 -1 -1 -1 -1 -1 -1 -1 -1 -1 -1 -1 -1 -1 -1 -1 -1 -1 -1 -1 -1 -1 -1 -1 -1 -1 -1 -1 -1 -1 -1 -1 -1 -1 -1 -1 -1 -1 -1 -1 -1 -1 -1 -1 -1 -1 -1 -1 -1 -1 -1 -1 -1 -1 -1 -1 -1 -1 -1 -1 -1 -1 -1 -1 -1 -1 -1 -1 -1 -1 -1 -1 -1 -1 -1 -1 -1 -1 -1 -1 -1 -1 -1 -1 -1 -1 -1 -1 -1 -1 -1 -1 -1 -1 -1 -1 -1 -1 -1 -1 -1 -1 -1 -1 -1 -1 -1 -1 -1 -1 -1 -1 -1 -1 -1 -1 -1 -1 -1 -1 -1 -1 -1 -1 -1 -1 -1 -1 -1 -1 -1 -1 -1 -1 -1 -1 -1 -1 -1 -1 -1 -1 -1 -1 -1 -1 -1 -1 -1 -1 -1 -1 -1 -1 -1 -1 -1 -1 -1 -1 -1 -1 -1 -1 -1 -1 -1 -1 -1 -1 -1 -1 -1 -1 -1 -1 -1 -1 -1 -1 -1 -1 -1 -1 -1 -1 -1 -1 -1 -1 -1 -1 -1 -1 -1 -1 -1 -1 -1 -1 -1 -1 -1 -1 -1 -1 -1 -1 -1 -1 -1 -1 -1 -1 -1 -1 -1 -1 -1 -1 -1 -1 -1 -1 -1 -1 -1 -1 -1 -1 -1 -1 -1 -1 -1 -1 -1 -1 -1 -1 -1 -1 -1 -1 -1 -1 -1 -1 -1 -1 -1 -1 -1 -1 -1 -1 -1 -1 -1 -1 -1 -1 -1 -1 -1 -1 -1 -1 -1 -1 -1 -1 -1 -1 -1 -1 -1 -1 -1 -1 -1 -1 -1 -1 -1 -1 -1 -1 -1 -1 -1 -1 -1 -1 -1 -1 -1 -1 -1 -1 -1 -1 -1 -1 -1 -1 -1 -1 -1 -1 -1 -1 -1 -1 -1 -1 -1 -1 -1 -1 -1 -1 -1 -1 -1 -1 -1 -1 -1 -1 -1 -1 -1 -1 -1 -1 -1 -1 -1 -1 -1 -1 -1 -1 -1 -1 -1 -1 -1 -1 -1 -1 -1 -1 -1 -1 -1 -1 -1 -1 -1 -1 -1 -1\n",
            "INFO:tensorflow:Encoder-Token-Ids:3 303 2 19 2 2191 2 5704 2 67 1869 16 79 2 16569 2 35 2 10276 2 66 2 67 79 635 24 19722 2 22 19 2 3241 2 1799 2 26 2 778 2 27 2 1709 2 21169 23 2 35 2 19 2 39 16 2 865 2 49 2 19 2 246 2 26 2 19 2 1079 690 391 2 10063 18 2 67 2 30 2 9950 269 28 2 131 2 332 318 131 16233 2 685 2 560 2 19 2 2191 2 5704 44 25 2 2216 72 6672 2 30 2 8980 38 128 5870 2 49 2 19 2 8121 2 26 2 84 2 467 17 4 3 162 2 1087 2 8384 6728 2 131 2 25 3854 79 18 2 19 2 7143 2 2418 2 26 2 5704 2 391 391 18 2 1080 2 86 10203 4 3 69 2 2798 2 19 2 16637 2 11630 2 1392 18 2 124 2 3053 2 19 2 6637 2 26 2 19 2 635 318 2 24893 17 4 3 300 24 2309 24662 754 2 743 131 2 22 5704 2 300 24 2309 24662 754 23 2 25 27 1670 2 3682 25 11422 2 22 1698 2 19 2 83 91 2 504 2 26 2 19 2 54 1099 2 4863 2 20174 23 4 3 67 2 41 2 28 2 25 14540 24 5336 27894 2 22 4679 2 1558 2 2348 23 2 30 2 25 16 11528 1079 24 5336 27894 2 22 269 2348 23 2 27 2 35034 24 8058 2 131 2 27720 2 22 229 2 8058 2 865 81 4 3 27 2 484 18 2 303 2 28 2 391 3682 2 3489 2 19 2 474 2 26 2 158 2 100 2 175 2 313 2 705 18 2 270 2 761 2 15195 2 223 2 21920 2 3700 2 30 2 16117 2 1625 2 644 2 71 31513 3533 5055 2 48 2 7324 112 2 300 1585 27 332 1675 2 22 27027 2 2664 23 2 100 2 28 1695 1136 387 7573 2 22 1908 2 2699 2 9013 2 2664 4294 2 4599 2 285 2 26 2 28 2 7892 2 312 2 22 10776 2 3277 2 2232 2 66 2 1075 118 2 53 16 2 28690 2 66 2 223 2 2559 2 30 2 1116 40 2 66 2 223 2 2664 2 48 2 941 28 24 391 3682 93 2 100 2 682 2 270 2 443 2 28 2 17033 2 70 2 28 2 1669 2 30 2 978 18 2 19 2 5044 2 41 2 22436 2 4196 2 2998 2 6064 2 7299 18 2 8771 2 19 2 978 2 1250 2 199 2 289 2 27027 2 2664 2 30 2 443 2 1908 2 4776 479 2 100 2 16124 17 4 3 19 2 5238 2 317 2 96 6242 2261 2 39 2 4610 2 70 2 9358 11677 16 18 2 644 2 48 2 318 831 2 151 2 176 2 272 2 1083 16 40 2 938 18 2 250 14721 112 2 19 2 15393 2 26 2 1720 69 16 2 100 2 17265 9128 2 1720 69 16 44 25 2 17941 2 1754 2 27 2 19 2 2824 2 39 2 1881 17 4 3 1359 2 408 18 2 43 7396 2 8215 2 531 2 24731 29865 2 510 3691 18 2 19922 8898 2 6718 2 30 2 2953 2 9401 18 2 30 2 510 3691 2 26395 2 9090 16 40 2 29865 8898 2 11050 19093 2 26395 18 2 19 2 20801 597 2 26 2 8821 3908 16 2 1919 2 26395 2 66 2 33902 17 4 3 19 2 21014 2 139 2 18810 2 3632 2 30 2 16535 2 764 2 49 2 19 2 4763 8270 1670 2 26 2 4052 84 534 2 160 17 4 3 216 2 481 2 4929 25 2 26 2 3682 3487 2 26 2 399 2 391 2 289 2 9286 2 23646 2 14313 25 2 27 2 28 2 826 2 56 2 22670 2 26 2 22181 112 18 2 267 1451 112 18 2 595 2 26 2 240 1359 1052 18 2 240 1359 1052 2 969 18 2 7621 2 26 2 773 2 3216 18 2 27451 25 2 6644 17 4 3 122 2 1429 2 10783 2 39 2 38 16 2 26 2 19 2 691 2 6996 18 2 305 2 48 2 483 2 5224 5545 24 4197 318 18 2 30 2 1079 540 806 24 13573 2 24836 2 120 2 272 2 123 2 2910 2 48 2 28 2 27752 16 1304 2 38 2 19 2 633 17 4 3 84 2 483 2 737 2 41 2 2139 803 16 2054 2 22 6368 25 5556 23 2 98 28 16 2 30 2 2139 72 2 1079 1287 13569 17 4 3 14602 6368 44 2 39 2 199 2 28 2 910 2 359 17 4 3 319 2 126 2 349 2 958 2 4164 112 2 11163 2 26 2 4623 24 2139 1695 2 22 19 2 6095 2 4164 112 2 5499 118 2 371 24 1599 2340 2 22 19 2 356 2 7199 2 39 2 4164 16 40 2 9721 2 1818 170 2 66 2 103 2 52 2 19 2 4623 24 3682 1695 23 2 30 2 510 24 12034 630 2 22 19 2 923 2 7199 2 39 2 4164 16 40 2 9721 2 1818 170 2 66 2 103 2 52 2 19 2 4623 24 3682 1695 81 4 -1 -1 -1 -1 -1 -1 -1 -1 -1 -1 -1 -1 -1 -1 -1 -1 -1 -1 -1 -1 -1\n",
            "INFO:tensorflow:Encoder-Pos-Ids:0 1 2 3 4 5 6 7 8 9 10 11 12 13 14 15 16 17 18 19 20 21 22 23 24 25 26 27 28 29 30 31 32 33 34 35 36 37 38 39 40 41 42 43 44 45 46 47 48 49 50 51 52 53 54 55 56 57 58 59 60 61 62 63 64 65 66 67 68 69 70 71 72 73 74 75 76 77 78 79 80 81 82 83 84 85 86 87 88 89 90 91 92 93 94 95 96 97 98 99 100 101 102 103 104 105 106 107 108 109 110 111 112 113 114 115 116 117 118 119 120 121 122 0 1 2 3 4 5 6 7 8 9 10 11 12 13 14 15 16 17 18 19 20 21 22 23 24 25 26 27 28 29 30 31 32 33 0 1 2 3 4 5 6 7 8 9 10 11 12 13 14 15 16 17 18 19 20 21 22 23 24 25 26 27 28 29 30 31 0 1 2 3 4 5 6 7 8 9 10 11 12 13 14 15 16 17 18 19 20 21 22 23 24 25 26 27 28 29 30 31 32 33 34 35 36 37 38 39 40 41 42 43 44 45 46 47 48 49 0 1 2 3 4 5 6 7 8 9 10 11 12 13 14 15 16 17 18 19 20 21 22 23 24 25 26 27 28 29 30 31 32 33 34 35 36 37 38 39 40 41 42 43 44 45 46 47 48 49 50 51 52 53 0 1 2 3 4 5 6 7 8 9 10 11 12 13 14 15 16 17 18 19 20 21 22 23 24 25 26 27 28 29 30 31 32 33 34 35 36 37 38 39 40 41 42 43 44 45 46 47 48 49 50 51 52 53 54 55 56 57 58 59 60 61 62 63 64 65 66 67 68 69 70 71 72 73 74 75 76 77 78 79 80 81 82 83 84 85 86 87 88 89 90 91 92 93 94 95 96 97 98 99 100 101 102 103 104 105 106 107 108 109 110 111 112 113 114 115 116 117 118 119 120 121 122 123 124 125 126 127 128 129 130 131 132 133 134 135 136 137 138 139 140 141 142 143 144 145 146 147 148 149 150 151 152 153 154 155 156 157 158 159 160 161 162 163 164 165 166 167 168 169 170 171 172 173 174 175 176 177 178 179 180 181 182 183 184 185 186 187 188 189 190 191 192 193 194 195 196 197 198 199 200 201 202 203 204 205 206 207 208 209 210 211 212 213 214 215 216 0 1 2 3 4 5 6 7 8 9 10 11 12 13 14 15 16 17 18 19 20 21 22 23 24 25 26 27 28 29 30 31 32 33 34 35 36 37 38 39 40 41 42 43 44 45 46 47 48 49 50 51 52 53 54 55 56 57 58 59 60 61 62 63 64 65 66 67 68 69 70 71 72 73 74 75 76 77 78 79 80 81 0 1 2 3 4 5 6 7 8 9 10 11 12 13 14 15 16 17 18 19 20 21 22 23 24 25 26 27 28 29 30 31 32 33 34 35 36 37 38 39 40 41 42 43 44 45 46 47 48 49 50 51 52 53 54 55 56 57 58 59 60 61 62 63 64 65 66 67 68 69 70 71 0 1 2 3 4 5 6 7 8 9 10 11 12 13 14 15 16 17 18 19 20 21 22 23 24 25 26 27 28 29 30 31 32 33 0 1 2 3 4 5 6 7 8 9 10 11 12 13 14 15 16 17 18 19 20 21 22 23 24 25 26 27 28 29 30 31 32 33 34 35 36 37 38 39 40 41 42 43 44 45 46 47 48 49 50 51 52 53 54 55 56 57 58 59 60 61 62 63 64 65 66 67 68 69 70 71 72 73 74 75 76 77 78 79 0 1 2 3 4 5 6 7 8 9 10 11 12 13 14 15 16 17 18 19 20 21 22 23 24 25 26 27 28 29 30 31 32 33 34 35 36 37 38 39 40 41 42 43 44 45 46 47 48 49 50 51 52 53 54 55 56 57 58 59 60 61 62 63 64 65 66 0 1 2 3 4 5 6 7 8 9 10 11 12 13 14 15 16 17 18 19 20 21 22 23 24 25 26 27 28 29 30 31 32 33 0 1 2 3 4 5 6 7 8 9 10 11 12 13 14 15 0 1 2 3 4 5 6 7 8 9 10 11 12 13 14 15 16 17 18 19 20 21 22 23 24 25 26 27 28 29 30 31 32 33 34 35 36 37 38 39 40 41 42 43 44 45 46 47 48 49 50 51 52 53 54 55 56 57 58 59 60 61 62 63 64 65 66 67 68 69 70 71 72 73 74 75 76 77 78 79 80 81 82 83 84 85 86 87 88 89 90 91 92 93 94 95 96 97 98 99 100 101 102 103 104 105 106 107 -1 -1 -1 -1 -1 -1 -1 -1 -1 -1 -1 -1 -1 -1 -1 -1 -1 -1 -1 -1 -1\n",
            "INFO:tensorflow:Encoder-Group-Ids:0 0 0 0 0 0 0 0 0 0 0 0 0 0 0 0 0 0 0 0 0 0 0 0 0 0 0 0 0 0 0 0 0 0 0 0 0 0 0 0 0 0 0 0 0 0 0 0 0 0 0 0 0 0 0 0 0 0 0 0 0 0 0 0 0 0 0 0 0 0 0 0 0 0 0 0 0 0 0 0 0 0 0 0 0 0 0 0 0 0 0 0 0 0 0 0 0 0 0 0 0 0 0 0 0 0 0 0 0 0 0 0 0 0 0 0 0 0 0 0 0 0 0 1 1 1 1 1 1 1 1 1 1 1 1 1 1 1 1 1 1 1 1 1 1 1 1 1 1 1 1 1 1 1 1 1 1 2 2 2 2 2 2 2 2 2 2 2 2 2 2 2 2 2 2 2 2 2 2 2 2 2 2 2 2 2 2 2 2 3 3 3 3 3 3 3 3 3 3 3 3 3 3 3 3 3 3 3 3 3 3 3 3 3 3 3 3 3 3 3 3 3 3 3 3 3 3 3 3 3 3 3 3 3 3 3 3 3 3 4 4 4 4 4 4 4 4 4 4 4 4 4 4 4 4 4 4 4 4 4 4 4 4 4 4 4 4 4 4 4 4 4 4 4 4 4 4 4 4 4 4 4 4 4 4 4 4 4 4 4 4 4 4 5 5 5 5 5 5 5 5 5 5 5 5 5 5 5 5 5 5 5 5 5 5 5 5 5 5 5 5 5 5 5 5 5 5 5 5 5 5 5 5 5 5 5 5 5 5 5 5 5 5 5 5 5 5 5 5 5 5 5 5 5 5 5 5 5 5 5 5 5 5 5 5 5 5 5 5 5 5 5 5 5 5 5 5 5 5 5 5 5 5 5 5 5 5 5 5 5 5 5 5 5 5 5 5 5 5 5 5 5 5 5 5 5 5 5 5 5 5 5 5 5 5 5 5 5 5 5 5 5 5 5 5 5 5 5 5 5 5 5 5 5 5 5 5 5 5 5 5 5 5 5 5 5 5 5 5 5 5 5 5 5 5 5 5 5 5 5 5 5 5 5 5 5 5 5 5 5 5 5 5 5 5 5 5 5 5 5 5 5 5 5 5 5 5 5 5 5 5 5 5 5 5 5 5 5 5 5 5 5 5 5 5 5 5 5 5 5 6 6 6 6 6 6 6 6 6 6 6 6 6 6 6 6 6 6 6 6 6 6 6 6 6 6 6 6 6 6 6 6 6 6 6 6 6 6 6 6 6 6 6 6 6 6 6 6 6 6 6 6 6 6 6 6 6 6 6 6 6 6 6 6 6 6 6 6 6 6 6 6 6 6 6 6 6 6 6 6 6 6 7 7 7 7 7 7 7 7 7 7 7 7 7 7 7 7 7 7 7 7 7 7 7 7 7 7 7 7 7 7 7 7 7 7 7 7 7 7 7 7 7 7 7 7 7 7 7 7 7 7 7 7 7 7 7 7 7 7 7 7 7 7 7 7 7 7 7 7 7 7 7 7 8 8 8 8 8 8 8 8 8 8 8 8 8 8 8 8 8 8 8 8 8 8 8 8 8 8 8 8 8 8 8 8 8 8 9 9 9 9 9 9 9 9 9 9 9 9 9 9 9 9 9 9 9 9 9 9 9 9 9 9 9 9 9 9 9 9 9 9 9 9 9 9 9 9 9 9 9 9 9 9 9 9 9 9 9 9 9 9 9 9 9 9 9 9 9 9 9 9 9 9 9 9 9 9 9 9 9 9 9 9 9 9 9 9 10 10 10 10 10 10 10 10 10 10 10 10 10 10 10 10 10 10 10 10 10 10 10 10 10 10 10 10 10 10 10 10 10 10 10 10 10 10 10 10 10 10 10 10 10 10 10 10 10 10 10 10 10 10 10 10 10 10 10 10 10 10 10 10 10 10 10 11 11 11 11 11 11 11 11 11 11 11 11 11 11 11 11 11 11 11 11 11 11 11 11 11 11 11 11 11 11 11 11 11 11 12 12 12 12 12 12 12 12 12 12 12 12 12 12 12 12 13 13 13 13 13 13 13 13 13 13 13 13 13 13 13 13 13 13 13 13 13 13 13 13 13 13 13 13 13 13 13 13 13 13 13 13 13 13 13 13 13 13 13 13 13 13 13 13 13 13 13 13 13 13 13 13 13 13 13 13 13 13 13 13 13 13 13 13 13 13 13 13 13 13 13 13 13 13 13 13 13 13 13 13 13 13 13 13 13 13 13 13 13 13 13 13 13 13 13 13 13 13 13 13 13 13 13 13 -1 -1 -1 -1 -1 -1 -1 -1 -1 -1 -1 -1 -1 -1 -1 -1 -1 -1 -1 -1 -1\n",
            "INFO:tensorflow:Decoder-Token-Ids:3 2771 188 23433 9568 434 435 2102 102 4026 301 45 19404 23949 434 435 33374 31 37611 46 3493 9442 348 20573 1490 10662 32127 323 2176 2227 46 38675 260 39480 3210 7698 21 4 3 328 2799 86 29 3248 2249 29 23 5014 20 505 2042 11562 23751 16930 2630 1316 2187 8123 21 4 3 307 4447 186 20 32963 46 20858 32963 1065 23988 20 35922 1712 31 1129 5061 28479 21 4 3 465 2912 1883 3586 1 35091 35103 22 446 785 530 29 290 37 1579 51 693 9072 23 4 3 288 35770 31 9168 11091 32 35950 21 4 3 28844 140 34129 15031 32 24953 65 20346 117 28876 20 38738 11433 457 46 129 642 930 33706 4648 32 3081 12444 2182 4015 4648 46 10986 857 454 20 3576 138 14915 13371 12872 247 260 22 15213 5857 23 475 46 16895 22 475 335 4527 102 9903 236 23 454 20 886 2625 188 18720 714 3072 18720 129 20 10732 1615 10028 32 5669 13796 15297 27783 20 307 4216 36 20 24992 65 19862 20167 138 1651 32 2513 4527 344 454 247 2837 21 4 3 14981 16356 1714 355 5181 42 20 9520 13369 4243 8222 369 665 12766 46 703 21788 369 20 20356 4915 714 46 9396 2270 369 65 20 7725 7725 117 18506 31 4447 756 4155 10293 4248 881 46 27876 417 2318 3796 13146 21 4 3 1767 13257 323 21238 814 8573 20 13422 618 1492 642 43 7396 31 1753 42 26894 97 20 21238 1469 42 9712 1176 1220 1469 17106 38498 3090 2294 852 299 1469 31 1737 17917 10662 14862 171 21 4 3 5711 36 1467 12954 20 29437 7755 3995 835 3000 3545 2487 21 4 3 254 20 3194 2038 25308 800 21872 282 20 11514 920 20 38247 16591 20 38247 951 20 1686 407 7921 20 17803 20 14392 7335 23813 25357 20 34194 31 30342 34029 1674 1375 16858 21 4 3 694 10783 9656 13053 2425 184 2518 119 19575 46 12980 2518 3885 3394 20 3203 4138 4480 1576 129 307 2518 31 4864 714 119 6611 20437 7219 21 4 3 28639 34 140 39574 299 8472 22 21398 8046 343 10217 299 7971 22 27337 31 471 32 3621 9204 414 4 3 58 276 4510 64 36 1706 4992 6231 21 4 3 4940 26754 20 268 2210 188 20 530 16612 20 290 377 16014 425 21 4 -1 -1 -1 -1 -1 -1 -1 -1 -1 -1 -1 -1 -1 -1 -1 -1 -1 -1 -1 -1 -1 -1 -1 -1 -1 -1 -1 -1 -1 -1 -1 -1 -1 -1 -1 -1 -1 -1 -1 -1 -1 -1 -1 -1 -1 -1 -1 -1 -1 -1 -1 -1 -1 -1 -1 -1 -1 -1 -1 -1 -1 -1 -1 -1 -1 -1 -1 -1 -1 -1 -1 -1 -1 -1 -1 -1 -1 -1 -1 -1 -1 -1 -1 -1 -1 -1 -1 -1 -1 -1 -1 -1 -1 -1 -1 -1 -1 -1 -1 -1 -1 -1 -1 -1 -1 -1 -1 -1 -1 -1 -1 -1 -1 -1 -1 -1 -1 -1 -1 -1 -1 -1 -1 -1 -1 -1 -1 -1 -1 -1 -1 -1 -1 -1 -1 -1 -1 -1 -1 -1 -1 -1 -1 -1 -1 -1 -1 -1 -1 -1 -1 -1 -1 -1 -1 -1 -1 -1 -1 -1 -1 -1 -1 -1 -1 -1 -1 -1 -1 -1 -1 -1 -1 -1 -1 -1 -1 -1 -1 -1 -1 -1 -1 -1 -1 -1 -1 -1 -1 -1 -1 -1 -1 -1 -1 -1 -1 -1 -1 -1 -1 -1 -1 -1 -1 -1 -1 -1 -1 -1 -1 -1 -1 -1 -1 -1 -1 -1 -1 -1 -1 -1 -1 -1 -1 -1 -1 -1 -1 -1 -1 -1 -1 -1 -1 -1 -1 -1 -1 -1 -1 -1 -1 -1 -1 -1 -1 -1 -1 -1 -1 -1 -1 -1 -1 -1 -1 -1 -1 -1 -1 -1 -1 -1 -1 -1 -1 -1 -1 -1 -1 -1 -1 -1 -1 -1 -1 -1 -1 -1 -1 -1 -1 -1 -1 -1 -1 -1 -1 -1 -1 -1 -1 -1 -1 -1 -1 -1 -1 -1 -1 -1 -1 -1 -1 -1 -1 -1 -1 -1 -1 -1 -1 -1 -1 -1 -1 -1 -1 -1 -1 -1 -1 -1 -1 -1 -1 -1 -1 -1 -1 -1 -1 -1 -1 -1 -1 -1 -1 -1 -1 -1 -1 -1 -1 -1 -1 -1 -1 -1 -1 -1 -1 -1 -1 -1 -1 -1 -1 -1 -1 -1 -1 -1 -1 -1 -1 -1 -1 -1 -1 -1 -1 -1 -1 -1 -1 -1 -1 -1 -1 -1 -1 -1 -1 -1 -1 -1 -1 -1 -1 -1 -1 -1 -1 -1 -1 -1 -1 -1 -1 -1 -1 -1 -1 -1 -1 -1 -1 -1 -1 -1 -1 -1 -1 -1 -1 -1 -1 -1 -1 -1 -1 -1 -1 -1 -1 -1 -1 -1 -1 -1 -1 -1 -1 -1 -1 -1 -1 -1 -1 -1 -1 -1 -1 -1 -1 -1 -1 -1 -1 -1 -1 -1 -1 -1 -1 -1 -1 -1 -1 -1 -1 -1 -1 -1 -1 -1 -1 -1 -1 -1 -1 -1 -1 -1 -1 -1 -1 -1 -1 -1 -1 -1 -1 -1 -1 -1 -1 -1 -1 -1 -1 -1 -1 -1 -1 -1 -1 -1 -1 -1 -1 -1 -1 -1 -1 -1 -1 -1 -1 -1 -1 -1 -1 -1 -1 -1 -1 -1 -1 -1 -1 -1 -1 -1 -1 -1 -1 -1 -1 -1 -1 -1 -1 -1 -1 -1 -1 -1 -1 -1 -1 -1 -1 -1 -1 -1 -1 -1 -1 -1 -1 -1 -1 -1 -1 -1 -1 -1 -1 -1 -1 -1 -1 -1 -1 -1 -1 -1 -1 -1 -1 -1 -1 -1 -1 -1 -1 -1 -1 -1 -1 -1 -1 -1 -1 -1 -1 -1 -1 -1 -1\n",
            "INFO:tensorflow:Decoder-Pos-Ids:0 1 2 3 4 5 6 7 8 9 10 11 12 13 14 15 16 17 18 19 20 21 22 23 24 25 26 27 28 29 30 31 32 33 34 35 36 37 0 1 2 3 4 5 6 7 8 9 10 11 12 13 14 15 16 17 18 19 20 21 0 1 2 3 4 5 6 7 8 9 10 11 12 13 14 15 16 17 18 19 0 1 2 3 4 5 6 7 8 9 10 11 12 13 14 15 16 17 18 19 20 0 1 2 3 4 5 6 7 8 9 0 1 2 3 4 5 6 7 8 9 10 11 12 13 14 15 16 17 18 19 20 21 22 23 24 25 26 27 28 29 30 31 32 33 34 35 36 37 38 39 40 41 42 43 44 45 46 47 48 49 50 51 52 53 54 55 56 57 58 59 60 61 62 63 64 65 66 67 68 69 70 71 72 73 74 75 76 77 78 79 80 81 82 83 84 85 86 87 88 89 90 91 92 0 1 2 3 4 5 6 7 8 9 10 11 12 13 14 15 16 17 18 19 20 21 22 23 24 25 26 27 28 29 30 31 32 33 34 35 36 37 38 39 40 41 42 43 44 45 46 47 0 1 2 3 4 5 6 7 8 9 10 11 12 13 14 15 16 17 18 19 20 21 22 23 24 25 26 27 28 29 30 31 32 33 34 35 36 37 38 39 40 41 0 1 2 3 4 5 6 7 8 9 10 11 12 13 14 0 1 2 3 4 5 6 7 8 9 10 11 12 13 14 15 16 17 18 19 20 21 22 23 24 25 26 27 28 29 30 31 32 33 34 35 36 37 38 0 1 2 3 4 5 6 7 8 9 10 11 12 13 14 15 16 17 18 19 20 21 22 23 24 25 26 27 28 29 30 31 0 1 2 3 4 5 6 7 8 9 10 11 12 13 14 15 16 17 18 19 20 21 22 0 1 2 3 4 5 6 7 8 9 10 0 1 2 3 4 5 6 7 8 9 10 11 12 13 14 15 16 -1 -1 -1 -1 -1 -1 -1 -1 -1 -1 -1 -1 -1 -1 -1 -1 -1 -1 -1 -1 -1 -1 -1 -1 -1 -1 -1 -1 -1 -1 -1 -1 -1 -1 -1 -1 -1 -1 -1 -1 -1 -1 -1 -1 -1 -1 -1 -1 -1 -1 -1 -1 -1 -1 -1 -1 -1 -1 -1 -1 -1 -1 -1 -1 -1 -1 -1 -1 -1 -1 -1 -1 -1 -1 -1 -1 -1 -1 -1 -1 -1 -1 -1 -1 -1 -1 -1 -1 -1 -1 -1 -1 -1 -1 -1 -1 -1 -1 -1 -1 -1 -1 -1 -1 -1 -1 -1 -1 -1 -1 -1 -1 -1 -1 -1 -1 -1 -1 -1 -1 -1 -1 -1 -1 -1 -1 -1 -1 -1 -1 -1 -1 -1 -1 -1 -1 -1 -1 -1 -1 -1 -1 -1 -1 -1 -1 -1 -1 -1 -1 -1 -1 -1 -1 -1 -1 -1 -1 -1 -1 -1 -1 -1 -1 -1 -1 -1 -1 -1 -1 -1 -1 -1 -1 -1 -1 -1 -1 -1 -1 -1 -1 -1 -1 -1 -1 -1 -1 -1 -1 -1 -1 -1 -1 -1 -1 -1 -1 -1 -1 -1 -1 -1 -1 -1 -1 -1 -1 -1 -1 -1 -1 -1 -1 -1 -1 -1 -1 -1 -1 -1 -1 -1 -1 -1 -1 -1 -1 -1 -1 -1 -1 -1 -1 -1 -1 -1 -1 -1 -1 -1 -1 -1 -1 -1 -1 -1 -1 -1 -1 -1 -1 -1 -1 -1 -1 -1 -1 -1 -1 -1 -1 -1 -1 -1 -1 -1 -1 -1 -1 -1 -1 -1 -1 -1 -1 -1 -1 -1 -1 -1 -1 -1 -1 -1 -1 -1 -1 -1 -1 -1 -1 -1 -1 -1 -1 -1 -1 -1 -1 -1 -1 -1 -1 -1 -1 -1 -1 -1 -1 -1 -1 -1 -1 -1 -1 -1 -1 -1 -1 -1 -1 -1 -1 -1 -1 -1 -1 -1 -1 -1 -1 -1 -1 -1 -1 -1 -1 -1 -1 -1 -1 -1 -1 -1 -1 -1 -1 -1 -1 -1 -1 -1 -1 -1 -1 -1 -1 -1 -1 -1 -1 -1 -1 -1 -1 -1 -1 -1 -1 -1 -1 -1 -1 -1 -1 -1 -1 -1 -1 -1 -1 -1 -1 -1 -1 -1 -1 -1 -1 -1 -1 -1 -1 -1 -1 -1 -1 -1 -1 -1 -1 -1 -1 -1 -1 -1 -1 -1 -1 -1 -1 -1 -1 -1 -1 -1 -1 -1 -1 -1 -1 -1 -1 -1 -1 -1 -1 -1 -1 -1 -1 -1 -1 -1 -1 -1 -1 -1 -1 -1 -1 -1 -1 -1 -1 -1 -1 -1 -1 -1 -1 -1 -1 -1 -1 -1 -1 -1 -1 -1 -1 -1 -1 -1 -1 -1 -1 -1 -1 -1 -1 -1 -1 -1 -1 -1 -1 -1 -1 -1 -1 -1 -1 -1 -1 -1 -1 -1 -1 -1 -1 -1 -1 -1 -1 -1 -1 -1 -1 -1 -1 -1 -1 -1 -1 -1 -1 -1 -1 -1 -1 -1 -1 -1 -1 -1 -1 -1 -1 -1 -1 -1 -1 -1 -1 -1 -1 -1 -1 -1 -1 -1 -1 -1 -1 -1 -1 -1 -1 -1 -1 -1 -1 -1 -1 -1 -1 -1 -1 -1 -1 -1 -1 -1 -1 -1 -1 -1 -1 -1 -1 -1 -1 -1 -1 -1 -1 -1 -1 -1 -1 -1 -1 -1 -1 -1 -1 -1 -1 -1 -1 -1 -1 -1 -1 -1 -1 -1 -1 -1 -1 -1\n",
            "INFO:tensorflow:Decoder-Group-Ids:0 0 0 0 0 0 0 0 0 0 0 0 0 0 0 0 0 0 0 0 0 0 0 0 0 0 0 0 0 0 0 0 0 0 0 0 0 0 1 1 1 1 1 1 1 1 1 1 1 1 1 1 1 1 1 1 1 1 1 1 2 2 2 2 2 2 2 2 2 2 2 2 2 2 2 2 2 2 2 2 3 3 3 3 3 3 3 3 3 3 3 3 3 3 3 3 3 3 3 3 3 4 4 4 4 4 4 4 4 4 4 5 5 5 5 5 5 5 5 5 5 5 5 5 5 5 5 5 5 5 5 5 5 5 5 5 5 5 5 5 5 5 5 5 5 5 5 5 5 5 5 5 5 5 5 5 5 5 5 5 5 5 5 5 5 5 5 5 5 5 5 5 5 5 5 5 5 5 5 5 5 5 5 5 5 5 5 5 5 5 5 5 5 5 5 5 5 5 5 5 5 5 5 5 6 6 6 6 6 6 6 6 6 6 6 6 6 6 6 6 6 6 6 6 6 6 6 6 6 6 6 6 6 6 6 6 6 6 6 6 6 6 6 6 6 6 6 6 6 6 6 6 7 7 7 7 7 7 7 7 7 7 7 7 7 7 7 7 7 7 7 7 7 7 7 7 7 7 7 7 7 7 7 7 7 7 7 7 7 7 7 7 7 7 8 8 8 8 8 8 8 8 8 8 8 8 8 8 8 9 9 9 9 9 9 9 9 9 9 9 9 9 9 9 9 9 9 9 9 9 9 9 9 9 9 9 9 9 9 9 9 9 9 9 9 9 9 9 10 10 10 10 10 10 10 10 10 10 10 10 10 10 10 10 10 10 10 10 10 10 10 10 10 10 10 10 10 10 10 10 11 11 11 11 11 11 11 11 11 11 11 11 11 11 11 11 11 11 11 11 11 11 11 12 12 12 12 12 12 12 12 12 12 12 13 13 13 13 13 13 13 13 13 13 13 13 13 13 13 13 13 -1 -1 -1 -1 -1 -1 -1 -1 -1 -1 -1 -1 -1 -1 -1 -1 -1 -1 -1 -1 -1 -1 -1 -1 -1 -1 -1 -1 -1 -1 -1 -1 -1 -1 -1 -1 -1 -1 -1 -1 -1 -1 -1 -1 -1 -1 -1 -1 -1 -1 -1 -1 -1 -1 -1 -1 -1 -1 -1 -1 -1 -1 -1 -1 -1 -1 -1 -1 -1 -1 -1 -1 -1 -1 -1 -1 -1 -1 -1 -1 -1 -1 -1 -1 -1 -1 -1 -1 -1 -1 -1 -1 -1 -1 -1 -1 -1 -1 -1 -1 -1 -1 -1 -1 -1 -1 -1 -1 -1 -1 -1 -1 -1 -1 -1 -1 -1 -1 -1 -1 -1 -1 -1 -1 -1 -1 -1 -1 -1 -1 -1 -1 -1 -1 -1 -1 -1 -1 -1 -1 -1 -1 -1 -1 -1 -1 -1 -1 -1 -1 -1 -1 -1 -1 -1 -1 -1 -1 -1 -1 -1 -1 -1 -1 -1 -1 -1 -1 -1 -1 -1 -1 -1 -1 -1 -1 -1 -1 -1 -1 -1 -1 -1 -1 -1 -1 -1 -1 -1 -1 -1 -1 -1 -1 -1 -1 -1 -1 -1 -1 -1 -1 -1 -1 -1 -1 -1 -1 -1 -1 -1 -1 -1 -1 -1 -1 -1 -1 -1 -1 -1 -1 -1 -1 -1 -1 -1 -1 -1 -1 -1 -1 -1 -1 -1 -1 -1 -1 -1 -1 -1 -1 -1 -1 -1 -1 -1 -1 -1 -1 -1 -1 -1 -1 -1 -1 -1 -1 -1 -1 -1 -1 -1 -1 -1 -1 -1 -1 -1 -1 -1 -1 -1 -1 -1 -1 -1 -1 -1 -1 -1 -1 -1 -1 -1 -1 -1 -1 -1 -1 -1 -1 -1 -1 -1 -1 -1 -1 -1 -1 -1 -1 -1 -1 -1 -1 -1 -1 -1 -1 -1 -1 -1 -1 -1 -1 -1 -1 -1 -1 -1 -1 -1 -1 -1 -1 -1 -1 -1 -1 -1 -1 -1 -1 -1 -1 -1 -1 -1 -1 -1 -1 -1 -1 -1 -1 -1 -1 -1 -1 -1 -1 -1 -1 -1 -1 -1 -1 -1 -1 -1 -1 -1 -1 -1 -1 -1 -1 -1 -1 -1 -1 -1 -1 -1 -1 -1 -1 -1 -1 -1 -1 -1 -1 -1 -1 -1 -1 -1 -1 -1 -1 -1 -1 -1 -1 -1 -1 -1 -1 -1 -1 -1 -1 -1 -1 -1 -1 -1 -1 -1 -1 -1 -1 -1 -1 -1 -1 -1 -1 -1 -1 -1 -1 -1 -1 -1 -1 -1 -1 -1 -1 -1 -1 -1 -1 -1 -1 -1 -1 -1 -1 -1 -1 -1 -1 -1 -1 -1 -1 -1 -1 -1 -1 -1 -1 -1 -1 -1 -1 -1 -1 -1 -1 -1 -1 -1 -1 -1 -1 -1 -1 -1 -1 -1 -1 -1 -1 -1 -1 -1 -1 -1 -1 -1 -1 -1 -1 -1 -1 -1 -1 -1 -1 -1 -1 -1 -1 -1 -1 -1 -1 -1 -1 -1 -1 -1 -1 -1 -1 -1 -1 -1 -1 -1 -1 -1 -1 -1 -1 -1 -1 -1 -1 -1 -1 -1 -1 -1 -1 -1 -1 -1 -1 -1 -1 -1 -1 -1 -1 -1 -1 -1 -1 -1 -1 -1 -1 -1 -1 -1 -1 -1 -1 -1 -1 -1 -1 -1 -1 -1 -1 -1 -1 -1 -1 -1 -1 -1 -1 -1 -1 -1 -1 -1 -1 -1 -1 -1 -1 -1 -1 -1 -1 -1 -1 -1 -1 -1 -1 -1 -1 -1\n",
            "INFO:tensorflow:*** Example ***\n",
            "INFO:tensorflow:guids:['train-0-373221', 'train-0-303181', 'train-0-56026', 'train-0-205941', 'train-0-225770', 'train-0-361192', 'train-0-26468', 'train-0-77599', 'train-0-233202', 'train-0-235193', 'train-0-279419', 'train-0-381653', 'train-0-186162', 'train-0-396412', 'train-0-6501', 'train-0-200243', 'train-0-183150', 'train-0-147991', 'train-0-200484', 'train-0-195634', 'train-0-231215', 'train-0-109163', 'train-0-254749']\n",
            "INFO:tensorflow:src_texts:['In these locations, there were many ninja houses and they conducted daily training.', 'Hiko Hoakari no Mikoto', 'January 10, 1303: assumed the additional position of Kebiishi no betto (Superintendent of the Imperial Police).', 'His wife was the daughter of Fuyuyoshi ICHIJO.', 'Tanin FUKUI (male 8 October, 1801- 22 August 1885) was a Japanese Tenkoku artist (artist of seal engraving) from the end of Edo period to Meiji period.', \"In Toin Daishi Do of the temple, there are two statues of Chisho Daishi named as 'Chuson Daishi' (the Great teacher of the principal statue of in a group of Buddhist statues) and 'Okotsu Daishi' (the statue of Great Teacher with its remains in it) which are designated as national treasures.\", 'Rokuon-ji Temple', \"It is considered that that 'ata' in Kamuatatsu-hime comes from Ata-go, Ata-no-kori, Satsuma Province (the vicinity of present-day Minamisatsuma City, Kagoshima Prefecture).\", 'Weather condition', \"Doman immediately guessed the contents of the chest and excitedly answered, '16 large oranges' but Seimei, after performing kaji, quietly said, '16 mice.'\", 'December: He was transferred to Echizen no kami.', 'October 7, he was additionally appointed Sa-konoe-chujo (deputy official of the Left Imperial Guards).', '(Refer to \\'Article 20 of the Constitution of Japan,\\' \\'freedom of religion,\\' \\'the principle of separation of government and religion,\\' and \\'the Tsu \"Jichinsai\" lawsuit\\' (where Tsu Municipal Authority was sued for using public funds to hold a purification ceremony at a building site))', 'In order to cope with this situation, each domain initiated reforms in the 18th and 19th centuries, (and the first case was Tosa Domain around the middle of the 17th century).', 'In 1665, his elder brother Masatsune KAGAWA had Sankin UTSUNOMIYA, a Confucian scholar from Iwakuni, write the preface to the Intokuki.', 'In 1568, he served Nobunaga ODA after the Rokkaku clan went to ruin.', \"Interpretation of 'Tada-Genji'\", 'Especially, high-purity kanten is used for the cataphoresis of nucleic acid (cataphoresis of agarose gel).', 'She lost her husband in 1925.', 'Keihan Buses are in service.', \"On February 21, 1872, 'Tokyo-nichinichi Shinbun' started to be published as the first daily newspaper in Tokyo.\", 'However, all residents in Haino where electric power was not supplied at this time left the village and the village of mountain guardians that had remained also disappeared.', 'Career']\n",
            "INFO:tensorflow:tar_texts:['これらの場所には多数の忍者屋敷があり、日々の訓練が行われていたと考えられる。', '彦火明命', '12月14日、検非違使別当を兼帯。', '妻は一条冬良の娘。', '福井端隠（ふくい たんいん、男性、享和元年9月1日 (旧暦)（1801年10月8日） - 明治18年（1885年）8月22日）は、幕末から明治の日本の篆刻家である。', '同寺唐院大師堂には「中尊大師」「御骨大師」と称する2体の智証大師像があり、いずれも国宝に指定されている。', '鹿苑寺', 'カムアタツヒメの「阿多」は薩摩国阿多郡阿多郷（現在の鹿児島県南さつま市周辺）のことであるとされている。', '気象条件', '早速、道満は長持の中身を予測し「大柑子が16！」と答えたが、晴明は加持の上冷静に「鼠が16匹」と答えた。', '12月 - 越前守に転任。', '10月7日、左近衛中将を兼任。', '（日本国憲法第20条、信教の自由、政教分離原則、津地鎮祭訴訟参照）', 'これを打開するために藩政改革が18～19世紀にかけて各藩で実施される（早いところでは土佐藩が17世紀中葉に行った）。', '寛文5年（1665年）兄香川正恒は、岩国出身の儒学者宇都宮三近に「陰徳記序」を書いてもらう。', '永禄11年（1568年）、六角氏が滅亡した後は織田信長に仕えた。', '「多田源氏」の解釈', 'また特に純度の高いものは核酸の電気泳動（アガロースゲル電気泳動）にも使用される。', '1925年（大正14年）に夫と死別。', '京阪バスが運行。', '1872年（明治5年）2月21日、「東京日日新聞」が東京初の日刊紙として創刊される。', 'しかｓ、このとき電気の来なかった灰野は住民が全員離村、最後まで残った山番の村も姿を消してしまった。', '経歴']\n",
            "INFO:tensorflow:Target:5865 18863 36 9790 26086 8778 1426 20 13357 31 6539 30817 12174 21 4 0 1478 1852 564 2227 4 0 89 37 145 51 20 7042 3026 14842 4402 29976 46 2155 3072 21 4 0 19933 21848 4586 1271 2823 21 4 0 6750 3864 8582 22 9175 315 2 10258 9370 20 3110 20 37654 2108 87 37 43 51 2 22 20108 23 22 13955 29 82 37 86 51 23 2 24 2 362 158 29 22 4532 29 4464 37 169 51 23 36 20 11078 102 362 31 383 38976 339 90 21 4 0 431 475 4137 947 25563 1193 186 58 206 5469 25563 1386 1350 3091 25563 64 22572 50 10279 2244 7659 25563 3151 1426 20 5160 27631 11911 21 4 0 3975 12637 475 4 0 10017 251 372 717 22466 31 58 3132 1384 64 36 19577 301 3132 1384 220 3132 1384 1094 22 862 5062 288 14776 909 115 3659 23 9758 5394 21 4 0 10080 5946 4 0 3594 3267 20 355 2525 36 299 3526 5892 2176 46 26467 97 58 140 39583 11185 137 4208 65 19647 5299 20 4225 564 36 1686 3526 7100 5475 4260 45 58 34588 42 137 20214 64 65 19647 171 21 4 0 89 37 2 24 2 12607 1666 37197 21 4 0 82 37 85 51 20 2235 14014 13775 27449 21 4 0 22 34331 107 130 1482 20 814 1712 23715 20 1176 1712 6753 18723 20 1188 546 1574 2347 16153 5576 23 4 0 5001 3445 1622 5772 26947 5934 42 158 397 175 2920 5417 1337 2047 55 35701 22 25032 26700 36 9065 2047 42 153 2920 206 1627 45 9508 414 4 0 16213 77 29 1564 1118 29 23 3825 16446 446 6934 36 20 1226 301 2158 36753 8107 290 2583 45 58 8353 1404 1311 10427 64 46 30684 27401 21 4 0 15236 94 29 1828 2153 29 343 30223 10251 19901 7760 36 23358 20146 21 4 0 58 22140 16864 64 31 14778 4 0 254 2043 3660 367 13161 9347 4793 4166 31 3858 16879 2749 22 27924 1213 152 6556 3858 16879 2749 23 756 15245 21 4 0 2423 29 22 1434 145 29 23 45 1021 65 2683 871 21 4 0 16568 783 42 4932 21 4 0 5493 29 22 362 77 29 23 50 37 173 51 508 393 30550 64 42 393 2680 23269 2657 119 8315 404 21 4 0 4697 25 20 13807 3858 31 1624 3418 11130 348 36 5854 42 15512 4564 221 20 31950 18523 184 776 31 221 129 19559 7154 20957 21 4 0 12864 4 0 -1 -1 -1 -1 -1 -1 -1 -1 -1 -1 -1 -1 -1 -1 -1 -1 -1 -1 -1 -1 -1 -1 -1 -1 -1 -1 -1 -1 -1 -1 -1 -1 -1 -1 -1 -1 -1 -1 -1 -1 -1 -1 -1 -1 -1 -1 -1 -1 -1 -1 -1 -1 -1 -1 -1 -1 -1 -1 -1 -1 -1 -1 -1 -1 -1 -1 -1 -1 -1 -1 -1 -1 -1 -1 -1 -1 -1 -1 -1 -1 -1 -1 -1 -1 -1 -1 -1 -1 -1 -1 -1 -1 -1 -1 -1 -1 -1 -1 -1 -1 -1 -1 -1 -1 -1 -1 -1 -1 -1 -1 -1 -1 -1 -1 -1 -1 -1 -1 -1 -1 -1 -1 -1 -1 -1 -1 -1 -1 -1 -1 -1 -1 -1 -1 -1 -1 -1 -1 -1 -1 -1 -1 -1 -1 -1 -1 -1 -1 -1 -1 -1 -1 -1 -1 -1 -1 -1 -1 -1 -1 -1 -1 -1 -1 -1 -1 -1 -1 -1 -1 -1 -1 -1 -1 -1 -1 -1 -1 -1 -1 -1 -1 -1 -1 -1 -1 -1 -1 -1 -1 -1 -1 -1 -1 -1 -1 -1 -1 -1 -1 -1 -1 -1 -1 -1 -1 -1 -1 -1 -1 -1 -1 -1 -1 -1 -1 -1 -1 -1 -1 -1 -1 -1 -1 -1 -1 -1 -1 -1 -1 -1 -1 -1 -1 -1 -1 -1 -1 -1 -1 -1 -1 -1 -1 -1 -1 -1 -1 -1 -1 -1 -1 -1 -1 -1 -1 -1 -1 -1 -1 -1 -1 -1 -1 -1 -1 -1 -1 -1 -1 -1 -1 -1 -1 -1 -1 -1 -1 -1 -1 -1 -1 -1 -1 -1 -1 -1 -1 -1 -1 -1 -1 -1 -1 -1 -1 -1 -1 -1 -1 -1 -1 -1 -1 -1 -1 -1 -1 -1 -1 -1 -1 -1 -1 -1 -1 -1 -1 -1 -1 -1 -1 -1 -1 -1 -1 -1 -1 -1 -1 -1 -1 -1 -1 -1 -1 -1 -1 -1 -1 -1 -1 -1 -1 -1 -1 -1 -1 -1 -1 -1 -1 -1 -1 -1 -1 -1 -1 -1 -1 -1 -1 -1 -1 -1 -1 -1 -1 -1 -1 -1 -1 -1 -1 -1 -1 -1 -1 -1 -1 -1 -1 -1 -1 -1 -1 -1 -1 -1 -1 -1 -1 -1 -1 -1 -1 -1 -1 -1 -1 -1 -1 -1 -1 -1 -1 -1 -1 -1 -1 -1 -1 -1 -1 -1 -1 -1 -1 -1 -1 -1 -1 -1 -1 -1 -1 -1 -1 -1 -1 -1 -1 -1 -1 -1 -1 -1 -1 -1 -1 -1 -1 -1 -1 -1 -1 -1 -1 -1 -1 -1 -1 -1 -1 -1 -1 -1 -1 -1 -1 -1 -1 -1 -1 -1 -1 -1 -1 -1 -1 -1 -1 -1 -1 -1 -1 -1 -1 -1 -1 -1 -1 -1 -1 -1 -1 -1 -1 -1 -1 -1 -1 -1 -1 -1 -1 -1 -1 -1 -1 -1 -1 -1 -1 -1 -1 -1 -1 -1 -1 -1 -1 -1 -1 -1 -1 -1 -1 -1 -1 -1 -1 -1 -1 -1 -1 -1 -1 -1 -1 -1 -1 -1 -1 -1 -1 -1 -1 -1 -1 -1 -1 -1 -1 -1 -1 -1 -1 -1 -1 -1 -1 -1 -1 -1 -1 -1 -1 -1 -1\n",
            "INFO:tensorflow:Encoder-Token-Ids:3 27 2 1618 2 7413 18 2 319 2 139 2 624 2 26661 2 4128 2 30 2 270 2 8325 2 1480 2 2405 17 4 3 25023 2 840 28 12822 2 131 2 250 391 35 4 3 191 2 2577 2 4181 54 34 2 15778 2 19 2 4209 2 1717 2 26 2 95 16 860 13312 2 131 2 5911 35 2 22 20695 2 26 2 19 2 5975 2 2315 81 4 3 84 2 1669 2 41 2 19 2 1759 2 26 2 2309 1765 6653 2 6667 635 17 4 3 2477 27 2 22597 79 2 22 1117 16 2 86 2 215 18 2 13955 24 2 169 2 202 2 4532 23 2 41 2 28 2 972 2 743 27586 2 1505 2 22 1505 2 26 2 14370 2 35540 23 2 66 2 19 2 914 2 26 2 16 318 2 1644 2 35 2 35388 2 1644 17 4 3 27 2 35 27 2 352 13312 2 318 2 26 2 19 2 2559 18 2 319 2 126 2 177 2 9588 25 2 26 2 921 3682 2 352 13312 2 640 2 48 2 44 3487 351 2 352 13312 44 2 22 19 2 985 2 4285 2 26 2 19 2 4759 2 9588 2 26 2 27 2 28 2 399 2 26 2 16637 2 9588 25 23 2 30 2 44 15143 4683 2 352 13312 44 2 22 19 2 9588 2 26 2 985 2 4285 2 70 2 154 2 4939 2 27 2 69 23 2 124 2 126 2 5073 2 48 2 122 2 13812 25 17 4 3 60 11422 38 24 1106 2 2559 4 3 69 2 39 2 2203 2 103 2 103 2 44 49 28 44 2 27 2 4763 5409 30860 24 565 16 2 5288 2 66 2 49 28 24 300 18 2 49 28 24 131 24 391 630 18 2 25 49 3714 28 2 865 2 22 19 2 25509 2 26 2 1400 24 504 2 35034 25 49 3714 28 2 235 18 2 332 300 10673 2 7178 81 4 3 6306 2 8486 4 3 318 157 2 8849 2 1097 16 25 25 16 40 2 19 2 17133 2 26 2 19 2 22536 2 30 2 16 141 11935 170 2 11070 16 40 18 2 44 137 2 1346 2 5312 25 44 2 216 2 25 16 1113 16 79 18 2 166 2 6850 2 332 1106 18 2 16747 170 2 2369 18 2 44 137 2 4497 16 17 44 4 3 226 34 2 67 2 41 2 5726 2 35 2 16 921 3800 2 131 2 11926 17 4 3 215 2 1951 2 67 2 41 2 18148 2 1539 2 754 24 391 131 16 24 3487 635 2 22 4442 2 309 2 26 2 19 2 1035 2 5975 2 19096 81 4 3 22 687 2 35 2 44 1135 2 130 2 26 2 19 2 8454 2 26 2 778 18 44 2 44 6196 2 26 2 7722 18 44 2 44 19 2 23812 2 26 2 25728 2 26 2 636 2 30 2 7722 18 44 2 30 2 44 19 2 4683 2 33 1106 6405 4827 33 2 32120 44 2 22 317 2 4683 2 3067 2 4310 2 41 2 690 16 40 2 52 2 2089 2 556 2 13153 2 35 2 3983 2 28 2 32235 2 9733 2 49 2 28 2 736 2 625 23 23 4 3 27 2 1112 2 35 2 4553 16 2 70 2 135 2 10161 18 2 924 2 2839 2 24968 2 6396 25 2 27 2 19 2 158 91 2 30 2 175 91 2 10081 18 2 22 30 2 19 2 121 2 3155 2 41 2 35 754 2 2839 2 1080 2 19 2 1974 2 26 2 19 2 153 91 2 796 81 4 3 27 2 8603 1649 2 84 2 5700 2 1880 2 3994 49 1287 16 2 332 11549 2 176 2 510 2543 2 113 4683 131 9346 18 2 28 2 11099 7070 72 2 8351 2 66 2 10683 27720 18 2 9504 2 19 2 1322 3196 2 35 2 19 2 403 1079 540 17 4 3 27 2 6736 2023 2 67 2 599 2 24731 8898 2 8630 2 166 2 19 2 24916 24662 2 7684 2 1531 2 35 2 1026 27 17 4 3 19991 2 26 2 44 329 352 24 831 1106 44 4 3 5306 18 2 375 24 1309 1297 2 1670 743 2 39 2 469 2 52 2 19 2 7689 14190 16 25 39 2 26 2 35048 78 2 4639 2 22 7689 14190 16 25 39 2 26 2 6616 4142 2 5254 81 4 3 162 2 1533 2 143 2 3703 2 27 2 2423 17 4 3 9605 1572 2 16283 2 126 2 27 2 459 17 4 3 38 2 243 2 2485 2 5493 18 2 44 2659 24 16634 27 6667 2 2917 5560 44 2 1409 2 35 2 53 16 2 768 2 48 2 19 2 121 2 1480 2 3195 2 27 2 2659 17 4 3 1039 18 2 163 2 7058 2 27 2 5048 131 2 317 2 3670 2 1159 2 41 2 199 2 25375 2 49 2 135 2 246 2 1035 2 19 2 364 2 30 2 19 2 364 2 26 2 1692 2 4034 25 2 103 2 176 2 3473 2 123 2 28503 17 4 3 738 4 -1 -1 -1 -1 -1 -1 -1 -1 -1 -1 -1 -1 -1 -1 -1 -1 -1 -1 -1 -1 -1 -1 -1 -1 -1 -1 -1 -1 -1 -1\n",
            "INFO:tensorflow:Encoder-Pos-Ids:0 1 2 3 4 5 6 7 8 9 10 11 12 13 14 15 16 17 18 19 20 21 22 23 24 25 26 27 28 0 1 2 3 4 5 6 7 8 9 10 11 12 0 1 2 3 4 5 6 7 8 9 10 11 12 13 14 15 16 17 18 19 20 21 22 23 24 25 26 27 28 29 30 31 32 33 34 35 36 37 38 39 40 0 1 2 3 4 5 6 7 8 9 10 11 12 13 14 15 16 17 18 19 20 0 1 2 3 4 5 6 7 8 9 10 11 12 13 14 15 16 17 18 19 20 21 22 23 24 25 26 27 28 29 30 31 32 33 34 35 36 37 38 39 40 41 42 43 44 45 46 47 48 49 50 51 52 53 54 55 56 57 58 59 60 61 62 63 64 65 66 0 1 2 3 4 5 6 7 8 9 10 11 12 13 14 15 16 17 18 19 20 21 22 23 24 25 26 27 28 29 30 31 32 33 34 35 36 37 38 39 40 41 42 43 44 45 46 47 48 49 50 51 52 53 54 55 56 57 58 59 60 61 62 63 64 65 66 67 68 69 70 71 72 73 74 75 76 77 78 79 80 81 82 83 84 85 86 87 88 89 90 91 92 93 94 95 96 97 98 99 100 101 102 103 104 105 106 107 108 109 110 111 112 113 114 115 116 117 118 119 120 121 122 123 0 1 2 3 4 5 6 7 8 0 1 2 3 4 5 6 7 8 9 10 11 12 13 14 15 16 17 18 19 20 21 22 23 24 25 26 27 28 29 30 31 32 33 34 35 36 37 38 39 40 41 42 43 44 45 46 47 48 49 50 51 52 53 54 55 56 57 58 59 60 61 62 63 64 65 66 67 68 69 70 71 72 73 74 75 76 77 0 1 2 3 4 0 1 2 3 4 5 6 7 8 9 10 11 12 13 14 15 16 17 18 19 20 21 22 23 24 25 26 27 28 29 30 31 32 33 34 35 36 37 38 39 40 41 42 43 44 45 46 47 48 49 50 51 52 53 54 55 56 57 58 59 60 61 62 63 64 65 66 67 68 69 70 71 72 73 74 0 1 2 3 4 5 6 7 8 9 10 11 12 13 14 15 16 17 18 19 20 0 1 2 3 4 5 6 7 8 9 10 11 12 13 14 15 16 17 18 19 20 21 22 23 24 25 26 27 28 29 30 31 32 33 34 35 36 37 0 1 2 3 4 5 6 7 8 9 10 11 12 13 14 15 16 17 18 19 20 21 22 23 24 25 26 27 28 29 30 31 32 33 34 35 36 37 38 39 40 41 42 43 44 45 46 47 48 49 50 51 52 53 54 55 56 57 58 59 60 61 62 63 64 65 66 67 68 69 70 71 72 73 74 75 76 77 78 79 80 81 82 83 84 85 86 87 88 89 90 91 92 93 94 95 96 97 98 99 100 101 102 103 104 105 106 107 108 109 0 1 2 3 4 5 6 7 8 9 10 11 12 13 14 15 16 17 18 19 20 21 22 23 24 25 26 27 28 29 30 31 32 33 34 35 36 37 38 39 40 41 42 43 44 45 46 47 48 49 50 51 52 53 54 55 56 57 58 59 60 61 62 63 64 65 66 67 68 69 70 71 72 0 1 2 3 4 5 6 7 8 9 10 11 12 13 14 15 16 17 18 19 20 21 22 23 24 25 26 27 28 29 30 31 32 33 34 35 36 37 38 39 40 41 42 43 44 45 46 47 48 49 50 51 52 53 54 55 56 57 58 59 60 0 1 2 3 4 5 6 7 8 9 10 11 12 13 14 15 16 17 18 19 20 21 22 23 24 25 26 27 28 29 30 31 0 1 2 3 4 5 6 7 8 9 10 11 12 0 1 2 3 4 5 6 7 8 9 10 11 12 13 14 15 16 17 18 19 20 21 22 23 24 25 26 27 28 29 30 31 32 33 34 35 36 37 38 39 40 41 42 43 44 45 46 47 0 1 2 3 4 5 6 7 8 9 10 11 12 13 0 1 2 3 4 5 6 7 8 9 10 11 12 0 1 2 3 4 5 6 7 8 9 10 11 12 13 14 15 16 17 18 19 20 21 22 23 24 25 26 27 28 29 30 31 32 33 34 35 36 37 38 39 40 41 42 43 44 0 1 2 3 4 5 6 7 8 9 10 11 12 13 14 15 16 17 18 19 20 21 22 23 24 25 26 27 28 29 30 31 32 33 34 35 36 37 38 39 40 41 42 43 44 45 46 47 48 49 50 51 52 53 54 55 56 57 58 59 60 0 1 2 -1 -1 -1 -1 -1 -1 -1 -1 -1 -1 -1 -1 -1 -1 -1 -1 -1 -1 -1 -1 -1 -1 -1 -1 -1 -1 -1 -1 -1 -1\n",
            "INFO:tensorflow:Encoder-Group-Ids:0 0 0 0 0 0 0 0 0 0 0 0 0 0 0 0 0 0 0 0 0 0 0 0 0 0 0 0 0 1 1 1 1 1 1 1 1 1 1 1 1 1 2 2 2 2 2 2 2 2 2 2 2 2 2 2 2 2 2 2 2 2 2 2 2 2 2 2 2 2 2 2 2 2 2 2 2 2 2 2 2 2 2 3 3 3 3 3 3 3 3 3 3 3 3 3 3 3 3 3 3 3 3 3 4 4 4 4 4 4 4 4 4 4 4 4 4 4 4 4 4 4 4 4 4 4 4 4 4 4 4 4 4 4 4 4 4 4 4 4 4 4 4 4 4 4 4 4 4 4 4 4 4 4 4 4 4 4 4 4 4 4 4 4 4 4 4 4 4 4 4 5 5 5 5 5 5 5 5 5 5 5 5 5 5 5 5 5 5 5 5 5 5 5 5 5 5 5 5 5 5 5 5 5 5 5 5 5 5 5 5 5 5 5 5 5 5 5 5 5 5 5 5 5 5 5 5 5 5 5 5 5 5 5 5 5 5 5 5 5 5 5 5 5 5 5 5 5 5 5 5 5 5 5 5 5 5 5 5 5 5 5 5 5 5 5 5 5 5 5 5 5 5 5 5 5 5 5 5 5 5 5 5 5 5 5 5 5 5 5 5 5 5 5 5 6 6 6 6 6 6 6 6 6 7 7 7 7 7 7 7 7 7 7 7 7 7 7 7 7 7 7 7 7 7 7 7 7 7 7 7 7 7 7 7 7 7 7 7 7 7 7 7 7 7 7 7 7 7 7 7 7 7 7 7 7 7 7 7 7 7 7 7 7 7 7 7 7 7 7 7 7 7 7 7 7 7 7 7 7 7 7 8 8 8 8 8 9 9 9 9 9 9 9 9 9 9 9 9 9 9 9 9 9 9 9 9 9 9 9 9 9 9 9 9 9 9 9 9 9 9 9 9 9 9 9 9 9 9 9 9 9 9 9 9 9 9 9 9 9 9 9 9 9 9 9 9 9 9 9 9 9 9 9 9 9 9 9 9 9 9 9 10 10 10 10 10 10 10 10 10 10 10 10 10 10 10 10 10 10 10 10 10 11 11 11 11 11 11 11 11 11 11 11 11 11 11 11 11 11 11 11 11 11 11 11 11 11 11 11 11 11 11 11 11 11 11 11 11 11 11 12 12 12 12 12 12 12 12 12 12 12 12 12 12 12 12 12 12 12 12 12 12 12 12 12 12 12 12 12 12 12 12 12 12 12 12 12 12 12 12 12 12 12 12 12 12 12 12 12 12 12 12 12 12 12 12 12 12 12 12 12 12 12 12 12 12 12 12 12 12 12 12 12 12 12 12 12 12 12 12 12 12 12 12 12 12 12 12 12 12 12 12 12 12 12 12 12 12 12 12 12 12 12 12 12 12 12 12 12 12 13 13 13 13 13 13 13 13 13 13 13 13 13 13 13 13 13 13 13 13 13 13 13 13 13 13 13 13 13 13 13 13 13 13 13 13 13 13 13 13 13 13 13 13 13 13 13 13 13 13 13 13 13 13 13 13 13 13 13 13 13 13 13 13 13 13 13 13 13 13 13 13 13 14 14 14 14 14 14 14 14 14 14 14 14 14 14 14 14 14 14 14 14 14 14 14 14 14 14 14 14 14 14 14 14 14 14 14 14 14 14 14 14 14 14 14 14 14 14 14 14 14 14 14 14 14 14 14 14 14 14 14 14 14 15 15 15 15 15 15 15 15 15 15 15 15 15 15 15 15 15 15 15 15 15 15 15 15 15 15 15 15 15 15 15 15 16 16 16 16 16 16 16 16 16 16 16 16 16 17 17 17 17 17 17 17 17 17 17 17 17 17 17 17 17 17 17 17 17 17 17 17 17 17 17 17 17 17 17 17 17 17 17 17 17 17 17 17 17 17 17 17 17 17 17 17 17 18 18 18 18 18 18 18 18 18 18 18 18 18 18 19 19 19 19 19 19 19 19 19 19 19 19 19 20 20 20 20 20 20 20 20 20 20 20 20 20 20 20 20 20 20 20 20 20 20 20 20 20 20 20 20 20 20 20 20 20 20 20 20 20 20 20 20 20 20 20 20 20 21 21 21 21 21 21 21 21 21 21 21 21 21 21 21 21 21 21 21 21 21 21 21 21 21 21 21 21 21 21 21 21 21 21 21 21 21 21 21 21 21 21 21 21 21 21 21 21 21 21 21 21 21 21 21 21 21 21 21 21 21 22 22 22 -1 -1 -1 -1 -1 -1 -1 -1 -1 -1 -1 -1 -1 -1 -1 -1 -1 -1 -1 -1 -1 -1 -1 -1 -1 -1 -1 -1 -1 -1\n",
            "INFO:tensorflow:Decoder-Token-Ids:3 5865 18863 36 9790 26086 8778 1426 20 13357 31 6539 30817 12174 21 4 3 1478 1852 564 2227 4 3 89 37 145 51 20 7042 3026 14842 4402 29976 46 2155 3072 21 4 3 19933 21848 4586 1271 2823 21 4 3 6750 3864 8582 22 9175 315 2 10258 9370 20 3110 20 37654 2108 87 37 43 51 2 22 20108 23 22 13955 29 82 37 86 51 23 2 24 2 362 158 29 22 4532 29 4464 37 169 51 23 36 20 11078 102 362 31 383 38976 339 90 21 4 3 431 475 4137 947 25563 1193 186 58 206 5469 25563 1386 1350 3091 25563 64 22572 50 10279 2244 7659 25563 3151 1426 20 5160 27631 11911 21 4 3 3975 12637 475 4 3 10017 251 372 717 22466 31 58 3132 1384 64 36 19577 301 3132 1384 220 3132 1384 1094 22 862 5062 288 14776 909 115 3659 23 9758 5394 21 4 3 10080 5946 4 3 3594 3267 20 355 2525 36 299 3526 5892 2176 46 26467 97 58 140 39583 11185 137 4208 65 19647 5299 20 4225 564 36 1686 3526 7100 5475 4260 45 58 34588 42 137 20214 64 65 19647 171 21 4 3 89 37 2 24 2 12607 1666 37197 21 4 3 82 37 85 51 20 2235 14014 13775 27449 21 4 3 22 34331 107 130 1482 20 814 1712 23715 20 1176 1712 6753 18723 20 1188 546 1574 2347 16153 5576 23 4 3 5001 3445 1622 5772 26947 5934 42 158 397 175 2920 5417 1337 2047 55 35701 22 25032 26700 36 9065 2047 42 153 2920 206 1627 45 9508 414 4 3 16213 77 29 1564 1118 29 23 3825 16446 446 6934 36 20 1226 301 2158 36753 8107 290 2583 45 58 8353 1404 1311 10427 64 46 30684 27401 21 4 3 15236 94 29 1828 2153 29 343 30223 10251 19901 7760 36 23358 20146 21 4 3 58 22140 16864 64 31 14778 4 3 254 2043 3660 367 13161 9347 4793 4166 31 3858 16879 2749 22 27924 1213 152 6556 3858 16879 2749 23 756 15245 21 4 3 2423 29 22 1434 145 29 23 45 1021 65 2683 871 21 4 3 16568 783 42 4932 21 4 3 5493 29 22 362 77 29 23 50 37 173 51 508 393 30550 64 42 393 2680 23269 2657 119 8315 404 21 4 3 4697 25 20 13807 3858 31 1624 3418 11130 348 36 5854 42 15512 4564 221 20 31950 18523 184 776 31 221 129 19559 7154 20957 21 4 3 12864 4 -1 -1 -1 -1 -1 -1 -1 -1 -1 -1 -1 -1 -1 -1 -1 -1 -1 -1 -1 -1 -1 -1 -1 -1 -1 -1 -1 -1 -1 -1 -1 -1 -1 -1 -1 -1 -1 -1 -1 -1 -1 -1 -1 -1 -1 -1 -1 -1 -1 -1 -1 -1 -1 -1 -1 -1 -1 -1 -1 -1 -1 -1 -1 -1 -1 -1 -1 -1 -1 -1 -1 -1 -1 -1 -1 -1 -1 -1 -1 -1 -1 -1 -1 -1 -1 -1 -1 -1 -1 -1 -1 -1 -1 -1 -1 -1 -1 -1 -1 -1 -1 -1 -1 -1 -1 -1 -1 -1 -1 -1 -1 -1 -1 -1 -1 -1 -1 -1 -1 -1 -1 -1 -1 -1 -1 -1 -1 -1 -1 -1 -1 -1 -1 -1 -1 -1 -1 -1 -1 -1 -1 -1 -1 -1 -1 -1 -1 -1 -1 -1 -1 -1 -1 -1 -1 -1 -1 -1 -1 -1 -1 -1 -1 -1 -1 -1 -1 -1 -1 -1 -1 -1 -1 -1 -1 -1 -1 -1 -1 -1 -1 -1 -1 -1 -1 -1 -1 -1 -1 -1 -1 -1 -1 -1 -1 -1 -1 -1 -1 -1 -1 -1 -1 -1 -1 -1 -1 -1 -1 -1 -1 -1 -1 -1 -1 -1 -1 -1 -1 -1 -1 -1 -1 -1 -1 -1 -1 -1 -1 -1 -1 -1 -1 -1 -1 -1 -1 -1 -1 -1 -1 -1 -1 -1 -1 -1 -1 -1 -1 -1 -1 -1 -1 -1 -1 -1 -1 -1 -1 -1 -1 -1 -1 -1 -1 -1 -1 -1 -1 -1 -1 -1 -1 -1 -1 -1 -1 -1 -1 -1 -1 -1 -1 -1 -1 -1 -1 -1 -1 -1 -1 -1 -1 -1 -1 -1 -1 -1 -1 -1 -1 -1 -1 -1 -1 -1 -1 -1 -1 -1 -1 -1 -1 -1 -1 -1 -1 -1 -1 -1 -1 -1 -1 -1 -1 -1 -1 -1 -1 -1 -1 -1 -1 -1 -1 -1 -1 -1 -1 -1 -1 -1 -1 -1 -1 -1 -1 -1 -1 -1 -1 -1 -1 -1 -1 -1 -1 -1 -1 -1 -1 -1 -1 -1 -1 -1 -1 -1 -1 -1 -1 -1 -1 -1 -1 -1 -1 -1 -1 -1 -1 -1 -1 -1 -1 -1 -1 -1 -1 -1 -1 -1 -1 -1 -1 -1 -1 -1 -1 -1 -1 -1 -1 -1 -1 -1 -1 -1 -1 -1 -1 -1 -1 -1 -1 -1 -1 -1 -1 -1 -1 -1 -1 -1 -1 -1 -1 -1 -1 -1 -1 -1 -1 -1 -1 -1 -1 -1 -1 -1 -1 -1 -1 -1 -1 -1 -1 -1 -1 -1 -1 -1 -1 -1 -1 -1 -1 -1 -1 -1 -1 -1 -1 -1 -1 -1 -1 -1 -1 -1 -1 -1 -1 -1 -1 -1 -1 -1 -1 -1 -1 -1 -1 -1 -1 -1 -1 -1 -1 -1 -1 -1 -1 -1 -1 -1 -1 -1 -1 -1 -1 -1 -1 -1 -1 -1 -1 -1 -1 -1 -1 -1 -1 -1 -1 -1 -1 -1 -1 -1 -1 -1 -1 -1 -1 -1 -1 -1 -1 -1 -1 -1 -1 -1 -1 -1 -1 -1 -1 -1 -1 -1 -1 -1 -1 -1 -1 -1 -1 -1 -1 -1 -1 -1 -1 -1 -1 -1 -1 -1\n",
            "INFO:tensorflow:Decoder-Pos-Ids:0 1 2 3 4 5 6 7 8 9 10 11 12 13 14 15 0 1 2 3 4 5 0 1 2 3 4 5 6 7 8 9 10 11 12 13 14 15 0 1 2 3 4 5 6 7 0 1 2 3 4 5 6 7 8 9 10 11 12 13 14 15 16 17 18 19 20 21 22 23 24 25 26 27 28 29 30 31 32 33 34 35 36 37 38 39 40 41 42 43 44 45 46 47 48 49 50 51 52 53 54 55 56 0 1 2 3 4 5 6 7 8 9 10 11 12 13 14 15 16 17 18 19 20 21 22 23 24 25 26 27 28 29 30 0 1 2 3 4 0 1 2 3 4 5 6 7 8 9 10 11 12 13 14 15 16 17 18 19 20 21 22 23 24 25 26 27 28 29 30 31 32 0 1 2 3 0 1 2 3 4 5 6 7 8 9 10 11 12 13 14 15 16 17 18 19 20 21 22 23 24 25 26 27 28 29 30 31 32 33 34 35 36 37 38 39 40 41 42 43 0 1 2 3 4 5 6 7 8 9 10 0 1 2 3 4 5 6 7 8 9 10 11 0 1 2 3 4 5 6 7 8 9 10 11 12 13 14 15 16 17 18 19 20 21 22 23 0 1 2 3 4 5 6 7 8 9 10 11 12 13 14 15 16 17 18 19 20 21 22 23 24 25 26 27 28 29 30 31 0 1 2 3 4 5 6 7 8 9 10 11 12 13 14 15 16 17 18 19 20 21 22 23 24 25 26 27 28 29 30 31 32 0 1 2 3 4 5 6 7 8 9 10 11 12 13 14 15 16 0 1 2 3 4 5 6 7 0 1 2 3 4 5 6 7 8 9 10 11 12 13 14 15 16 17 18 19 20 21 22 23 24 25 0 1 2 3 4 5 6 7 8 9 10 11 12 13 14 0 1 2 3 4 5 6 0 1 2 3 4 5 6 7 8 9 10 11 12 13 14 15 16 17 18 19 20 21 22 23 24 25 0 1 2 3 4 5 6 7 8 9 10 11 12 13 14 15 16 17 18 19 20 21 22 23 24 25 26 27 28 29 0 1 2 -1 -1 -1 -1 -1 -1 -1 -1 -1 -1 -1 -1 -1 -1 -1 -1 -1 -1 -1 -1 -1 -1 -1 -1 -1 -1 -1 -1 -1 -1 -1 -1 -1 -1 -1 -1 -1 -1 -1 -1 -1 -1 -1 -1 -1 -1 -1 -1 -1 -1 -1 -1 -1 -1 -1 -1 -1 -1 -1 -1 -1 -1 -1 -1 -1 -1 -1 -1 -1 -1 -1 -1 -1 -1 -1 -1 -1 -1 -1 -1 -1 -1 -1 -1 -1 -1 -1 -1 -1 -1 -1 -1 -1 -1 -1 -1 -1 -1 -1 -1 -1 -1 -1 -1 -1 -1 -1 -1 -1 -1 -1 -1 -1 -1 -1 -1 -1 -1 -1 -1 -1 -1 -1 -1 -1 -1 -1 -1 -1 -1 -1 -1 -1 -1 -1 -1 -1 -1 -1 -1 -1 -1 -1 -1 -1 -1 -1 -1 -1 -1 -1 -1 -1 -1 -1 -1 -1 -1 -1 -1 -1 -1 -1 -1 -1 -1 -1 -1 -1 -1 -1 -1 -1 -1 -1 -1 -1 -1 -1 -1 -1 -1 -1 -1 -1 -1 -1 -1 -1 -1 -1 -1 -1 -1 -1 -1 -1 -1 -1 -1 -1 -1 -1 -1 -1 -1 -1 -1 -1 -1 -1 -1 -1 -1 -1 -1 -1 -1 -1 -1 -1 -1 -1 -1 -1 -1 -1 -1 -1 -1 -1 -1 -1 -1 -1 -1 -1 -1 -1 -1 -1 -1 -1 -1 -1 -1 -1 -1 -1 -1 -1 -1 -1 -1 -1 -1 -1 -1 -1 -1 -1 -1 -1 -1 -1 -1 -1 -1 -1 -1 -1 -1 -1 -1 -1 -1 -1 -1 -1 -1 -1 -1 -1 -1 -1 -1 -1 -1 -1 -1 -1 -1 -1 -1 -1 -1 -1 -1 -1 -1 -1 -1 -1 -1 -1 -1 -1 -1 -1 -1 -1 -1 -1 -1 -1 -1 -1 -1 -1 -1 -1 -1 -1 -1 -1 -1 -1 -1 -1 -1 -1 -1 -1 -1 -1 -1 -1 -1 -1 -1 -1 -1 -1 -1 -1 -1 -1 -1 -1 -1 -1 -1 -1 -1 -1 -1 -1 -1 -1 -1 -1 -1 -1 -1 -1 -1 -1 -1 -1 -1 -1 -1 -1 -1 -1 -1 -1 -1 -1 -1 -1 -1 -1 -1 -1 -1 -1 -1 -1 -1 -1 -1 -1 -1 -1 -1 -1 -1 -1 -1 -1 -1 -1 -1 -1 -1 -1 -1 -1 -1 -1 -1 -1 -1 -1 -1 -1 -1 -1 -1 -1 -1 -1 -1 -1 -1 -1 -1 -1 -1 -1 -1 -1 -1 -1 -1 -1 -1 -1 -1 -1 -1 -1 -1 -1 -1 -1 -1 -1 -1 -1 -1 -1 -1 -1 -1 -1 -1 -1 -1 -1 -1 -1 -1 -1 -1 -1 -1 -1 -1 -1 -1 -1 -1 -1 -1 -1 -1 -1 -1 -1 -1 -1 -1 -1 -1 -1 -1 -1 -1 -1 -1 -1 -1 -1 -1 -1 -1 -1 -1 -1 -1 -1 -1 -1 -1 -1 -1 -1 -1 -1 -1 -1 -1 -1 -1 -1 -1 -1 -1 -1 -1 -1 -1 -1 -1 -1 -1 -1 -1 -1 -1 -1 -1 -1 -1 -1 -1 -1 -1 -1 -1 -1 -1 -1 -1 -1 -1 -1 -1 -1 -1 -1 -1 -1 -1 -1 -1 -1 -1\n",
            "INFO:tensorflow:Decoder-Group-Ids:0 0 0 0 0 0 0 0 0 0 0 0 0 0 0 0 1 1 1 1 1 1 2 2 2 2 2 2 2 2 2 2 2 2 2 2 2 2 3 3 3 3 3 3 3 3 4 4 4 4 4 4 4 4 4 4 4 4 4 4 4 4 4 4 4 4 4 4 4 4 4 4 4 4 4 4 4 4 4 4 4 4 4 4 4 4 4 4 4 4 4 4 4 4 4 4 4 4 4 4 4 4 4 5 5 5 5 5 5 5 5 5 5 5 5 5 5 5 5 5 5 5 5 5 5 5 5 5 5 5 5 5 5 5 6 6 6 6 6 7 7 7 7 7 7 7 7 7 7 7 7 7 7 7 7 7 7 7 7 7 7 7 7 7 7 7 7 7 7 7 7 7 8 8 8 8 9 9 9 9 9 9 9 9 9 9 9 9 9 9 9 9 9 9 9 9 9 9 9 9 9 9 9 9 9 9 9 9 9 9 9 9 9 9 9 9 9 9 9 9 10 10 10 10 10 10 10 10 10 10 10 11 11 11 11 11 11 11 11 11 11 11 11 12 12 12 12 12 12 12 12 12 12 12 12 12 12 12 12 12 12 12 12 12 12 12 12 13 13 13 13 13 13 13 13 13 13 13 13 13 13 13 13 13 13 13 13 13 13 13 13 13 13 13 13 13 13 13 13 14 14 14 14 14 14 14 14 14 14 14 14 14 14 14 14 14 14 14 14 14 14 14 14 14 14 14 14 14 14 14 14 14 15 15 15 15 15 15 15 15 15 15 15 15 15 15 15 15 15 16 16 16 16 16 16 16 16 17 17 17 17 17 17 17 17 17 17 17 17 17 17 17 17 17 17 17 17 17 17 17 17 17 17 18 18 18 18 18 18 18 18 18 18 18 18 18 18 18 19 19 19 19 19 19 19 20 20 20 20 20 20 20 20 20 20 20 20 20 20 20 20 20 20 20 20 20 20 20 20 20 20 21 21 21 21 21 21 21 21 21 21 21 21 21 21 21 21 21 21 21 21 21 21 21 21 21 21 21 21 21 21 22 22 22 -1 -1 -1 -1 -1 -1 -1 -1 -1 -1 -1 -1 -1 -1 -1 -1 -1 -1 -1 -1 -1 -1 -1 -1 -1 -1 -1 -1 -1 -1 -1 -1 -1 -1 -1 -1 -1 -1 -1 -1 -1 -1 -1 -1 -1 -1 -1 -1 -1 -1 -1 -1 -1 -1 -1 -1 -1 -1 -1 -1 -1 -1 -1 -1 -1 -1 -1 -1 -1 -1 -1 -1 -1 -1 -1 -1 -1 -1 -1 -1 -1 -1 -1 -1 -1 -1 -1 -1 -1 -1 -1 -1 -1 -1 -1 -1 -1 -1 -1 -1 -1 -1 -1 -1 -1 -1 -1 -1 -1 -1 -1 -1 -1 -1 -1 -1 -1 -1 -1 -1 -1 -1 -1 -1 -1 -1 -1 -1 -1 -1 -1 -1 -1 -1 -1 -1 -1 -1 -1 -1 -1 -1 -1 -1 -1 -1 -1 -1 -1 -1 -1 -1 -1 -1 -1 -1 -1 -1 -1 -1 -1 -1 -1 -1 -1 -1 -1 -1 -1 -1 -1 -1 -1 -1 -1 -1 -1 -1 -1 -1 -1 -1 -1 -1 -1 -1 -1 -1 -1 -1 -1 -1 -1 -1 -1 -1 -1 -1 -1 -1 -1 -1 -1 -1 -1 -1 -1 -1 -1 -1 -1 -1 -1 -1 -1 -1 -1 -1 -1 -1 -1 -1 -1 -1 -1 -1 -1 -1 -1 -1 -1 -1 -1 -1 -1 -1 -1 -1 -1 -1 -1 -1 -1 -1 -1 -1 -1 -1 -1 -1 -1 -1 -1 -1 -1 -1 -1 -1 -1 -1 -1 -1 -1 -1 -1 -1 -1 -1 -1 -1 -1 -1 -1 -1 -1 -1 -1 -1 -1 -1 -1 -1 -1 -1 -1 -1 -1 -1 -1 -1 -1 -1 -1 -1 -1 -1 -1 -1 -1 -1 -1 -1 -1 -1 -1 -1 -1 -1 -1 -1 -1 -1 -1 -1 -1 -1 -1 -1 -1 -1 -1 -1 -1 -1 -1 -1 -1 -1 -1 -1 -1 -1 -1 -1 -1 -1 -1 -1 -1 -1 -1 -1 -1 -1 -1 -1 -1 -1 -1 -1 -1 -1 -1 -1 -1 -1 -1 -1 -1 -1 -1 -1 -1 -1 -1 -1 -1 -1 -1 -1 -1 -1 -1 -1 -1 -1 -1 -1 -1 -1 -1 -1 -1 -1 -1 -1 -1 -1 -1 -1 -1 -1 -1 -1 -1 -1 -1 -1 -1 -1 -1 -1 -1 -1 -1 -1 -1 -1 -1 -1 -1 -1 -1 -1 -1 -1 -1 -1 -1 -1 -1 -1 -1 -1 -1 -1 -1 -1 -1 -1 -1 -1 -1 -1 -1 -1 -1 -1 -1 -1 -1 -1 -1 -1 -1 -1 -1 -1 -1 -1 -1 -1 -1 -1 -1 -1 -1 -1 -1 -1 -1 -1 -1 -1 -1 -1 -1 -1 -1 -1 -1 -1 -1 -1 -1 -1 -1 -1 -1 -1 -1 -1 -1 -1 -1 -1 -1 -1 -1 -1 -1 -1 -1 -1 -1 -1 -1 -1 -1 -1 -1 -1 -1 -1 -1 -1 -1 -1 -1 -1 -1 -1 -1 -1 -1 -1 -1 -1 -1 -1 -1 -1 -1 -1 -1 -1 -1 -1 -1 -1 -1 -1 -1 -1 -1 -1 -1 -1 -1 -1 -1 -1 -1 -1 -1 -1 -1 -1 -1 -1 -1 -1 -1 -1 -1 -1 -1 -1 -1 -1\n",
            "INFO:tensorflow:New file created model/transformer/train.tfrecord.1\n",
            "INFO:tensorflow:New file created model/transformer/train.tfrecord.2\n",
            "INFO:tensorflow:New input shapes; (re-)compiling: mode=train (# of cores 8), [TensorSpec(shape=(1,), dtype=tf.int32, name='core_id0'), TensorSpec(shape=(1, 1024), dtype=tf.int32, name='Encoder-Token-Ids_10'), TensorSpec(shape=(1, 1024), dtype=tf.int32, name='Encoder-Pos-Ids_10'), TensorSpec(shape=(1, 1024), dtype=tf.int32, name='Encoder-Group-Ids_10'), TensorSpec(shape=(1, 1024), dtype=tf.int32, name='Decoder-Token-Ids_10'), TensorSpec(shape=(1, 1024), dtype=tf.int32, name='Decoder-Pos-Ids_10'), TensorSpec(shape=(1, 1024), dtype=tf.int32, name='Decoder-Group-Ids_10'), TensorSpec(shape=(1, 1024, 1), dtype=tf.float32, name='Output_target_10')]\n",
            "INFO:tensorflow:Overriding default placeholder.\n",
            "INFO:tensorflow:Cloning Adam {'lr': 0.0, 'beta_1': 0.8999999761581421, 'beta_2': 0.9800000190734863, 'decay': 0.0, 'epsilon': 1e-08, 'amsgrad': False}\n",
            "INFO:tensorflow:Remapping placeholder for Encoder-Token-Ids\n",
            "INFO:tensorflow:Remapping placeholder for Encoder-Pos-Ids\n",
            "INFO:tensorflow:Remapping placeholder for Encoder-Group-Ids\n",
            "INFO:tensorflow:Remapping placeholder for Decoder-Token-Ids\n",
            "INFO:tensorflow:Remapping placeholder for Decoder-Pos-Ids\n",
            "INFO:tensorflow:Remapping placeholder for Decoder-Group-Ids\n",
            "WARNING:tensorflow:From /usr/local/lib/python3.6/dist-packages/tensorflow/contrib/tpu/python/tpu/keras_support.py:302: to_float (from tensorflow.python.ops.math_ops) is deprecated and will be removed in a future version.\n",
            "Instructions for updating:\n",
            "Use tf.cast instead.\n",
            "INFO:tensorflow:KerasCrossShard: <tensorflow.python.keras.optimizers.Adam object at 0x7f5c06021710> []\n",
            "WARNING:tensorflow:From /usr/local/lib/python3.6/dist-packages/tensorflow/python/ops/math_ops.py:3066: to_int32 (from tensorflow.python.ops.math_ops) is deprecated and will be removed in a future version.\n",
            "Instructions for updating:\n",
            "Use tf.cast instead.\n",
            "WARNING:tensorflow:From /usr/local/lib/python3.6/dist-packages/tensorflow/python/ops/math_grad.py:102: div (from tensorflow.python.ops.math_ops) is deprecated and will be removed in a future version.\n",
            "Instructions for updating:\n",
            "Deprecated in favor of operator or tf.math.divide.\n",
            "INFO:tensorflow:Started compiling\n",
            "INFO:tensorflow:Finished compiling. Time elapsed: 92.90393900871277 secs\n",
            "INFO:tensorflow:Setting weights on TPU model.\n",
            "INFO:tensorflow:CPU -> TPU lr: 0.0 {0.0}\n",
            "INFO:tensorflow:CPU -> TPU beta_1: 0.8999999761581421 {0.9}\n",
            "INFO:tensorflow:CPU -> TPU beta_2: 0.9800000190734863 {0.98}\n",
            "INFO:tensorflow:CPU -> TPU decay: 0.0 {0.0}\n",
            "WARNING:tensorflow:Cannot update non-variable config: epsilon\n",
            "WARNING:tensorflow:Cannot update non-variable config: amsgrad\n",
            "WARNING:tensorflow:Method (on_train_batch_begin) is slow compared to the batch update (0.867730). Check your callbacks.\n",
            "step_run=100 step_total=100 step_per_epoch=2909 loss=9.4783 masked_sparse_categorical_accuracy=0.0295 lr=7.0605e-06\n",
            "step_run=200 step_total=200 step_per_epoch=2909 loss=7.9559 masked_sparse_categorical_accuracy=0.0918 lr=2.1324e-05\n",
            "step_run=300 step_total=300 step_per_epoch=2909 loss=7.0703 masked_sparse_categorical_accuracy=0.1176 lr=3.5588e-05\n",
            "step_run=400 step_total=400 step_per_epoch=2909 loss=6.6949 masked_sparse_categorical_accuracy=0.1344 lr=4.9851e-05\n",
            "step_run=500 step_total=500 step_per_epoch=2909 loss=6.4794 masked_sparse_categorical_accuracy=0.1476 lr=6.4115e-05\n",
            "step_run=600 step_total=600 step_per_epoch=2909 loss=6.2579 masked_sparse_categorical_accuracy=0.1583 lr=7.8379e-05\n",
            "step_run=700 step_total=700 step_per_epoch=2909 loss=6.0520 masked_sparse_categorical_accuracy=0.1673 lr=9.2642e-05\n",
            "step_run=800 step_total=800 step_per_epoch=2909 loss=5.8428 masked_sparse_categorical_accuracy=0.1754 lr=1.0691e-04\n",
            "step_run=900 step_total=900 step_per_epoch=2909 loss=5.6448 masked_sparse_categorical_accuracy=0.1829 lr=1.2117e-04\n",
            "step_run=1000 step_total=1000 step_per_epoch=2909 loss=5.4808 masked_sparse_categorical_accuracy=0.1899 lr=1.3543e-04\n",
            "step_run=1100 step_total=1100 step_per_epoch=2909 loss=5.3203 masked_sparse_categorical_accuracy=0.1965 lr=1.4970e-04\n",
            "step_run=1200 step_total=1200 step_per_epoch=2909 loss=5.1872 masked_sparse_categorical_accuracy=0.2027 lr=1.6396e-04\n",
            "step_run=1300 step_total=1300 step_per_epoch=2909 loss=5.0618 masked_sparse_categorical_accuracy=0.2086 lr=1.7822e-04\n",
            "step_run=1400 step_total=1400 step_per_epoch=2909 loss=4.9342 masked_sparse_categorical_accuracy=0.2142 lr=1.9249e-04\n",
            "step_run=1500 step_total=1500 step_per_epoch=2909 loss=4.8434 masked_sparse_categorical_accuracy=0.2196 lr=2.0675e-04\n",
            "step_run=1600 step_total=1600 step_per_epoch=2909 loss=4.7189 masked_sparse_categorical_accuracy=0.2248 lr=2.2101e-04\n",
            "step_run=1700 step_total=1700 step_per_epoch=2909 loss=4.6279 masked_sparse_categorical_accuracy=0.2297 lr=2.3528e-04\n",
            "step_run=1800 step_total=1800 step_per_epoch=2909 loss=4.5572 masked_sparse_categorical_accuracy=0.2344 lr=2.4954e-04\n",
            "step_run=1900 step_total=1900 step_per_epoch=2909 loss=4.4672 masked_sparse_categorical_accuracy=0.2390 lr=2.6381e-04\n",
            "step_run=2000 step_total=2000 step_per_epoch=2909 loss=4.3964 masked_sparse_categorical_accuracy=0.2434 lr=2.7807e-04\n",
            "step_run=2100 step_total=2100 step_per_epoch=2909 loss=4.3199 masked_sparse_categorical_accuracy=0.2476 lr=2.9233e-04\n",
            "step_run=2200 step_total=2200 step_per_epoch=2909 loss=4.2511 masked_sparse_categorical_accuracy=0.2517 lr=3.0660e-04\n",
            "step_run=2300 step_total=2300 step_per_epoch=2909 loss=4.2027 masked_sparse_categorical_accuracy=0.2556 lr=3.2086e-04\n",
            "step_run=2400 step_total=2400 step_per_epoch=2909 loss=4.1553 masked_sparse_categorical_accuracy=0.2593 lr=3.3512e-04\n",
            "step_run=2500 step_total=2500 step_per_epoch=2909 loss=4.0948 masked_sparse_categorical_accuracy=0.2629 lr=3.4939e-04\n",
            "step_run=2600 step_total=2600 step_per_epoch=2909 loss=4.0432 masked_sparse_categorical_accuracy=0.2663 lr=3.6365e-04\n",
            "INFO:tensorflow:Preparing new records\n",
            "step_run=2700 step_total=2700 step_per_epoch=2909 loss=3.9617 masked_sparse_categorical_accuracy=0.2697 lr=3.7791e-04\n",
            "step_run=2800 step_total=2800 step_per_epoch=2909 loss=3.8457 masked_sparse_categorical_accuracy=0.2731 lr=3.9218e-04\n",
            "step_run=2900 step_total=2900 step_per_epoch=2909 loss=3.8265 masked_sparse_categorical_accuracy=0.2766 lr=4.0644e-04\n",
            "INFO:tensorflow:New input shapes; (re-)compiling: mode=eval (# of cores 8), [TensorSpec(shape=(1,), dtype=tf.int32, name='core_id_10'), TensorSpec(shape=(1, 1024), dtype=tf.int32, name='Encoder-Token-Ids_10'), TensorSpec(shape=(1, 1024), dtype=tf.int32, name='Encoder-Pos-Ids_10'), TensorSpec(shape=(1, 1024), dtype=tf.int32, name='Encoder-Group-Ids_10'), TensorSpec(shape=(1, 1024), dtype=tf.int32, name='Decoder-Token-Ids_10'), TensorSpec(shape=(1, 1024), dtype=tf.int32, name='Decoder-Pos-Ids_10'), TensorSpec(shape=(1, 1024), dtype=tf.int32, name='Decoder-Group-Ids_10'), TensorSpec(shape=(1, 1024, 1), dtype=tf.float32, name='Output_target_10')]\n",
            "INFO:tensorflow:Overriding default placeholder.\n",
            "INFO:tensorflow:Cloning Adam {'lr': 0.0, 'beta_1': 0.8999999761581421, 'beta_2': 0.9800000190734863, 'decay': 0.0, 'epsilon': 1e-08, 'amsgrad': False}\n",
            "INFO:tensorflow:Remapping placeholder for Encoder-Token-Ids\n",
            "INFO:tensorflow:Remapping placeholder for Encoder-Pos-Ids\n",
            "INFO:tensorflow:Remapping placeholder for Encoder-Group-Ids\n",
            "INFO:tensorflow:Remapping placeholder for Decoder-Token-Ids\n",
            "INFO:tensorflow:Remapping placeholder for Decoder-Pos-Ids\n",
            "INFO:tensorflow:Remapping placeholder for Decoder-Group-Ids\n",
            "INFO:tensorflow:KerasCrossShard: <tensorflow.python.keras.optimizers.Adam object at 0x7f5bd4656470> []\n",
            "INFO:tensorflow:Started compiling\n",
            "INFO:tensorflow:Finished compiling. Time elapsed: 41.37861251831055 secs\n",
            "295/295 [==============================] - 102s 347ms/step - loss: 3.8216 - masked_sparse_categorical_accuracy: 0.3730\n",
            "step_run=3000 step_total=3000 step_per_epoch=2909 loss=3.8018 masked_sparse_categorical_accuracy=0.3607 lr=4.2071e-04\n",
            "step_run=3100 step_total=3100 step_per_epoch=2909 loss=3.7843 masked_sparse_categorical_accuracy=0.3733 lr=4.3497e-04\n",
            "step_run=3200 step_total=3200 step_per_epoch=2909 loss=3.7574 masked_sparse_categorical_accuracy=0.3736 lr=4.4923e-04\n",
            "step_run=3300 step_total=3300 step_per_epoch=2909 loss=3.7557 masked_sparse_categorical_accuracy=0.3741 lr=4.6350e-04\n",
            "step_run=3400 step_total=3400 step_per_epoch=2909 loss=3.6945 masked_sparse_categorical_accuracy=0.3753 lr=4.7776e-04\n",
            "step_run=3500 step_total=3500 step_per_epoch=2909 loss=3.6907 masked_sparse_categorical_accuracy=0.3766 lr=4.9202e-04\n",
            "step_run=3600 step_total=3600 step_per_epoch=2909 loss=3.6658 masked_sparse_categorical_accuracy=0.3777 lr=5.0629e-04\n",
            "step_run=3700 step_total=3700 step_per_epoch=2909 loss=3.6414 masked_sparse_categorical_accuracy=0.3790 lr=5.2055e-04\n",
            "step_run=3800 step_total=3800 step_per_epoch=2909 loss=3.6440 masked_sparse_categorical_accuracy=0.3798 lr=5.3481e-04\n",
            "step_run=3900 step_total=3900 step_per_epoch=2909 loss=3.6293 masked_sparse_categorical_accuracy=0.3804 lr=5.4908e-04\n",
            "step_run=4000 step_total=4000 step_per_epoch=2909 loss=3.5961 masked_sparse_categorical_accuracy=0.3813 lr=5.6334e-04\n",
            "step_run=4100 step_total=4100 step_per_epoch=2909 loss=3.5812 masked_sparse_categorical_accuracy=0.3821 lr=5.6706e-04\n",
            "step_run=4200 step_total=4200 step_per_epoch=2909 loss=3.5504 masked_sparse_categorical_accuracy=0.3831 lr=5.6018e-04\n",
            "step_run=4300 step_total=4300 step_per_epoch=2909 loss=3.4961 masked_sparse_categorical_accuracy=0.3843 lr=5.5355e-04\n",
            "step_run=4400 step_total=4400 step_per_epoch=2909 loss=3.4928 masked_sparse_categorical_accuracy=0.3855 lr=5.4715e-04\n",
            "step_run=4500 step_total=4500 step_per_epoch=2909 loss=3.4523 masked_sparse_categorical_accuracy=0.3867 lr=5.4097e-04\n",
            "step_run=4600 step_total=4600 step_per_epoch=2909 loss=3.4067 masked_sparse_categorical_accuracy=0.3880 lr=5.3499e-04\n",
            "step_run=4700 step_total=4700 step_per_epoch=2909 loss=3.3849 masked_sparse_categorical_accuracy=0.3895 lr=5.2920e-04\n",
            "step_run=4800 step_total=4800 step_per_epoch=2909 loss=3.3668 masked_sparse_categorical_accuracy=0.3910 lr=5.2360e-04\n",
            "step_run=4900 step_total=4900 step_per_epoch=2909 loss=3.3085 masked_sparse_categorical_accuracy=0.3925 lr=5.1818e-04\n",
            "step_run=5000 step_total=5000 step_per_epoch=2909 loss=3.2886 masked_sparse_categorical_accuracy=0.3941 lr=5.1291e-04\n",
            "step_run=5100 step_total=5100 step_per_epoch=2909 loss=3.2720 masked_sparse_categorical_accuracy=0.3955 lr=5.0781e-04\n",
            "step_run=5200 step_total=5200 step_per_epoch=2909 loss=3.2315 masked_sparse_categorical_accuracy=0.3971 lr=5.0285e-04\n",
            "INFO:tensorflow:Preparing new records\n",
            "step_run=5300 step_total=5300 step_per_epoch=2909 loss=3.2223 masked_sparse_categorical_accuracy=0.3985 lr=4.9804e-04\n",
            "step_run=5400 step_total=5400 step_per_epoch=2909 loss=2.9796 masked_sparse_categorical_accuracy=0.4004 lr=4.9336e-04\n",
            "step_run=5500 step_total=5500 step_per_epoch=2909 loss=2.9536 masked_sparse_categorical_accuracy=0.4027 lr=4.8882e-04\n",
            "step_run=5600 step_total=5600 step_per_epoch=2909 loss=2.9718 masked_sparse_categorical_accuracy=0.4048 lr=4.8439e-04\n",
            "step_run=5700 step_total=5700 step_per_epoch=2909 loss=2.9586 masked_sparse_categorical_accuracy=0.4068 lr=4.8009e-04\n",
            "step_run=5800 step_total=5800 step_per_epoch=2909 loss=2.9399 masked_sparse_categorical_accuracy=0.4087 lr=4.7589e-04\n",
            "295/295 [==============================] - 41s 139ms/step - loss: 3.0248 - masked_sparse_categorical_accuracy: 0.4590\n",
            "step_run=5900 step_total=5900 step_per_epoch=2909 loss=2.9427 masked_sparse_categorical_accuracy=0.4525 lr=4.7181e-04\n",
            "step_run=6000 step_total=6000 step_per_epoch=2909 loss=2.9323 masked_sparse_categorical_accuracy=0.4628 lr=4.6782e-04\n",
            "step_run=6100 step_total=6100 step_per_epoch=2909 loss=2.9323 masked_sparse_categorical_accuracy=0.4635 lr=4.6394e-04\n",
            "step_run=6200 step_total=6200 step_per_epoch=2909 loss=2.8975 masked_sparse_categorical_accuracy=0.4637 lr=4.6015e-04\n",
            "step_run=6300 step_total=6300 step_per_epoch=2909 loss=2.8989 masked_sparse_categorical_accuracy=0.4650 lr=4.5646e-04\n",
            "step_run=6400 step_total=6400 step_per_epoch=2909 loss=2.8881 masked_sparse_categorical_accuracy=0.4659 lr=4.5285e-04\n",
            "step_run=6500 step_total=6500 step_per_epoch=2909 loss=2.8797 masked_sparse_categorical_accuracy=0.4666 lr=4.4932e-04\n",
            "step_run=6600 step_total=6600 step_per_epoch=2909 loss=2.8776 masked_sparse_categorical_accuracy=0.4672 lr=4.4588e-04\n",
            "step_run=6700 step_total=6700 step_per_epoch=2909 loss=2.8404 masked_sparse_categorical_accuracy=0.4681 lr=4.4251e-04\n",
            "step_run=6800 step_total=6800 step_per_epoch=2909 loss=2.8361 masked_sparse_categorical_accuracy=0.4689 lr=4.3922e-04\n",
            "step_run=6900 step_total=6900 step_per_epoch=2909 loss=2.8334 masked_sparse_categorical_accuracy=0.4697 lr=4.3601e-04\n",
            "step_run=7000 step_total=7000 step_per_epoch=2909 loss=2.8304 masked_sparse_categorical_accuracy=0.4703 lr=4.3286e-04\n",
            "step_run=7100 step_total=7100 step_per_epoch=2909 loss=2.8017 masked_sparse_categorical_accuracy=0.4710 lr=4.2978e-04\n",
            "step_run=7200 step_total=7200 step_per_epoch=2909 loss=2.7748 masked_sparse_categorical_accuracy=0.4720 lr=4.2676e-04\n",
            "step_run=7300 step_total=7300 step_per_epoch=2909 loss=2.7733 masked_sparse_categorical_accuracy=0.4729 lr=4.2381e-04\n",
            "step_run=7400 step_total=7400 step_per_epoch=2909 loss=2.7809 masked_sparse_categorical_accuracy=0.4738 lr=4.2091e-04\n",
            "step_run=7500 step_total=7500 step_per_epoch=2909 loss=2.7667 masked_sparse_categorical_accuracy=0.4746 lr=4.1808e-04\n",
            "step_run=7600 step_total=7600 step_per_epoch=2909 loss=2.7511 masked_sparse_categorical_accuracy=0.4753 lr=4.1530e-04\n",
            "step_run=7700 step_total=7700 step_per_epoch=2909 loss=2.7423 masked_sparse_categorical_accuracy=0.4761 lr=4.1258e-04\n",
            "step_run=7800 step_total=7800 step_per_epoch=2909 loss=2.7216 masked_sparse_categorical_accuracy=0.4769 lr=4.0991e-04\n",
            "step_run=7900 step_total=7900 step_per_epoch=2909 loss=2.7252 masked_sparse_categorical_accuracy=0.4777 lr=4.0729e-04\n",
            "INFO:tensorflow:Preparing new records\n",
            "step_run=8000 step_total=8000 step_per_epoch=2909 loss=2.5992 masked_sparse_categorical_accuracy=0.4785 lr=4.0472e-04\n",
            "step_run=8100 step_total=8100 step_per_epoch=2909 loss=2.4185 masked_sparse_categorical_accuracy=0.4805 lr=4.0220e-04\n",
            "step_run=8200 step_total=8200 step_per_epoch=2909 loss=2.4175 masked_sparse_categorical_accuracy=0.4825 lr=3.9972e-04\n",
            "step_run=8300 step_total=8300 step_per_epoch=2909 loss=2.4465 masked_sparse_categorical_accuracy=0.4843 lr=3.9729e-04\n",
            "step_run=8400 step_total=8400 step_per_epoch=2909 loss=2.4721 masked_sparse_categorical_accuracy=0.4858 lr=3.9490e-04\n",
            "step_run=8500 step_total=8500 step_per_epoch=2909 loss=2.4663 masked_sparse_categorical_accuracy=0.4871 lr=3.9256e-04\n",
            "step_run=8600 step_total=8600 step_per_epoch=2909 loss=2.4389 masked_sparse_categorical_accuracy=0.4885 lr=3.9026e-04\n",
            "step_run=8700 step_total=8700 step_per_epoch=2909 loss=2.4797 masked_sparse_categorical_accuracy=0.4897 lr=3.8799e-04\n",
            "295/295 [==============================] - 41s 138ms/step - loss: 2.6218 - masked_sparse_categorical_accuracy: 0.5119\n",
            "step_run=8800 step_total=8800 step_per_epoch=2909 loss=2.4689 masked_sparse_categorical_accuracy=0.5149 lr=3.8577e-04\n",
            "step_run=8900 step_total=8900 step_per_epoch=2909 loss=2.4768 masked_sparse_categorical_accuracy=0.5222 lr=3.8359e-04\n",
            "step_run=9000 step_total=9000 step_per_epoch=2909 loss=2.4639 masked_sparse_categorical_accuracy=0.5217 lr=3.8144e-04\n",
            "step_run=9100 step_total=9100 step_per_epoch=2909 loss=2.4382 masked_sparse_categorical_accuracy=0.5227 lr=3.7932e-04\n",
            "step_run=9200 step_total=9200 step_per_epoch=2909 loss=2.4322 masked_sparse_categorical_accuracy=0.5239 lr=3.7724e-04\n",
            "step_run=9300 step_total=9300 step_per_epoch=2909 loss=2.4664 masked_sparse_categorical_accuracy=0.5242 lr=3.7520e-04\n",
            "step_run=9400 step_total=9400 step_per_epoch=2909 loss=2.4521 masked_sparse_categorical_accuracy=0.5242 lr=3.7319e-04\n",
            "step_run=9500 step_total=9500 step_per_epoch=2909 loss=2.4606 masked_sparse_categorical_accuracy=0.5242 lr=3.7121e-04\n",
            "step_run=9600 step_total=9600 step_per_epoch=2909 loss=2.4414 masked_sparse_categorical_accuracy=0.5244 lr=3.6926e-04\n",
            "step_run=9700 step_total=9700 step_per_epoch=2909 loss=2.4646 masked_sparse_categorical_accuracy=0.5245 lr=3.6734e-04\n",
            "step_run=9800 step_total=9800 step_per_epoch=2909 loss=2.4241 masked_sparse_categorical_accuracy=0.5248 lr=3.6545e-04\n",
            "step_run=9900 step_total=9900 step_per_epoch=2909 loss=2.4068 masked_sparse_categorical_accuracy=0.5251 lr=3.6359e-04\n",
            "step_run=10000 step_total=10000 step_per_epoch=2909 loss=2.4321 masked_sparse_categorical_accuracy=0.5255 lr=3.6176e-04\n",
            "step_run=10100 step_total=10100 step_per_epoch=2909 loss=2.4386 masked_sparse_categorical_accuracy=0.5258 lr=3.5996e-04\n",
            "step_run=10200 step_total=10200 step_per_epoch=2909 loss=2.4218 masked_sparse_categorical_accuracy=0.5260 lr=3.5818e-04\n",
            "step_run=10300 step_total=10300 step_per_epoch=2909 loss=2.4247 masked_sparse_categorical_accuracy=0.5263 lr=3.5643e-04\n",
            "step_run=10400 step_total=10400 step_per_epoch=2909 loss=2.4495 masked_sparse_categorical_accuracy=0.5265 lr=3.5470e-04\n",
            "step_run=10500 step_total=10500 step_per_epoch=2909 loss=2.4252 masked_sparse_categorical_accuracy=0.5266 lr=3.5300e-04\n",
            "INFO:tensorflow:Preparing new records\n",
            "step_run=10600 step_total=10600 step_per_epoch=2909 loss=2.4178 masked_sparse_categorical_accuracy=0.5269 lr=3.5132e-04\n",
            "step_run=10700 step_total=10700 step_per_epoch=2909 loss=2.1384 masked_sparse_categorical_accuracy=0.5279 lr=3.4967e-04\n",
            "step_run=10800 step_total=10800 step_per_epoch=2909 loss=2.1241 masked_sparse_categorical_accuracy=0.5299 lr=3.4804e-04\n",
            "step_run=10900 step_total=10900 step_per_epoch=2909 loss=2.1447 masked_sparse_categorical_accuracy=0.5317 lr=3.4643e-04\n",
            "step_run=11000 step_total=11000 step_per_epoch=2909 loss=2.1517 masked_sparse_categorical_accuracy=0.5331 lr=3.4484e-04\n",
            "step_run=11100 step_total=11100 step_per_epoch=2909 loss=2.1376 masked_sparse_categorical_accuracy=0.5345 lr=3.4328e-04\n",
            "step_run=11200 step_total=11200 step_per_epoch=2909 loss=2.1749 masked_sparse_categorical_accuracy=0.5356 lr=3.4174e-04\n",
            "step_run=11300 step_total=11300 step_per_epoch=2909 loss=2.1561 masked_sparse_categorical_accuracy=0.5367 lr=3.4022e-04\n",
            "step_run=11400 step_total=11400 step_per_epoch=2909 loss=2.1668 masked_sparse_categorical_accuracy=0.5377 lr=3.3871e-04\n",
            "step_run=11500 step_total=11500 step_per_epoch=2909 loss=2.1756 masked_sparse_categorical_accuracy=0.5386 lr=3.3723e-04\n",
            "step_run=11600 step_total=11600 step_per_epoch=2909 loss=2.1922 masked_sparse_categorical_accuracy=0.5394 lr=3.3577e-04\n",
            "295/295 [==============================] - 41s 138ms/step - loss: 2.4448 - masked_sparse_categorical_accuracy: 0.5391\n",
            "step_run=11700 step_total=11700 step_per_epoch=2909 loss=2.1924 masked_sparse_categorical_accuracy=0.5498 lr=3.3432e-04\n",
            "step_run=11800 step_total=11800 step_per_epoch=2909 loss=2.1984 masked_sparse_categorical_accuracy=0.5563 lr=3.3290e-04\n",
            "step_run=11900 step_total=11900 step_per_epoch=2909 loss=2.1741 masked_sparse_categorical_accuracy=0.5588 lr=3.3149e-04\n",
            "step_run=12000 step_total=12000 step_per_epoch=2909 loss=2.2029 masked_sparse_categorical_accuracy=0.5598 lr=3.3010e-04\n",
            "step_run=12100 step_total=12100 step_per_epoch=2909 loss=2.1997 masked_sparse_categorical_accuracy=0.5596 lr=3.2873e-04\n",
            "step_run=12200 step_total=12200 step_per_epoch=2909 loss=2.1899 masked_sparse_categorical_accuracy=0.5594 lr=3.2737e-04\n",
            "step_run=12300 step_total=12300 step_per_epoch=2909 loss=2.2009 masked_sparse_categorical_accuracy=0.5595 lr=3.2603e-04\n",
            "step_run=12400 step_total=12400 step_per_epoch=2909 loss=2.2246 masked_sparse_categorical_accuracy=0.5591 lr=3.2471e-04\n",
            "step_run=12500 step_total=12500 step_per_epoch=2909 loss=2.2008 masked_sparse_categorical_accuracy=0.5589 lr=3.2340e-04\n",
            "step_run=12600 step_total=12600 step_per_epoch=2909 loss=2.1995 masked_sparse_categorical_accuracy=0.5590 lr=3.2211e-04\n",
            "step_run=12700 step_total=12700 step_per_epoch=2909 loss=2.2106 masked_sparse_categorical_accuracy=0.5591 lr=3.2084e-04\n",
            "step_run=12800 step_total=12800 step_per_epoch=2909 loss=2.2197 masked_sparse_categorical_accuracy=0.5591 lr=3.1958e-04\n",
            "step_run=12900 step_total=12900 step_per_epoch=2909 loss=2.1906 masked_sparse_categorical_accuracy=0.5592 lr=3.1833e-04\n",
            "step_run=13000 step_total=13000 step_per_epoch=2909 loss=2.2217 masked_sparse_categorical_accuracy=0.5592 lr=3.1710e-04\n",
            "step_run=13100 step_total=13100 step_per_epoch=2909 loss=2.1983 masked_sparse_categorical_accuracy=0.5591 lr=3.1588e-04\n",
            "step_run=13200 step_total=13200 step_per_epoch=2909 loss=2.1856 masked_sparse_categorical_accuracy=0.5592 lr=3.1468e-04\n",
            "INFO:tensorflow:Preparing new records\n",
            "step_run=13300 step_total=13300 step_per_epoch=2909 loss=2.0756 masked_sparse_categorical_accuracy=0.5595 lr=3.1349e-04\n",
            "step_run=13400 step_total=13400 step_per_epoch=2909 loss=1.8779 masked_sparse_categorical_accuracy=0.5617 lr=3.1231e-04\n",
            "step_run=13500 step_total=13500 step_per_epoch=2909 loss=1.9093 masked_sparse_categorical_accuracy=0.5639 lr=3.1115e-04\n",
            "step_run=13600 step_total=13600 step_per_epoch=2909 loss=1.9136 masked_sparse_categorical_accuracy=0.5657 lr=3.1000e-04\n",
            "step_run=13700 step_total=13700 step_per_epoch=2909 loss=1.9333 masked_sparse_categorical_accuracy=0.5672 lr=3.0886e-04\n",
            "step_run=13800 step_total=13800 step_per_epoch=2909 loss=1.9348 masked_sparse_categorical_accuracy=0.5686 lr=3.0773e-04\n",
            "step_run=13900 step_total=13900 step_per_epoch=2909 loss=1.9637 masked_sparse_categorical_accuracy=0.5697 lr=3.0662e-04\n",
            "step_run=14000 step_total=14000 step_per_epoch=2909 loss=1.9848 masked_sparse_categorical_accuracy=0.5706 lr=3.0552e-04\n",
            "step_run=14100 step_total=14100 step_per_epoch=2909 loss=1.9625 masked_sparse_categorical_accuracy=0.5714 lr=3.0443e-04\n",
            "step_run=14200 step_total=14200 step_per_epoch=2909 loss=1.9771 masked_sparse_categorical_accuracy=0.5722 lr=3.0335e-04\n",
            "step_run=14300 step_total=14300 step_per_epoch=2909 loss=1.9937 masked_sparse_categorical_accuracy=0.5728 lr=3.0229e-04\n",
            "step_run=14400 step_total=14400 step_per_epoch=2909 loss=1.9719 masked_sparse_categorical_accuracy=0.5734 lr=3.0123e-04\n",
            "step_run=14500 step_total=14500 step_per_epoch=2909 loss=2.0187 masked_sparse_categorical_accuracy=0.5738 lr=3.0019e-04\n",
            "295/295 [==============================] - 41s 138ms/step - loss: 2.3513 - masked_sparse_categorical_accuracy: 0.5538\n",
            "\n",
            "Epoch 00005: saving model to /content/drive/My Drive/transformer_model/model.05.hdf5\n",
            "INFO:tensorflow:Copying TPU weights to the CPU\n",
            "INFO:tensorflow:TPU -> CPU lr: 0.00029921092209406197\n",
            "INFO:tensorflow:TPU -> CPU beta_1: 0.8999999761581421\n",
            "INFO:tensorflow:TPU -> CPU beta_2: 0.9800000190734863\n",
            "INFO:tensorflow:TPU -> CPU decay: 0.0\n",
            "INFO:tensorflow:TPU -> CPU epsilon: 1e-08\n",
            "WARNING:tensorflow:Cannot update non-variable config: epsilon\n",
            "INFO:tensorflow:TPU -> CPU amsgrad: False\n",
            "WARNING:tensorflow:Cannot update non-variable config: amsgrad\n",
            "INFO:tensorflow:Copying TPU weights to the CPU\n",
            "INFO:tensorflow:TPU -> CPU lr: 0.00029921092209406197\n",
            "INFO:tensorflow:TPU -> CPU beta_1: 0.8999999761581421\n",
            "INFO:tensorflow:TPU -> CPU beta_2: 0.9800000190734863\n",
            "INFO:tensorflow:TPU -> CPU decay: 0.0\n",
            "INFO:tensorflow:TPU -> CPU epsilon: 1e-08\n",
            "WARNING:tensorflow:Cannot update non-variable config: epsilon\n",
            "INFO:tensorflow:TPU -> CPU amsgrad: False\n",
            "WARNING:tensorflow:Cannot update non-variable config: amsgrad\n",
            "INFO:tensorflow:Epoch 00005: saving model to /content/drive/My Drive/transformer_model/model.05.hdf5\n",
            "INFO:tensorflow:Elapsed_time=5079.518\n"
          ],
          "name": "stdout"
        }
      ]
    },
    {
      "cell_type": "code",
      "metadata": {
        "id": "OmDuUn5DJazL",
        "colab_type": "code",
        "colab": {}
      },
      "source": [
        "tf.keras.backend.clear_session()\n",
        "from src.transformer import TransformerWrapper\n",
        "trans = TransformerWrapper('/content/drive/My Drive/transformer_model/model.05.hdf5')"
      ],
      "execution_count": 0,
      "outputs": []
    },
    {
      "cell_type": "code",
      "metadata": {
        "id": "YGyZeXy6Je3O",
        "colab_type": "code",
        "colab": {
          "base_uri": "https://localhost:8080/",
          "height": 34
        },
        "outputId": "60174c3e-0926-4cf0-85a6-87d184d5e951"
      },
      "source": [
        "trans('Kyoto is a Japanese city.')"
      ],
      "execution_count": 21,
      "outputs": [
        {
          "output_type": "execute_result",
          "data": {
            "text/plain": [
              "'京都(きょうと)は、日本の京都市のひとつ。'"
            ]
          },
          "metadata": {
            "tags": []
          },
          "execution_count": 21
        }
      ]
    },
    {
      "cell_type": "code",
      "metadata": {
        "id": "almLsQ92JhBN",
        "colab_type": "code",
        "colab": {
          "base_uri": "https://localhost:8080/",
          "height": 34
        },
        "outputId": "e6bf5858-2f66-4b2b-9a2b-c4a1252f2760"
      },
      "source": [
        "trans('建立')"
      ],
      "execution_count": 26,
      "outputs": [
        {
          "output_type": "execute_result",
          "data": {
            "text/plain": [
              "'用語'"
            ]
          },
          "metadata": {
            "tags": []
          },
          "execution_count": 26
        }
      ]
    },
    {
      "cell_type": "code",
      "metadata": {
        "id": "AaSbtkPr91m9",
        "colab_type": "code",
        "colab": {
          "base_uri": "https://localhost:8080/",
          "height": 34
        },
        "outputId": "409415ad-787b-4706-becb-375df82cffa5"
      },
      "source": [
        "!ls"
      ],
      "execution_count": 7,
      "outputs": [
        {
          "output_type": "stream",
          "text": [
            "drive  kyotodata  sample_data  tf-keras-transformer\n"
          ],
          "name": "stdout"
        }
      ]
    },
    {
      "cell_type": "code",
      "metadata": {
        "id": "R19hqOBOAPfG",
        "colab_type": "code",
        "colab": {}
      },
      "source": [
        "import google.colab\n",
        "import googleapiclient.discovery\n",
        "import googleapiclient.http"
      ],
      "execution_count": 0,
      "outputs": []
    },
    {
      "cell_type": "code",
      "metadata": {
        "id": "1YnGYlPbASNg",
        "colab_type": "code",
        "colab": {}
      },
      "source": [
        "google.colab.auth.authenticate_user()\n",
        "drive_service = googleapiclient.discovery.build('drive', 'v3')"
      ],
      "execution_count": 0,
      "outputs": []
    },
    {
      "cell_type": "code",
      "metadata": {
        "id": "8TCwxurcAc1q",
        "colab_type": "code",
        "colab": {}
      },
      "source": [
        "saving_filename = \"data/kyoto_en_ja_valid.csv\"\n",
        "\n",
        "file_metadata = {\n",
        "  'name': saving_filename,\n",
        "  'mimeType': 'application/octet-stream'\n",
        "}\n",
        "media = googleapiclient.http.MediaFileUpload(saving_filename, \n",
        "                        mimetype='application/octet-stream',\n",
        "                        resumable=True)\n",
        "created = drive_service.files().create(body=file_metadata,\n",
        "                                       media_body=media,\n",
        "                                       fields='id').execute()"
      ],
      "execution_count": 0,
      "outputs": []
    },
    {
      "cell_type": "code",
      "metadata": {
        "id": "RV5BUJGrAw_v",
        "colab_type": "code",
        "colab": {
          "base_uri": "https://localhost:8080/",
          "height": 34
        },
        "outputId": "2ff2eae9-28e0-4813-fcc5-aa0b45d46611"
      },
      "source": [
        "!ls '/content/drive/My Drive'"
      ],
      "execution_count": 3,
      "outputs": [
        {
          "output_type": "stream",
          "text": [
            "transformer_model\n"
          ],
          "name": "stdout"
        }
      ]
    },
    {
      "cell_type": "code",
      "metadata": {
        "id": "wEv6M7LIOVZy",
        "colab_type": "code",
        "colab": {
          "base_uri": "https://localhost:8080/",
          "height": 51
        },
        "outputId": "6e6709f8-9108-4c09-9735-566df171de65"
      },
      "source": [
        "import tensorflow as tf\n",
        "print(tf.__version__)\n",
        "\n",
        "import keras\n",
        "print(keras.__version__)"
      ],
      "execution_count": 16,
      "outputs": [
        {
          "output_type": "stream",
          "text": [
            "1.13.1\n",
            "2.2.5\n"
          ],
          "name": "stdout"
        }
      ]
    },
    {
      "cell_type": "code",
      "metadata": {
        "id": "O39JS4UyuX5I",
        "colab_type": "code",
        "colab": {}
      },
      "source": [
        "!apt-get --purge remove cuda*"
      ],
      "execution_count": 0,
      "outputs": []
    },
    {
      "cell_type": "code",
      "metadata": {
        "id": "oDCC9qCzuiWo",
        "colab_type": "code",
        "colab": {}
      },
      "source": [
        "!apt autoremove"
      ],
      "execution_count": 0,
      "outputs": []
    },
    {
      "cell_type": "code",
      "metadata": {
        "id": "XM27SgtSu66P",
        "colab_type": "code",
        "colab": {}
      },
      "source": [
        "!wget https://developer.nvidia.com/compute/cuda/9.0/Prod/local_installers/cuda-repo-ubuntu1604-9-0-local_9.0.176-1_amd64-deb"
      ],
      "execution_count": 0,
      "outputs": []
    },
    {
      "cell_type": "code",
      "metadata": {
        "id": "HN3_favhvLZ-",
        "colab_type": "code",
        "colab": {}
      },
      "source": [
        "!dpkg -i cuda-repo-ubuntu1604-9-0-local_9.0.176-1_amd64-deb"
      ],
      "execution_count": 0,
      "outputs": []
    },
    {
      "cell_type": "code",
      "metadata": {
        "id": "TVGCvLYWvXDN",
        "colab_type": "code",
        "colab": {}
      },
      "source": [
        "!apt-key add /var/cuda-repo-*/7fa2af80.pub"
      ],
      "execution_count": 0,
      "outputs": []
    },
    {
      "cell_type": "code",
      "metadata": {
        "id": "pxiZ8fxcvbHr",
        "colab_type": "code",
        "colab": {}
      },
      "source": [
        "!apt-get update"
      ],
      "execution_count": 0,
      "outputs": []
    },
    {
      "cell_type": "code",
      "metadata": {
        "id": "8eI9JPKRvebR",
        "colab_type": "code",
        "colab": {}
      },
      "source": [
        "!apt-get install cuda-9-0"
      ],
      "execution_count": 0,
      "outputs": []
    },
    {
      "cell_type": "code",
      "metadata": {
        "id": "t51Fss_0wzS5",
        "colab_type": "code",
        "colab": {}
      },
      "source": [
        "!pip uninstall -y tensorflow"
      ],
      "execution_count": 0,
      "outputs": []
    },
    {
      "cell_type": "code",
      "metadata": {
        "id": "zCj1vDvgw8nl",
        "colab_type": "code",
        "colab": {}
      },
      "source": [
        "!pip install tensorflow==1.13.1"
      ],
      "execution_count": 0,
      "outputs": []
    },
    {
      "cell_type": "code",
      "metadata": {
        "id": "vjNsyfEExy0i",
        "colab_type": "code",
        "colab": {}
      },
      "source": [
        "import tensorflow as tf\n",
        "print(tf.__version__)"
      ],
      "execution_count": 0,
      "outputs": []
    }
  ]
}